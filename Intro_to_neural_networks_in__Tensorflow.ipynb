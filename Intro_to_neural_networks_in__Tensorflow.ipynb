{
  "nbformat": 4,
  "nbformat_minor": 0,
  "metadata": {
    "colab": {
      "provenance": [],
      "gpuType": "T4",
      "mount_file_id": "1NA_YcRtBProVlnfEtLCyLXo2H3Mxqiy2",
      "authorship_tag": "ABX9TyNlTeetrNT/t12nYWEoyhSO",
      "include_colab_link": true
    },
    "kernelspec": {
      "name": "python3",
      "display_name": "Python 3"
    },
    "language_info": {
      "name": "python"
    },
    "accelerator": "GPU"
  },
  "cells": [
    {
      "cell_type": "markdown",
      "metadata": {
        "id": "view-in-github",
        "colab_type": "text"
      },
      "source": [
        "<a href=\"https://colab.research.google.com/github/Arraj2611/my-codespace-/blob/main/Intro_to_neural_networks_in__Tensorflow.ipynb\" target=\"_parent\"><img src=\"https://colab.research.google.com/assets/colab-badge.svg\" alt=\"Open In Colab\"/></a>"
      ]
    },
    {
      "cell_type": "markdown",
      "source": [
        "# Introduction to Regression with Neural Networks in TensorFlow\n",
        "There are many definitions for a regression problem but in our case, we're going to simplify it: predicting a numerical variable based on some other combination of variables, even shorter... predicting a number."
      ],
      "metadata": {
        "id": "ST1ivXtQKYVt"
      }
    },
    {
      "cell_type": "code",
      "execution_count": 1,
      "metadata": {
        "id": "lySV8ewAIbD1",
        "colab": {
          "base_uri": "https://localhost:8080/"
        },
        "outputId": "67d3f1c4-3ce3-4038-f11a-9529143d3e88"
      },
      "outputs": [
        {
          "output_type": "stream",
          "name": "stdout",
          "text": [
            "2.14.0\n"
          ]
        }
      ],
      "source": [
        "# Import TensorFlow\n",
        "import tensorflow as tf\n",
        "print(tf.__version__)"
      ]
    },
    {
      "cell_type": "code",
      "source": [
        "import numpy as np\n",
        "import matplotlib.pyplot as plt\n",
        "\n",
        "# Create features\n",
        "X = np.array([-7.0, -4.0, -1.0, 2.0, 5.0, 8.0, 11.0, 14.0])\n",
        "\n",
        "# Create labels\n",
        "y = np.array([3.0, 6.0, 9.0, 12.0, 15.0, 18.0, 21.0, 24.0])\n",
        "\n",
        "# Visualize it\n",
        "plt.scatter(X, y);"
      ],
      "metadata": {
        "colab": {
          "base_uri": "https://localhost:8080/",
          "height": 435
        },
        "id": "bR6Hz90BKnES",
        "outputId": "21974e93-8237-47e7-9daf-1cd9da9be198"
      },
      "execution_count": 2,
      "outputs": [
        {
          "output_type": "display_data",
          "data": {
            "text/plain": [
              "<Figure size 640x480 with 1 Axes>"
            ],
            "image/png": "[encoded data removed]"
          },
          "metadata": {}
        }
      ]
    },
    {
      "cell_type": "code",
      "source": [
        "y == X + 10"
      ],
      "metadata": {
        "colab": {
          "base_uri": "https://localhost:8080/"
        },
        "id": "XpEgvDAvM70e",
        "outputId": "228e34fa-acd9-4879-d76a-e229b806deb0"
      },
      "execution_count": 3,
      "outputs": [
        {
          "output_type": "execute_result",
          "data": {
            "text/plain": [
              "array([ True,  True,  True,  True,  True,  True,  True,  True])"
            ]
          },
          "metadata": {},
          "execution_count": 3
        }
      ]
    },
    {
      "cell_type": "markdown",
      "source": [
        "## Input and output shapes"
      ],
      "metadata": {
        "id": "4ogGBPjXNGtM"
      }
    },
    {
      "cell_type": "code",
      "source": [
        "# Create a demo tensor for our housing price prediction problem\n",
        "house_info = tf.constant([\"bedroom\", \"bathroom\", \"garage\"])\n",
        "house_price = tf.constant([939700])\n",
        "house_info, house_price"
      ],
      "metadata": {
        "colab": {
          "base_uri": "https://localhost:8080/"
        },
        "id": "ZcKvJqoVNC_4",
        "outputId": "9b125586-2b97-455c-82bd-31b69561cfea"
      },
      "execution_count": 4,
      "outputs": [
        {
          "output_type": "execute_result",
          "data": {
            "text/plain": [
              "(<tf.Tensor: shape=(3,), dtype=string, numpy=array([b'bedroom', b'bathroom', b'garage'], dtype=object)>,\n",
              " <tf.Tensor: shape=(1,), dtype=int32, numpy=array([939700], dtype=int32)>)"
            ]
          },
          "metadata": {},
          "execution_count": 4
        }
      ]
    },
    {
      "cell_type": "code",
      "source": [
        "X[0], y[0]"
      ],
      "metadata": {
        "colab": {
          "base_uri": "https://localhost:8080/"
        },
        "id": "7g1dW6DtNLMp",
        "outputId": "246ea442-837b-4733-e929-40705114e5eb"
      },
      "execution_count": 5,
      "outputs": [
        {
          "output_type": "execute_result",
          "data": {
            "text/plain": [
              "(-7.0, 3.0)"
            ]
          },
          "metadata": {},
          "execution_count": 5
        }
      ]
    },
    {
      "cell_type": "code",
      "source": [
        "X[1], y[1]"
      ],
      "metadata": {
        "colab": {
          "base_uri": "https://localhost:8080/"
        },
        "id": "8_YXHxc7NZ7T",
        "outputId": "aeb7bbef-f4d5-41b4-dae9-175e75b08e47"
      },
      "execution_count": 6,
      "outputs": [
        {
          "output_type": "execute_result",
          "data": {
            "text/plain": [
              "(-4.0, 6.0)"
            ]
          },
          "metadata": {},
          "execution_count": 6
        }
      ]
    },
    {
      "cell_type": "code",
      "source": [
        "input_shape = X[0].shape\n",
        "output_shape = y[0].shape\n",
        "input_shape, output_shape"
      ],
      "metadata": {
        "colab": {
          "base_uri": "https://localhost:8080/"
        },
        "id": "JMGvOpQ6NcxS",
        "outputId": "47cecec1-2c1e-4b57-e1c2-b938a9878dbb"
      },
      "execution_count": 7,
      "outputs": [
        {
          "output_type": "execute_result",
          "data": {
            "text/plain": [
              "((), ())"
            ]
          },
          "metadata": {},
          "execution_count": 7
        }
      ]
    },
    {
      "cell_type": "code",
      "source": [
        "X[0].ndim"
      ],
      "metadata": {
        "colab": {
          "base_uri": "https://localhost:8080/"
        },
        "id": "MnxrVAhPOWGS",
        "outputId": "6140be7f-e452-4452-a575-86ca87e949a4"
      },
      "execution_count": 8,
      "outputs": [
        {
          "output_type": "execute_result",
          "data": {
            "text/plain": [
              "0"
            ]
          },
          "metadata": {},
          "execution_count": 8
        }
      ]
    },
    {
      "cell_type": "code",
      "source": [
        "X[0], y[0]"
      ],
      "metadata": {
        "colab": {
          "base_uri": "https://localhost:8080/"
        },
        "id": "ik3LKZZ5OYc6",
        "outputId": "116a3130-2903-45ef-a2f2-5107fc5c2568"
      },
      "execution_count": 9,
      "outputs": [
        {
          "output_type": "execute_result",
          "data": {
            "text/plain": [
              "(-7.0, 3.0)"
            ]
          },
          "metadata": {},
          "execution_count": 9
        }
      ]
    },
    {
      "cell_type": "code",
      "source": [
        "# Turn our NumPy arrays into tensors with dtype float32\n",
        "X = tf.cast(tf.constant(X), dtype=tf.float32)\n",
        "y = tf.cast(tf.constant(y), dtype=tf.float32)\n",
        "X, y"
      ],
      "metadata": {
        "colab": {
          "base_uri": "https://localhost:8080/"
        },
        "id": "L7995OdAOeB5",
        "outputId": "6897e1e5-e2d3-4f95-c4eb-19d41ea6774f"
      },
      "execution_count": 10,
      "outputs": [
        {
          "output_type": "execute_result",
          "data": {
            "text/plain": [
              "(<tf.Tensor: shape=(8,), dtype=float32, numpy=array([-7., -4., -1.,  2.,  5.,  8., 11., 14.], dtype=float32)>,\n",
              " <tf.Tensor: shape=(8,), dtype=float32, numpy=array([ 3.,  6.,  9., 12., 15., 18., 21., 24.], dtype=float32)>)"
            ]
          },
          "metadata": {},
          "execution_count": 10
        }
      ]
    },
    {
      "cell_type": "code",
      "source": [
        "input_shape = X[0].shape\n",
        "output_shape = y[0].shape\n",
        "input_shape, output_shape"
      ],
      "metadata": {
        "id": "Z604WMevPNfZ",
        "colab": {
          "base_uri": "https://localhost:8080/"
        },
        "outputId": "cf0b8523-7320-4d4b-d104-985f64111b9c"
      },
      "execution_count": 11,
      "outputs": [
        {
          "output_type": "execute_result",
          "data": {
            "text/plain": [
              "(TensorShape([]), TensorShape([]))"
            ]
          },
          "metadata": {},
          "execution_count": 11
        }
      ]
    },
    {
      "cell_type": "code",
      "source": [
        "plt.scatter(X, y)"
      ],
      "metadata": {
        "colab": {
          "base_uri": "https://localhost:8080/",
          "height": 452
        },
        "id": "CGn4Q5Aue0iT",
        "outputId": "55e056d8-d891-428d-f1bd-6a21959429bb"
      },
      "execution_count": 12,
      "outputs": [
        {
          "output_type": "execute_result",
          "data": {
            "text/plain": [
              "<matplotlib.collections.PathCollection at 0x7ec65bbc57b0>"
            ]
          },
          "metadata": {},
          "execution_count": 12
        },
        {
          "output_type": "display_data",
          "data": {
            "text/plain": [
              "<Figure size 640x480 with 1 Axes>"
            ],
            "image/png": "[encoded data removed]"
          },
          "metadata": {}
        }
      ]
    },
    {
      "cell_type": "markdown",
      "source": [
        "## Steps in modelling with TensorFlow\n",
        "* **Creating a model** - define the input and output layers, as well as the hidden layers of a deep learning model.\n",
        "* **Compiling a model** - define the loss funtion (in other words, the function which tells our model how wrong it is) and the optimizer (tells our model how to improve the patterns its learning) and evaluation metrics (what we can use to interpret the performance of our model).\n",
        "* **Fitting a model** - letting the model try to find patterns between X & y (features and labels)."
      ],
      "metadata": {
        "id": "hP7zP-yFfDmk"
      }
    },
    {
      "cell_type": "code",
      "source": [
        "# Set random seed\n",
        "tf.random.set_seed(42)\n",
        "\n",
        "# 1. Create a model using the Sequential API\n",
        "model = tf.keras.Sequential([\n",
        "  tf.keras.layers.Dense(1)\n",
        "])\n",
        "\n",
        "# 2. Compile the model\n",
        "model.compile(loss=tf.keras.losses.mae, # mae is short for mean absolute error\n",
        "              optimizer=tf.keras.optimizers.SGD(), # sgd is short for stochasitc gradient descent\n",
        "              metrics=[\"mae\"])\n",
        "\n",
        "# 3. Fit the model\n",
        "model.fit(tf.expand_dims(X, axis=-1), y, epochs=5)"
      ],
      "metadata": {
        "colab": {
          "base_uri": "https://localhost:8080/"
        },
        "id": "LVsXvZnrfAZl",
        "outputId": "c17bb8c8-a331-4a33-a485-bd7b9382220f"
      },
      "execution_count": 13,
      "outputs": [
        {
          "output_type": "stream",
          "name": "stdout",
          "text": [
            "Epoch 1/5\n",
            "1/1 [==============================] - 4s 4s/step - loss: 14.8002 - mae: 14.8002\n",
            "Epoch 2/5\n",
            "1/1 [==============================] - 0s 12ms/step - loss: 14.6677 - mae: 14.6677\n",
            "Epoch 3/5\n",
            "1/1 [==============================] - 0s 12ms/step - loss: 14.5352 - mae: 14.5352\n",
            "Epoch 4/5\n",
            "1/1 [==============================] - 0s 11ms/step - loss: 14.4027 - mae: 14.4027\n",
            "Epoch 5/5\n",
            "1/1 [==============================] - 0s 12ms/step - loss: 14.2702 - mae: 14.2702\n"
          ]
        },
        {
          "output_type": "execute_result",
          "data": {
            "text/plain": [
              "<keras.src.callbacks.History at 0x7ec651332080>"
            ]
          },
          "metadata": {},
          "execution_count": 13
        }
      ]
    },
    {
      "cell_type": "code",
      "source": [
        "# Check out X and y\n",
        "X, y"
      ],
      "metadata": {
        "colab": {
          "base_uri": "https://localhost:8080/"
        },
        "id": "MwIrkUW7ffIn",
        "outputId": "6532e1b2-056d-4ae2-a99d-5a0f17a19f42"
      },
      "execution_count": 14,
      "outputs": [
        {
          "output_type": "execute_result",
          "data": {
            "text/plain": [
              "(<tf.Tensor: shape=(8,), dtype=float32, numpy=array([-7., -4., -1.,  2.,  5.,  8., 11., 14.], dtype=float32)>,\n",
              " <tf.Tensor: shape=(8,), dtype=float32, numpy=array([ 3.,  6.,  9., 12., 15., 18., 21., 24.], dtype=float32)>)"
            ]
          },
          "metadata": {},
          "execution_count": 14
        }
      ]
    },
    {
      "cell_type": "code",
      "source": [
        "# Try and make a prediction using our model\n",
        "y_pred = model.predict([17.0])\n",
        "y_pred\n"
      ],
      "metadata": {
        "colab": {
          "base_uri": "https://localhost:8080/"
        },
        "id": "Qv1w-Ky-np0S",
        "outputId": "a1c1881c-50e3-447d-bd57-20b9044cfea5"
      },
      "execution_count": 15,
      "outputs": [
        {
          "output_type": "stream",
          "name": "stdout",
          "text": [
            "1/1 [==============================] - 0s 76ms/step\n"
          ]
        },
        {
          "output_type": "execute_result",
          "data": {
            "text/plain": [
              "array([[-3.2903466]], dtype=float32)"
            ]
          },
          "metadata": {},
          "execution_count": 15
        }
      ]
    },
    {
      "cell_type": "code",
      "source": [
        "y_pred + 11"
      ],
      "metadata": {
        "colab": {
          "base_uri": "https://localhost:8080/"
        },
        "id": "Z6u3q3s_ntJl",
        "outputId": "9cb28616-2b97-462c-a5d4-e6f5d3be9504"
      },
      "execution_count": 16,
      "outputs": [
        {
          "output_type": "execute_result",
          "data": {
            "text/plain": [
              "array([[7.7096534]], dtype=float32)"
            ]
          },
          "metadata": {},
          "execution_count": 16
        }
      ]
    },
    {
      "cell_type": "markdown",
      "source": [
        "## Improving our model\n",
        "We can improve our model, by altering the steps we took to create a model.\n",
        "\n",
        "1. **Creating a model** - here we might add more layers, increase the number of hidden units (all called neurons) within each of the hideen layers, change the activation function of each layer.\n",
        "2. **Compiling a model** - here we might change the optimization function or perhaps the learning rate of the optimization function.\n",
        "3. **Fitting a model** - here we might fit a model for more epochs (leave it training for longer) or on more data (give the model more examples to learn from)."
      ],
      "metadata": {
        "id": "oqey1Z8on6v0"
      }
    },
    {
      "cell_type": "code",
      "source": [
        "# Let's rebuild our model\n",
        "\n",
        "# 1. Create the model\n",
        "model = tf.keras.Sequential([\n",
        "  tf.keras.layers.Dense(1)\n",
        "])\n",
        "\n",
        "# 2. Compile the model\n",
        "model.compile(loss=tf.keras.losses.mae,\n",
        "              optimizer=tf.keras.optimizers.SGD(),\n",
        "              metrics=[\"mae\"])\n",
        "\n",
        "# 3. Fit the model (this time we'll train for longer)\n",
        "model.fit(tf.expand_dims(X, axis=-1), y, epochs=100)"
      ],
      "metadata": {
        "colab": {
          "base_uri": "https://localhost:8080/"
        },
        "id": "bB3EOccsn1I3",
        "outputId": "6b3e0ae3-f663-4c69-cd9c-64316fb3685a"
      },
      "execution_count": 17,
      "outputs": [
        {
          "output_type": "stream",
          "name": "stdout",
          "text": [
            "Epoch 1/100\n",
            "1/1 [==============================] - 0s 361ms/step - loss: 9.3088 - mae: 9.3088\n",
            "Epoch 2/100\n",
            "1/1 [==============================] - 0s 12ms/step - loss: 9.1763 - mae: 9.1763\n",
            "Epoch 3/100\n",
            "1/1 [==============================] - 0s 11ms/step - loss: 9.0438 - mae: 9.0438\n",
            "Epoch 4/100\n",
            "1/1 [==============================] - 0s 12ms/step - loss: 8.9113 - mae: 8.9113\n",
            "Epoch 5/100\n",
            "1/1 [==============================] - 0s 12ms/step - loss: 8.7788 - mae: 8.7788\n",
            "Epoch 6/100\n",
            "1/1 [==============================] - 0s 11ms/step - loss: 8.6463 - mae: 8.6463\n",
            "Epoch 7/100\n",
            "1/1 [==============================] - 0s 11ms/step - loss: 8.5138 - mae: 8.5138\n",
            "Epoch 8/100\n",
            "1/1 [==============================] - 0s 11ms/step - loss: 8.3813 - mae: 8.3813\n",
            "Epoch 9/100\n",
            "1/1 [==============================] - 0s 11ms/step - loss: 8.2488 - mae: 8.2488\n",
            "Epoch 10/100\n",
            "1/1 [==============================] - 0s 12ms/step - loss: 8.1163 - mae: 8.1163\n",
            "Epoch 11/100\n",
            "1/1 [==============================] - 0s 11ms/step - loss: 7.9838 - mae: 7.9838\n",
            "Epoch 12/100\n",
            "1/1 [==============================] - 0s 11ms/step - loss: 7.8513 - mae: 7.8513\n",
            "Epoch 13/100\n",
            "1/1 [==============================] - 0s 12ms/step - loss: 7.7188 - mae: 7.7188\n",
            "Epoch 14/100\n",
            "1/1 [==============================] - 0s 11ms/step - loss: 7.5863 - mae: 7.5863\n",
            "Epoch 15/100\n",
            "1/1 [==============================] - 0s 12ms/step - loss: 7.4538 - mae: 7.4538\n",
            "Epoch 16/100\n",
            "1/1 [==============================] - 0s 13ms/step - loss: 7.3875 - mae: 7.3875\n",
            "Epoch 17/100\n",
            "1/1 [==============================] - 0s 10ms/step - loss: 7.3819 - mae: 7.3819\n",
            "Epoch 18/100\n",
            "1/1 [==============================] - 0s 12ms/step - loss: 7.3762 - mae: 7.3762\n",
            "Epoch 19/100\n",
            "1/1 [==============================] - 0s 15ms/step - loss: 7.3706 - mae: 7.3706\n",
            "Epoch 20/100\n",
            "1/1 [==============================] - 0s 12ms/step - loss: 7.3650 - mae: 7.3650\n",
            "Epoch 21/100\n",
            "1/1 [==============================] - 0s 16ms/step - loss: 7.3594 - mae: 7.3594\n",
            "Epoch 22/100\n",
            "1/1 [==============================] - 0s 16ms/step - loss: 7.3538 - mae: 7.3538\n",
            "Epoch 23/100\n",
            "1/1 [==============================] - 0s 15ms/step - loss: 7.3481 - mae: 7.3481\n",
            "Epoch 24/100\n",
            "1/1 [==============================] - 0s 13ms/step - loss: 7.3425 - mae: 7.3425\n",
            "Epoch 25/100\n",
            "1/1 [==============================] - 0s 12ms/step - loss: 7.3369 - mae: 7.3369\n",
            "Epoch 26/100\n",
            "1/1 [==============================] - 0s 11ms/step - loss: 7.3312 - mae: 7.3312\n",
            "Epoch 27/100\n",
            "1/1 [==============================] - 0s 12ms/step - loss: 7.3256 - mae: 7.3256\n",
            "Epoch 28/100\n",
            "1/1 [==============================] - 0s 11ms/step - loss: 7.3200 - mae: 7.3200\n",
            "Epoch 29/100\n",
            "1/1 [==============================] - 0s 10ms/step - loss: 7.3144 - mae: 7.3144\n",
            "Epoch 30/100\n",
            "1/1 [==============================] - 0s 10ms/step - loss: 7.3087 - mae: 7.3087\n",
            "Epoch 31/100\n",
            "1/1 [==============================] - 0s 13ms/step - loss: 7.3031 - mae: 7.3031\n",
            "Epoch 32/100\n",
            "1/1 [==============================] - 0s 11ms/step - loss: 7.2975 - mae: 7.2975\n",
            "Epoch 33/100\n",
            "1/1 [==============================] - 0s 17ms/step - loss: 7.2919 - mae: 7.2919\n",
            "Epoch 34/100\n",
            "1/1 [==============================] - 0s 16ms/step - loss: 7.2863 - mae: 7.2863\n",
            "Epoch 35/100\n",
            "1/1 [==============================] - 0s 13ms/step - loss: 7.2806 - mae: 7.2806\n",
            "Epoch 36/100\n",
            "1/1 [==============================] - 0s 12ms/step - loss: 7.2750 - mae: 7.2750\n",
            "Epoch 37/100\n",
            "1/1 [==============================] - 0s 14ms/step - loss: 7.2694 - mae: 7.2694\n",
            "Epoch 38/100\n",
            "1/1 [==============================] - 0s 14ms/step - loss: 7.2638 - mae: 7.2638\n",
            "Epoch 39/100\n",
            "1/1 [==============================] - 0s 11ms/step - loss: 7.2581 - mae: 7.2581\n",
            "Epoch 40/100\n",
            "1/1 [==============================] - 0s 9ms/step - loss: 7.2525 - mae: 7.2525\n",
            "Epoch 41/100\n",
            "1/1 [==============================] - 0s 9ms/step - loss: 7.2469 - mae: 7.2469\n",
            "Epoch 42/100\n",
            "1/1 [==============================] - 0s 10ms/step - loss: 7.2413 - mae: 7.2413\n",
            "Epoch 43/100\n",
            "1/1 [==============================] - 0s 11ms/step - loss: 7.2356 - mae: 7.2356\n",
            "Epoch 44/100\n",
            "1/1 [==============================] - 0s 11ms/step - loss: 7.2300 - mae: 7.2300\n",
            "Epoch 45/100\n",
            "1/1 [==============================] - 0s 11ms/step - loss: 7.2244 - mae: 7.2244\n",
            "Epoch 46/100\n",
            "1/1 [==============================] - 0s 10ms/step - loss: 7.2188 - mae: 7.2188\n",
            "Epoch 47/100\n",
            "1/1 [==============================] - 0s 12ms/step - loss: 7.2131 - mae: 7.2131\n",
            "Epoch 48/100\n",
            "1/1 [==============================] - 0s 11ms/step - loss: 7.2075 - mae: 7.2075\n",
            "Epoch 49/100\n",
            "1/1 [==============================] - 0s 12ms/step - loss: 7.2019 - mae: 7.2019\n",
            "Epoch 50/100\n",
            "1/1 [==============================] - 0s 10ms/step - loss: 7.1962 - mae: 7.1962\n",
            "Epoch 51/100\n",
            "1/1 [==============================] - 0s 11ms/step - loss: 7.1906 - mae: 7.1906\n",
            "Epoch 52/100\n",
            "1/1 [==============================] - 0s 11ms/step - loss: 7.1850 - mae: 7.1850\n",
            "Epoch 53/100\n",
            "1/1 [==============================] - 0s 11ms/step - loss: 7.1794 - mae: 7.1794\n",
            "Epoch 54/100\n",
            "1/1 [==============================] - 0s 11ms/step - loss: 7.1738 - mae: 7.1738\n",
            "Epoch 55/100\n",
            "1/1 [==============================] - 0s 13ms/step - loss: 7.1681 - mae: 7.1681\n",
            "Epoch 56/100\n",
            "1/1 [==============================] - 0s 13ms/step - loss: 7.1625 - mae: 7.1625\n",
            "Epoch 57/100\n",
            "1/1 [==============================] - 0s 10ms/step - loss: 7.1569 - mae: 7.1569\n",
            "Epoch 58/100\n",
            "1/1 [==============================] - 0s 10ms/step - loss: 7.1512 - mae: 7.1512\n",
            "Epoch 59/100\n",
            "1/1 [==============================] - 0s 11ms/step - loss: 7.1456 - mae: 7.1456\n",
            "Epoch 60/100\n",
            "1/1 [==============================] - 0s 11ms/step - loss: 7.1400 - mae: 7.1400\n",
            "Epoch 61/100\n",
            "1/1 [==============================] - 0s 10ms/step - loss: 7.1344 - mae: 7.1344\n",
            "Epoch 62/100\n",
            "1/1 [==============================] - 0s 11ms/step - loss: 7.1287 - mae: 7.1287\n",
            "Epoch 63/100\n",
            "1/1 [==============================] - 0s 11ms/step - loss: 7.1231 - mae: 7.1231\n",
            "Epoch 64/100\n",
            "1/1 [==============================] - 0s 12ms/step - loss: 7.1175 - mae: 7.1175\n",
            "Epoch 65/100\n",
            "1/1 [==============================] - 0s 10ms/step - loss: 7.1119 - mae: 7.1119\n",
            "Epoch 66/100\n",
            "1/1 [==============================] - 0s 13ms/step - loss: 7.1063 - mae: 7.1063\n",
            "Epoch 67/100\n",
            "1/1 [==============================] - 0s 12ms/step - loss: 7.1006 - mae: 7.1006\n",
            "Epoch 68/100\n",
            "1/1 [==============================] - 0s 12ms/step - loss: 7.0950 - mae: 7.0950\n",
            "Epoch 69/100\n",
            "1/1 [==============================] - 0s 12ms/step - loss: 7.0894 - mae: 7.0894\n",
            "Epoch 70/100\n",
            "1/1 [==============================] - 0s 12ms/step - loss: 7.0838 - mae: 7.0838\n",
            "Epoch 71/100\n",
            "1/1 [==============================] - 0s 12ms/step - loss: 7.0781 - mae: 7.0781\n",
            "Epoch 72/100\n",
            "1/1 [==============================] - 0s 12ms/step - loss: 7.0725 - mae: 7.0725\n",
            "Epoch 73/100\n",
            "1/1 [==============================] - 0s 12ms/step - loss: 7.0669 - mae: 7.0669\n",
            "Epoch 74/100\n",
            "1/1 [==============================] - 0s 13ms/step - loss: 7.0613 - mae: 7.0613\n",
            "Epoch 75/100\n",
            "1/1 [==============================] - 0s 15ms/step - loss: 7.0556 - mae: 7.0556\n",
            "Epoch 76/100\n",
            "1/1 [==============================] - 0s 11ms/step - loss: 7.0500 - mae: 7.0500\n",
            "Epoch 77/100\n",
            "1/1 [==============================] - 0s 11ms/step - loss: 7.0444 - mae: 7.0444\n",
            "Epoch 78/100\n",
            "1/1 [==============================] - 0s 12ms/step - loss: 7.0388 - mae: 7.0388\n",
            "Epoch 79/100\n",
            "1/1 [==============================] - 0s 11ms/step - loss: 7.0331 - mae: 7.0331\n",
            "Epoch 80/100\n",
            "1/1 [==============================] - 0s 11ms/step - loss: 7.0275 - mae: 7.0275\n",
            "Epoch 81/100\n",
            "1/1 [==============================] - 0s 12ms/step - loss: 7.0219 - mae: 7.0219\n",
            "Epoch 82/100\n",
            "1/1 [==============================] - 0s 11ms/step - loss: 7.0163 - mae: 7.0163\n",
            "Epoch 83/100\n",
            "1/1 [==============================] - 0s 9ms/step - loss: 7.0106 - mae: 7.0106\n",
            "Epoch 84/100\n",
            "1/1 [==============================] - 0s 12ms/step - loss: 7.0050 - mae: 7.0050\n",
            "Epoch 85/100\n",
            "1/1 [==============================] - 0s 11ms/step - loss: 6.9994 - mae: 6.9994\n",
            "Epoch 86/100\n",
            "1/1 [==============================] - 0s 11ms/step - loss: 6.9938 - mae: 6.9938\n",
            "Epoch 87/100\n",
            "1/1 [==============================] - 0s 11ms/step - loss: 6.9881 - mae: 6.9881\n",
            "Epoch 88/100\n",
            "1/1 [==============================] - 0s 10ms/step - loss: 6.9825 - mae: 6.9825\n",
            "Epoch 89/100\n",
            "1/1 [==============================] - 0s 10ms/step - loss: 6.9769 - mae: 6.9769\n",
            "Epoch 90/100\n",
            "1/1 [==============================] - 0s 13ms/step - loss: 6.9712 - mae: 6.9712\n",
            "Epoch 91/100\n",
            "1/1 [==============================] - 0s 11ms/step - loss: 6.9656 - mae: 6.9656\n",
            "Epoch 92/100\n",
            "1/1 [==============================] - 0s 10ms/step - loss: 6.9600 - mae: 6.9600\n",
            "Epoch 93/100\n",
            "1/1 [==============================] - 0s 12ms/step - loss: 6.9544 - mae: 6.9544\n",
            "Epoch 94/100\n",
            "1/1 [==============================] - 0s 11ms/step - loss: 6.9488 - mae: 6.9488\n",
            "Epoch 95/100\n",
            "1/1 [==============================] - 0s 14ms/step - loss: 6.9431 - mae: 6.9431\n",
            "Epoch 96/100\n",
            "1/1 [==============================] - 0s 20ms/step - loss: 6.9375 - mae: 6.9375\n",
            "Epoch 97/100\n",
            "1/1 [==============================] - 0s 18ms/step - loss: 6.9319 - mae: 6.9319\n",
            "Epoch 98/100\n",
            "1/1 [==============================] - 0s 21ms/step - loss: 6.9263 - mae: 6.9263\n",
            "Epoch 99/100\n",
            "1/1 [==============================] - 0s 30ms/step - loss: 6.9206 - mae: 6.9206\n",
            "Epoch 100/100\n",
            "1/1 [==============================] - 0s 21ms/step - loss: 6.9150 - mae: 6.9150\n"
          ]
        },
        {
          "output_type": "execute_result",
          "data": {
            "text/plain": [
              "<keras.src.callbacks.History at 0x7ec650fc4cd0>"
            ]
          },
          "metadata": {},
          "execution_count": 17
        }
      ]
    },
    {
      "cell_type": "code",
      "source": [
        "# Remind ourselves of the data\n",
        "X, y"
      ],
      "metadata": {
        "colab": {
          "base_uri": "https://localhost:8080/"
        },
        "id": "RyABh6k3oQyy",
        "outputId": "f539608b-96d6-448c-b1b7-fe962ca4173d"
      },
      "execution_count": 18,
      "outputs": [
        {
          "output_type": "execute_result",
          "data": {
            "text/plain": [
              "(<tf.Tensor: shape=(8,), dtype=float32, numpy=array([-7., -4., -1.,  2.,  5.,  8., 11., 14.], dtype=float32)>,\n",
              " <tf.Tensor: shape=(8,), dtype=float32, numpy=array([ 3.,  6.,  9., 12., 15., 18., 21., 24.], dtype=float32)>)"
            ]
          },
          "metadata": {},
          "execution_count": 18
        }
      ]
    },
    {
      "cell_type": "code",
      "source": [
        "# Let's see if our model's prediction has improved...\n",
        "model.predict([17.0])"
      ],
      "metadata": {
        "colab": {
          "base_uri": "https://localhost:8080/"
        },
        "id": "0RoJTniApbem",
        "outputId": "99d63e8f-b36c-48b2-caea-55ce58e1bf99"
      },
      "execution_count": 19,
      "outputs": [
        {
          "output_type": "stream",
          "name": "stdout",
          "text": [
            "1/1 [==============================] - 0s 105ms/step\n"
          ]
        },
        {
          "output_type": "execute_result",
          "data": {
            "text/plain": [
              "array([[30.069633]], dtype=float32)"
            ]
          },
          "metadata": {},
          "execution_count": 19
        }
      ]
    },
    {
      "cell_type": "code",
      "source": [
        "# Let's see if we can make another to improve our model\n",
        "X = tf.expand_dims(X, axis=-1)\n",
        "# 1. Create the model (this time with an extra hidden layer with 100 hidden units)\n",
        "model = tf.keras.Sequential([\n",
        "  tf.keras.layers.Dense(50, activation=None),\n",
        "  tf.keras.layers.Dense(1)\n",
        "])\n",
        "\n",
        "# 2. Compile the model\n",
        "model.compile(loss=\"mae\",\n",
        "              optimizer=tf.keras.optimizers.Adam(learning_rate=0.01),\n",
        "              metrics=[\"mae\"])\n",
        "\n",
        "# 3. Fit the model\n",
        "model.fit(X, y, epochs=100)"
      ],
      "metadata": {
        "colab": {
          "base_uri": "https://localhost:8080/"
        },
        "id": "98TGwjjnpdVJ",
        "outputId": "957b0bb1-80ad-4b70-9ff7-3f09467eadfd"
      },
      "execution_count": 20,
      "outputs": [
        {
          "output_type": "stream",
          "name": "stdout",
          "text": [
            "Epoch 1/100\n",
            "1/1 [==============================] - 2s 2s/step - loss: 12.0670 - mae: 12.0670\n",
            "Epoch 2/100\n",
            "1/1 [==============================] - 0s 24ms/step - loss: 11.3157 - mae: 11.3157\n",
            "Epoch 3/100\n",
            "1/1 [==============================] - 0s 36ms/step - loss: 10.5586 - mae: 10.5586\n",
            "Epoch 4/100\n",
            "1/1 [==============================] - 0s 50ms/step - loss: 9.7927 - mae: 9.7927\n",
            "Epoch 5/100\n",
            "1/1 [==============================] - 0s 25ms/step - loss: 9.0151 - mae: 9.0151\n",
            "Epoch 6/100\n",
            "1/1 [==============================] - 0s 19ms/step - loss: 8.2232 - mae: 8.2232\n",
            "Epoch 7/100\n",
            "1/1 [==============================] - 0s 21ms/step - loss: 7.4140 - mae: 7.4140\n",
            "Epoch 8/100\n",
            "1/1 [==============================] - 0s 22ms/step - loss: 6.9348 - mae: 6.9348\n",
            "Epoch 9/100\n",
            "1/1 [==============================] - 0s 18ms/step - loss: 7.1576 - mae: 7.1576\n",
            "Epoch 10/100\n",
            "1/1 [==============================] - 0s 20ms/step - loss: 7.4392 - mae: 7.4392\n",
            "Epoch 11/100\n",
            "1/1 [==============================] - 0s 29ms/step - loss: 7.6461 - mae: 7.6461\n",
            "Epoch 12/100\n",
            "1/1 [==============================] - 0s 30ms/step - loss: 7.6722 - mae: 7.6722\n",
            "Epoch 13/100\n",
            "1/1 [==============================] - 0s 21ms/step - loss: 7.4888 - mae: 7.4888\n",
            "Epoch 14/100\n",
            "1/1 [==============================] - 0s 19ms/step - loss: 7.2077 - mae: 7.2077\n",
            "Epoch 15/100\n",
            "1/1 [==============================] - 0s 21ms/step - loss: 6.9540 - mae: 6.9540\n",
            "Epoch 16/100\n",
            "1/1 [==============================] - 0s 21ms/step - loss: 6.6753 - mae: 6.6753\n",
            "Epoch 17/100\n",
            "1/1 [==============================] - 0s 18ms/step - loss: 6.3771 - mae: 6.3771\n",
            "Epoch 18/100\n",
            "1/1 [==============================] - 0s 21ms/step - loss: 6.2573 - mae: 6.2573\n",
            "Epoch 19/100\n",
            "1/1 [==============================] - 0s 20ms/step - loss: 6.2035 - mae: 6.2035\n",
            "Epoch 20/100\n",
            "1/1 [==============================] - 0s 19ms/step - loss: 6.3757 - mae: 6.3757\n",
            "Epoch 21/100\n",
            "1/1 [==============================] - 0s 30ms/step - loss: 6.4469 - mae: 6.4469\n",
            "Epoch 22/100\n",
            "1/1 [==============================] - 0s 24ms/step - loss: 6.4088 - mae: 6.4088\n",
            "Epoch 23/100\n",
            "1/1 [==============================] - 0s 26ms/step - loss: 6.2754 - mae: 6.2754\n",
            "Epoch 24/100\n",
            "1/1 [==============================] - 0s 28ms/step - loss: 6.0572 - mae: 6.0572\n",
            "Epoch 25/100\n",
            "1/1 [==============================] - 0s 36ms/step - loss: 5.7620 - mae: 5.7620\n",
            "Epoch 26/100\n",
            "1/1 [==============================] - 0s 21ms/step - loss: 5.6204 - mae: 5.6204\n",
            "Epoch 27/100\n",
            "1/1 [==============================] - 0s 19ms/step - loss: 5.5094 - mae: 5.5094\n",
            "Epoch 28/100\n",
            "1/1 [==============================] - 0s 31ms/step - loss: 5.5649 - mae: 5.5649\n",
            "Epoch 29/100\n",
            "1/1 [==============================] - 0s 26ms/step - loss: 5.5871 - mae: 5.5871\n",
            "Epoch 30/100\n",
            "1/1 [==============================] - 0s 30ms/step - loss: 5.5569 - mae: 5.5569\n",
            "Epoch 31/100\n",
            "1/1 [==============================] - 0s 22ms/step - loss: 5.4785 - mae: 5.4785\n",
            "Epoch 32/100\n",
            "1/1 [==============================] - 0s 27ms/step - loss: 5.3563 - mae: 5.3563\n",
            "Epoch 33/100\n",
            "1/1 [==============================] - 0s 23ms/step - loss: 5.1942 - mae: 5.1942\n",
            "Epoch 34/100\n",
            "1/1 [==============================] - 0s 21ms/step - loss: 4.9960 - mae: 4.9960\n",
            "Epoch 35/100\n",
            "1/1 [==============================] - 0s 22ms/step - loss: 4.7652 - mae: 4.7652\n",
            "Epoch 36/100\n",
            "1/1 [==============================] - 0s 23ms/step - loss: 4.6228 - mae: 4.6228\n",
            "Epoch 37/100\n",
            "1/1 [==============================] - 0s 40ms/step - loss: 4.5287 - mae: 4.5287\n",
            "Epoch 38/100\n",
            "1/1 [==============================] - 0s 19ms/step - loss: 4.5292 - mae: 4.5292\n",
            "Epoch 39/100\n",
            "1/1 [==============================] - 0s 23ms/step - loss: 4.4678 - mae: 4.4678\n",
            "Epoch 40/100\n",
            "1/1 [==============================] - 0s 23ms/step - loss: 4.2868 - mae: 4.2868\n",
            "Epoch 41/100\n",
            "1/1 [==============================] - 0s 20ms/step - loss: 4.0222 - mae: 4.0222\n",
            "Epoch 42/100\n",
            "1/1 [==============================] - 0s 20ms/step - loss: 3.8653 - mae: 3.8653\n",
            "Epoch 43/100\n",
            "1/1 [==============================] - 0s 17ms/step - loss: 3.7020 - mae: 3.7020\n",
            "Epoch 44/100\n",
            "1/1 [==============================] - 0s 18ms/step - loss: 3.6339 - mae: 3.6339\n",
            "Epoch 45/100\n",
            "1/1 [==============================] - 0s 17ms/step - loss: 3.5288 - mae: 3.5288\n",
            "Epoch 46/100\n",
            "1/1 [==============================] - 0s 15ms/step - loss: 3.3680 - mae: 3.3680\n",
            "Epoch 47/100\n",
            "1/1 [==============================] - 0s 13ms/step - loss: 3.1547 - mae: 3.1547\n",
            "Epoch 48/100\n",
            "1/1 [==============================] - 0s 15ms/step - loss: 2.8923 - mae: 2.8923\n",
            "Epoch 49/100\n",
            "1/1 [==============================] - 0s 12ms/step - loss: 2.7265 - mae: 2.7265\n",
            "Epoch 50/100\n",
            "1/1 [==============================] - 0s 16ms/step - loss: 2.6722 - mae: 2.6722\n",
            "Epoch 51/100\n",
            "1/1 [==============================] - 0s 18ms/step - loss: 2.5189 - mae: 2.5189\n",
            "Epoch 52/100\n",
            "1/1 [==============================] - 0s 19ms/step - loss: 2.2155 - mae: 2.2155\n",
            "Epoch 53/100\n",
            "1/1 [==============================] - 0s 20ms/step - loss: 1.9184 - mae: 1.9184\n",
            "Epoch 54/100\n",
            "1/1 [==============================] - 0s 18ms/step - loss: 1.8328 - mae: 1.8328\n",
            "Epoch 55/100\n",
            "1/1 [==============================] - 0s 14ms/step - loss: 1.7542 - mae: 1.7542\n",
            "Epoch 56/100\n",
            "1/1 [==============================] - 0s 11ms/step - loss: 1.5049 - mae: 1.5049\n",
            "Epoch 57/100\n",
            "1/1 [==============================] - 0s 17ms/step - loss: 1.0950 - mae: 1.0950\n",
            "Epoch 58/100\n",
            "1/1 [==============================] - 0s 15ms/step - loss: 0.8448 - mae: 0.8448\n",
            "Epoch 59/100\n",
            "1/1 [==============================] - 0s 22ms/step - loss: 0.7083 - mae: 0.7083\n",
            "Epoch 60/100\n",
            "1/1 [==============================] - 0s 22ms/step - loss: 0.3984 - mae: 0.3984\n",
            "Epoch 61/100\n",
            "1/1 [==============================] - 0s 14ms/step - loss: 0.1288 - mae: 0.1288\n",
            "Epoch 62/100\n",
            "1/1 [==============================] - 0s 18ms/step - loss: 0.2572 - mae: 0.2572\n",
            "Epoch 63/100\n",
            "1/1 [==============================] - 0s 19ms/step - loss: 0.5864 - mae: 0.5864\n",
            "Epoch 64/100\n",
            "1/1 [==============================] - 0s 21ms/step - loss: 0.7250 - mae: 0.7250\n",
            "Epoch 65/100\n",
            "1/1 [==============================] - 0s 17ms/step - loss: 0.6883 - mae: 0.6883\n",
            "Epoch 66/100\n",
            "1/1 [==============================] - 0s 18ms/step - loss: 0.8915 - mae: 0.8915\n",
            "Epoch 67/100\n",
            "1/1 [==============================] - 0s 20ms/step - loss: 0.9538 - mae: 0.9538\n",
            "Epoch 68/100\n",
            "1/1 [==============================] - 0s 20ms/step - loss: 0.8189 - mae: 0.8189\n",
            "Epoch 69/100\n",
            "1/1 [==============================] - 0s 21ms/step - loss: 0.7140 - mae: 0.7140\n",
            "Epoch 70/100\n",
            "1/1 [==============================] - 0s 24ms/step - loss: 0.7785 - mae: 0.7785\n",
            "Epoch 71/100\n",
            "1/1 [==============================] - 0s 17ms/step - loss: 0.6489 - mae: 0.6489\n",
            "Epoch 72/100\n",
            "1/1 [==============================] - 0s 20ms/step - loss: 0.3666 - mae: 0.3666\n",
            "Epoch 73/100\n",
            "1/1 [==============================] - 0s 19ms/step - loss: 0.4204 - mae: 0.4204\n",
            "Epoch 74/100\n",
            "1/1 [==============================] - 0s 18ms/step - loss: 0.4464 - mae: 0.4464\n",
            "Epoch 75/100\n",
            "1/1 [==============================] - 0s 24ms/step - loss: 0.2438 - mae: 0.2438\n",
            "Epoch 76/100\n",
            "1/1 [==============================] - 0s 28ms/step - loss: 0.3753 - mae: 0.3753\n",
            "Epoch 77/100\n",
            "1/1 [==============================] - 0s 27ms/step - loss: 0.6114 - mae: 0.6114\n",
            "Epoch 78/100\n",
            "1/1 [==============================] - 0s 25ms/step - loss: 0.6683 - mae: 0.6683\n",
            "Epoch 79/100\n",
            "1/1 [==============================] - 0s 23ms/step - loss: 0.5678 - mae: 0.5678\n",
            "Epoch 80/100\n",
            "1/1 [==============================] - 0s 23ms/step - loss: 0.3263 - mae: 0.3263\n",
            "Epoch 81/100\n",
            "1/1 [==============================] - 0s 22ms/step - loss: 0.5079 - mae: 0.5079\n",
            "Epoch 82/100\n",
            "1/1 [==============================] - 0s 18ms/step - loss: 0.6419 - mae: 0.6419\n",
            "Epoch 83/100\n",
            "1/1 [==============================] - 0s 42ms/step - loss: 0.4710 - mae: 0.4710\n",
            "Epoch 84/100\n",
            "1/1 [==============================] - 0s 24ms/step - loss: 0.0319 - mae: 0.0319\n",
            "Epoch 85/100\n",
            "1/1 [==============================] - 0s 25ms/step - loss: 0.5101 - mae: 0.5101\n",
            "Epoch 86/100\n",
            "1/1 [==============================] - 0s 17ms/step - loss: 0.6779 - mae: 0.6779\n",
            "Epoch 87/100\n",
            "1/1 [==============================] - 0s 17ms/step - loss: 0.5329 - mae: 0.5329\n",
            "Epoch 88/100\n",
            "1/1 [==============================] - 0s 49ms/step - loss: 0.2206 - mae: 0.2206\n",
            "Epoch 89/100\n",
            "1/1 [==============================] - 0s 35ms/step - loss: 0.4629 - mae: 0.4629\n",
            "Epoch 90/100\n",
            "1/1 [==============================] - 0s 29ms/step - loss: 0.6415 - mae: 0.6415\n",
            "Epoch 91/100\n",
            "1/1 [==============================] - 0s 33ms/step - loss: 0.5598 - mae: 0.5598\n",
            "Epoch 92/100\n",
            "1/1 [==============================] - 0s 21ms/step - loss: 0.2393 - mae: 0.2393\n",
            "Epoch 93/100\n",
            "1/1 [==============================] - 0s 45ms/step - loss: 0.3092 - mae: 0.3092\n",
            "Epoch 94/100\n",
            "1/1 [==============================] - 0s 22ms/step - loss: 0.4544 - mae: 0.4544\n",
            "Epoch 95/100\n",
            "1/1 [==============================] - 0s 18ms/step - loss: 0.3354 - mae: 0.3354\n",
            "Epoch 96/100\n",
            "1/1 [==============================] - 0s 14ms/step - loss: 0.1299 - mae: 0.1299\n",
            "Epoch 97/100\n",
            "1/1 [==============================] - 0s 23ms/step - loss: 0.3356 - mae: 0.3356\n",
            "Epoch 98/100\n",
            "1/1 [==============================] - 0s 18ms/step - loss: 0.3203 - mae: 0.3203\n",
            "Epoch 99/100\n",
            "1/1 [==============================] - 0s 17ms/step - loss: 0.1408 - mae: 0.1408\n",
            "Epoch 100/100\n",
            "1/1 [==============================] - 0s 17ms/step - loss: 0.2273 - mae: 0.2273\n"
          ]
        },
        {
          "output_type": "execute_result",
          "data": {
            "text/plain": [
              "<keras.src.callbacks.History at 0x7ec650ecc700>"
            ]
          },
          "metadata": {},
          "execution_count": 20
        }
      ]
    },
    {
      "cell_type": "code",
      "source": [
        "# Let's remind ourselves of the data\n",
        "X, y"
      ],
      "metadata": {
        "colab": {
          "base_uri": "https://localhost:8080/"
        },
        "id": "ghnarw3-plyO",
        "outputId": "7cf0d91b-3fe2-4b39-a77d-d84406b928da"
      },
      "execution_count": 21,
      "outputs": [
        {
          "output_type": "execute_result",
          "data": {
            "text/plain": [
              "(<tf.Tensor: shape=(8, 1), dtype=float32, numpy=\n",
              " array([[-7.],\n",
              "        [-4.],\n",
              "        [-1.],\n",
              "        [ 2.],\n",
              "        [ 5.],\n",
              "        [ 8.],\n",
              "        [11.],\n",
              "        [14.]], dtype=float32)>,\n",
              " <tf.Tensor: shape=(8,), dtype=float32, numpy=array([ 3.,  6.,  9., 12., 15., 18., 21., 24.], dtype=float32)>)"
            ]
          },
          "metadata": {},
          "execution_count": 21
        }
      ]
    },
    {
      "cell_type": "code",
      "source": [
        "# Let's try to make a prediction\n",
        "model.predict([17.0])"
      ],
      "metadata": {
        "colab": {
          "base_uri": "https://localhost:8080/"
        },
        "id": "2DwkHETmppbm",
        "outputId": "435af8e7-6d54-4029-d042-3302309b71e5"
      },
      "execution_count": 22,
      "outputs": [
        {
          "output_type": "stream",
          "name": "stdout",
          "text": [
            "1/1 [==============================] - 0s 126ms/step\n"
          ]
        },
        {
          "output_type": "execute_result",
          "data": {
            "text/plain": [
              "array([[26.457998]], dtype=float32)"
            ]
          },
          "metadata": {},
          "execution_count": 22
        }
      ]
    },
    {
      "cell_type": "markdown",
      "source": [
        "## Evaluting a model\n",
        "In practice, a typical workflow you'll go through when building neural networks is:\n",
        "\n",
        "```Build a model  -> fit it -> evaluate it -> tweak a model -> fit it -> evaluate it -> tweak a model -> fit it -> evaluate it...```\n",
        "When it comes to evaluation... there are 3 words you should memorize:\n",
        "\n",
        "> \"Visualize, visualize, visualize\"\n",
        "\n",
        "It's a good idea to visualize:\n",
        "\n",
        "* The data - what data are we working with? What does it look like?\n",
        "* The model itself - what does our model look like?\n",
        "* The training of a model - how does a model perform while it learns?\n",
        "* The predictions of the model - how do the predictions of a model line up against the ground truth (the original labels)?"
      ],
      "metadata": {
        "id": "7wT4108kpw8C"
      }
    },
    {
      "cell_type": "code",
      "source": [
        "# Make a bigger dataset\n",
        "X = tf.range(-100, 100, 4)\n",
        "X"
      ],
      "metadata": {
        "colab": {
          "base_uri": "https://localhost:8080/"
        },
        "id": "kvd4EYK3pqxu",
        "outputId": "ff63b9d9-cad9-4901-db2a-06a99820723c"
      },
      "execution_count": 23,
      "outputs": [
        {
          "output_type": "execute_result",
          "data": {
            "text/plain": [
              "<tf.Tensor: shape=(50,), dtype=int32, numpy=\n",
              "array([-100,  -96,  -92,  -88,  -84,  -80,  -76,  -72,  -68,  -64,  -60,\n",
              "        -56,  -52,  -48,  -44,  -40,  -36,  -32,  -28,  -24,  -20,  -16,\n",
              "        -12,   -8,   -4,    0,    4,    8,   12,   16,   20,   24,   28,\n",
              "         32,   36,   40,   44,   48,   52,   56,   60,   64,   68,   72,\n",
              "         76,   80,   84,   88,   92,   96], dtype=int32)>"
            ]
          },
          "metadata": {},
          "execution_count": 23
        }
      ]
    },
    {
      "cell_type": "code",
      "source": [
        "# Make labels for the dataset\n",
        "y = X + 10\n",
        "y"
      ],
      "metadata": {
        "id": "a3b5dfmgp9YC",
        "colab": {
          "base_uri": "https://localhost:8080/"
        },
        "outputId": "9f590486-dafe-4f4e-b465-73e514b707be"
      },
      "execution_count": 24,
      "outputs": [
        {
          "output_type": "execute_result",
          "data": {
            "text/plain": [
              "<tf.Tensor: shape=(50,), dtype=int32, numpy=\n",
              "array([-90, -86, -82, -78, -74, -70, -66, -62, -58, -54, -50, -46, -42,\n",
              "       -38, -34, -30, -26, -22, -18, -14, -10,  -6,  -2,   2,   6,  10,\n",
              "        14,  18,  22,  26,  30,  34,  38,  42,  46,  50,  54,  58,  62,\n",
              "        66,  70,  74,  78,  82,  86,  90,  94,  98, 102, 106], dtype=int32)>"
            ]
          },
          "metadata": {},
          "execution_count": 24
        }
      ]
    },
    {
      "cell_type": "code",
      "source": [
        "# Visualize the data\n",
        "import matplotlib.pyplot as plt\n",
        "\n",
        "plt.scatter(X, y)"
      ],
      "metadata": {
        "colab": {
          "base_uri": "https://localhost:8080/",
          "height": 447
        },
        "id": "6RRbDVlsr1Om",
        "outputId": "327ad00d-c1ad-47ec-a2f1-e1ea314cd9dd"
      },
      "execution_count": 25,
      "outputs": [
        {
          "output_type": "execute_result",
          "data": {
            "text/plain": [
              "<matplotlib.collections.PathCollection at 0x7ec6500d4af0>"
            ]
          },
          "metadata": {},
          "execution_count": 25
        },
        {
          "output_type": "display_data",
          "data": {
            "text/plain": [
              "<Figure size 640x480 with 1 Axes>"
            ],
            "image/png": "[encoded data removed]"
          },
          "metadata": {}
        }
      ]
    },
    {
      "cell_type": "markdown",
      "source": [
        "The 3 sets...\n",
        "* Training set - the model learns from this data, which is typically 70-80% of the total data you have available.\n",
        "* Validation set - the model gets tuned on this data, which is typically 10-15% of the data available.\n",
        "* Test set - the model gets evaluated on this data to test what is has learned, this set is typically 10-15% of the total data available."
      ],
      "metadata": {
        "id": "gOTkOcsnr7XM"
      }
    },
    {
      "cell_type": "code",
      "source": [
        "# Check the length of how many samples we have\n",
        "len(X)"
      ],
      "metadata": {
        "colab": {
          "base_uri": "https://localhost:8080/"
        },
        "id": "NQKOaziKr4a9",
        "outputId": "6a2649af-9514-4349-f878-878da5ca6ffe"
      },
      "execution_count": 26,
      "outputs": [
        {
          "output_type": "execute_result",
          "data": {
            "text/plain": [
              "50"
            ]
          },
          "metadata": {},
          "execution_count": 26
        }
      ]
    },
    {
      "cell_type": "code",
      "source": [
        "# Split the data into train and test sets\n",
        "X_train = X[:40] # first 40 are training samples (80% of the data)\n",
        "y_train = y[:40]\n",
        "\n",
        "X_test = X[40:] # last 10 are testing samples (20% of the data)\n",
        "y_test = y[40:]\n",
        "\n",
        "len(X_train), len(X_test), len(y_train), len(y_test)"
      ],
      "metadata": {
        "colab": {
          "base_uri": "https://localhost:8080/"
        },
        "id": "wa6xYUKrsNxB",
        "outputId": "9a493254-7f4a-446b-bfba-030578f131f8"
      },
      "execution_count": 27,
      "outputs": [
        {
          "output_type": "execute_result",
          "data": {
            "text/plain": [
              "(40, 10, 40, 10)"
            ]
          },
          "metadata": {},
          "execution_count": 27
        }
      ]
    },
    {
      "cell_type": "markdown",
      "source": [
        "## Visualizing the data\n",
        "Now we've got our data in training and test sets... let's visualize it again!"
      ],
      "metadata": {
        "id": "dtZvJsNAsT3L"
      }
    },
    {
      "cell_type": "code",
      "source": [
        "plt.figure(figsize=(10, 7))\n",
        "# Plot training data in blue\n",
        "plt.scatter(X_train, y_train, c=\"b\", label=\"Training data\") # our model will learn on this\n",
        "# Plot test data in green\n",
        "plt.scatter(X_test, y_test, c=\"g\", label=\"Testing data\") # want our model to be able to predict this (given X, what's y?)\n",
        "# Show a legend\n",
        "plt.legend();"
      ],
      "metadata": {
        "colab": {
          "base_uri": "https://localhost:8080/",
          "height": 599
        },
        "id": "CzfeT9knsQvi",
        "outputId": "1d07a403-283c-4283-bdbd-a5ab2d0cb9de"
      },
      "execution_count": 28,
      "outputs": [
        {
          "output_type": "display_data",
          "data": {
            "text/plain": [
              "<Figure size 1000x700 with 1 Axes>"
            ],
            "image/png": "[encoded data removed]"
          },
          "metadata": {}
        }
      ]
    },
    {
      "cell_type": "code",
      "source": [
        "X_train = tf.expand_dims(X_train, axis=-1)"
      ],
      "metadata": {
        "id": "nm3rrJdksqtg"
      },
      "execution_count": 29,
      "outputs": []
    },
    {
      "cell_type": "code",
      "source": [
        "# Let's have a look at how to build a neural network for our data\n",
        "\n",
        "# 1. Create a model\n",
        "model = tf.keras.Sequential([\n",
        "  tf.keras.layers.Dense(1)\n",
        "])\n",
        "\n",
        "# 2. Compile the model\n",
        "model.compile(loss=tf.keras.losses.mae,\n",
        "              optimizer=tf.keras.optimizers.SGD(),\n",
        "              metrics=[\"mae\"])\n",
        "\n",
        "# # 3. Fit the model\n",
        "model.fit(X_train, y_train, epochs=100)"
      ],
      "metadata": {
        "colab": {
          "base_uri": "https://localhost:8080/"
        },
        "id": "efzWc_xKsaK9",
        "outputId": "45fc3ab8-36bc-4dda-c733-06e516876c9c"
      },
      "execution_count": 30,
      "outputs": [
        {
          "output_type": "stream",
          "name": "stdout",
          "text": [
            "Epoch 1/100\n",
            "2/2 [==============================] - 1s 15ms/step - loss: 78.4439 - mae: 78.4439\n",
            "Epoch 2/100\n",
            "2/2 [==============================] - 0s 10ms/step - loss: 43.0787 - mae: 43.0787\n",
            "Epoch 3/100\n",
            "2/2 [==============================] - 0s 11ms/step - loss: 10.6689 - mae: 10.6689\n",
            "Epoch 4/100\n",
            "2/2 [==============================] - 0s 10ms/step - loss: 9.6005 - mae: 9.6005\n",
            "Epoch 5/100\n",
            "2/2 [==============================] - 0s 10ms/step - loss: 10.5107 - mae: 10.5107\n",
            "Epoch 6/100\n",
            "2/2 [==============================] - 0s 21ms/step - loss: 9.7356 - mae: 9.7356\n",
            "Epoch 7/100\n",
            "2/2 [==============================] - 0s 11ms/step - loss: 8.8286 - mae: 8.8286\n",
            "Epoch 8/100\n",
            "2/2 [==============================] - 0s 19ms/step - loss: 9.0874 - mae: 9.0874\n",
            "Epoch 9/100\n",
            "2/2 [==============================] - 0s 10ms/step - loss: 19.3562 - mae: 19.3562\n",
            "Epoch 10/100\n",
            "2/2 [==============================] - 0s 12ms/step - loss: 10.4665 - mae: 10.4665\n",
            "Epoch 11/100\n",
            "2/2 [==============================] - 0s 18ms/step - loss: 8.5488 - mae: 8.5488\n",
            "Epoch 12/100\n",
            "2/2 [==============================] - 0s 18ms/step - loss: 10.9600 - mae: 10.9600\n",
            "Epoch 13/100\n",
            "2/2 [==============================] - 0s 26ms/step - loss: 7.5855 - mae: 7.5855\n",
            "Epoch 14/100\n",
            "2/2 [==============================] - 0s 23ms/step - loss: 16.0257 - mae: 16.0257\n",
            "Epoch 15/100\n",
            "2/2 [==============================] - 0s 24ms/step - loss: 13.1074 - mae: 13.1074\n",
            "Epoch 16/100\n",
            "2/2 [==============================] - 0s 23ms/step - loss: 7.9573 - mae: 7.9573\n",
            "Epoch 17/100\n",
            "2/2 [==============================] - 0s 18ms/step - loss: 11.3106 - mae: 11.3106\n",
            "Epoch 18/100\n",
            "2/2 [==============================] - 0s 16ms/step - loss: 10.2563 - mae: 10.2563\n",
            "Epoch 19/100\n",
            "2/2 [==============================] - 0s 12ms/step - loss: 19.5531 - mae: 19.5531\n",
            "Epoch 20/100\n",
            "2/2 [==============================] - 0s 12ms/step - loss: 16.2060 - mae: 16.2060\n",
            "Epoch 21/100\n",
            "2/2 [==============================] - 0s 11ms/step - loss: 12.1040 - mae: 12.1040\n",
            "Epoch 22/100\n",
            "2/2 [==============================] - 0s 11ms/step - loss: 8.7270 - mae: 8.7270\n",
            "Epoch 23/100\n",
            "2/2 [==============================] - 0s 25ms/step - loss: 10.2788 - mae: 10.2788\n",
            "Epoch 24/100\n",
            "2/2 [==============================] - 0s 15ms/step - loss: 15.3968 - mae: 15.3968\n",
            "Epoch 25/100\n",
            "2/2 [==============================] - 0s 13ms/step - loss: 11.9446 - mae: 11.9446\n",
            "Epoch 26/100\n",
            "2/2 [==============================] - 0s 18ms/step - loss: 12.9086 - mae: 12.9086\n",
            "Epoch 27/100\n",
            "2/2 [==============================] - 0s 12ms/step - loss: 10.8365 - mae: 10.8365\n",
            "Epoch 28/100\n",
            "2/2 [==============================] - 0s 21ms/step - loss: 13.1410 - mae: 13.1410\n",
            "Epoch 29/100\n",
            "2/2 [==============================] - 0s 11ms/step - loss: 9.5776 - mae: 9.5776\n",
            "Epoch 30/100\n",
            "2/2 [==============================] - 0s 12ms/step - loss: 16.7946 - mae: 16.7946\n",
            "Epoch 31/100\n",
            "2/2 [==============================] - 0s 11ms/step - loss: 23.2473 - mae: 23.2473\n",
            "Epoch 32/100\n",
            "2/2 [==============================] - 0s 17ms/step - loss: 7.3301 - mae: 7.3301\n",
            "Epoch 33/100\n",
            "2/2 [==============================] - 0s 14ms/step - loss: 10.4744 - mae: 10.4744\n",
            "Epoch 34/100\n",
            "2/2 [==============================] - 0s 10ms/step - loss: 9.7555 - mae: 9.7555\n",
            "Epoch 35/100\n",
            "2/2 [==============================] - 0s 10ms/step - loss: 8.4077 - mae: 8.4077\n",
            "Epoch 36/100\n",
            "2/2 [==============================] - 0s 11ms/step - loss: 8.5580 - mae: 8.5580\n",
            "Epoch 37/100\n",
            "2/2 [==============================] - 0s 17ms/step - loss: 8.6117 - mae: 8.6117\n",
            "Epoch 38/100\n",
            "2/2 [==============================] - 0s 11ms/step - loss: 9.2538 - mae: 9.2538\n",
            "Epoch 39/100\n",
            "2/2 [==============================] - 0s 21ms/step - loss: 10.1663 - mae: 10.1663\n",
            "Epoch 40/100\n",
            "2/2 [==============================] - 0s 11ms/step - loss: 9.7265 - mae: 9.7265\n",
            "Epoch 41/100\n",
            "2/2 [==============================] - 0s 15ms/step - loss: 8.0782 - mae: 8.0782\n",
            "Epoch 42/100\n",
            "2/2 [==============================] - 0s 17ms/step - loss: 10.4859 - mae: 10.4859\n",
            "Epoch 43/100\n",
            "2/2 [==============================] - 0s 12ms/step - loss: 7.5425 - mae: 7.5425\n",
            "Epoch 44/100\n",
            "2/2 [==============================] - 0s 9ms/step - loss: 18.8195 - mae: 18.8195\n",
            "Epoch 45/100\n",
            "2/2 [==============================] - 0s 9ms/step - loss: 14.7123 - mae: 14.7123\n",
            "Epoch 46/100\n",
            "2/2 [==============================] - 0s 14ms/step - loss: 8.9008 - mae: 8.9008\n",
            "Epoch 47/100\n",
            "2/2 [==============================] - 0s 26ms/step - loss: 9.3866 - mae: 9.3866\n",
            "Epoch 48/100\n",
            "2/2 [==============================] - 0s 12ms/step - loss: 10.9919 - mae: 10.9919\n",
            "Epoch 49/100\n",
            "2/2 [==============================] - 0s 9ms/step - loss: 7.9724 - mae: 7.9724\n",
            "Epoch 50/100\n",
            "2/2 [==============================] - 0s 8ms/step - loss: 9.8823 - mae: 9.8823\n",
            "Epoch 51/100\n",
            "2/2 [==============================] - 0s 20ms/step - loss: 9.2434 - mae: 9.2434\n",
            "Epoch 52/100\n",
            "2/2 [==============================] - 0s 16ms/step - loss: 17.0846 - mae: 17.0846\n",
            "Epoch 53/100\n",
            "2/2 [==============================] - 0s 22ms/step - loss: 13.8240 - mae: 13.8240\n",
            "Epoch 54/100\n",
            "2/2 [==============================] - 0s 13ms/step - loss: 20.3323 - mae: 20.3323\n",
            "Epoch 55/100\n",
            "2/2 [==============================] - 0s 8ms/step - loss: 16.9908 - mae: 16.9908\n",
            "Epoch 56/100\n",
            "2/2 [==============================] - 0s 15ms/step - loss: 9.9072 - mae: 9.9072\n",
            "Epoch 57/100\n",
            "2/2 [==============================] - 0s 14ms/step - loss: 9.6560 - mae: 9.6560\n",
            "Epoch 58/100\n",
            "2/2 [==============================] - 0s 9ms/step - loss: 8.9814 - mae: 8.9814\n",
            "Epoch 59/100\n",
            "2/2 [==============================] - 0s 15ms/step - loss: 10.1806 - mae: 10.1806\n",
            "Epoch 60/100\n",
            "2/2 [==============================] - 0s 9ms/step - loss: 8.4488 - mae: 8.4488\n",
            "Epoch 61/100\n",
            "2/2 [==============================] - 0s 14ms/step - loss: 9.2934 - mae: 9.2934\n",
            "Epoch 62/100\n",
            "2/2 [==============================] - 0s 11ms/step - loss: 7.0903 - mae: 7.0903\n",
            "Epoch 63/100\n",
            "2/2 [==============================] - 0s 12ms/step - loss: 8.6574 - mae: 8.6574\n",
            "Epoch 64/100\n",
            "2/2 [==============================] - 0s 14ms/step - loss: 9.2355 - mae: 9.2355\n",
            "Epoch 65/100\n",
            "2/2 [==============================] - 0s 12ms/step - loss: 10.4872 - mae: 10.4872\n",
            "Epoch 66/100\n",
            "2/2 [==============================] - 0s 11ms/step - loss: 15.6715 - mae: 15.6715\n",
            "Epoch 67/100\n",
            "2/2 [==============================] - 0s 9ms/step - loss: 10.0646 - mae: 10.0646\n",
            "Epoch 68/100\n",
            "2/2 [==============================] - 0s 37ms/step - loss: 9.0379 - mae: 9.0379\n",
            "Epoch 69/100\n",
            "2/2 [==============================] - 0s 10ms/step - loss: 12.5431 - mae: 12.5431\n",
            "Epoch 70/100\n",
            "2/2 [==============================] - 0s 9ms/step - loss: 8.9887 - mae: 8.9887\n",
            "Epoch 71/100\n",
            "2/2 [==============================] - 0s 20ms/step - loss: 9.9652 - mae: 9.9652\n",
            "Epoch 72/100\n",
            "2/2 [==============================] - 0s 30ms/step - loss: 10.0001 - mae: 10.0001\n",
            "Epoch 73/100\n",
            "2/2 [==============================] - 0s 12ms/step - loss: 12.4811 - mae: 12.4811\n",
            "Epoch 74/100\n",
            "2/2 [==============================] - 0s 17ms/step - loss: 10.5589 - mae: 10.5589\n",
            "Epoch 75/100\n",
            "2/2 [==============================] - 0s 10ms/step - loss: 9.6604 - mae: 9.6604\n",
            "Epoch 76/100\n",
            "2/2 [==============================] - 0s 13ms/step - loss: 11.1327 - mae: 11.1327\n",
            "Epoch 77/100\n",
            "2/2 [==============================] - 0s 11ms/step - loss: 8.3070 - mae: 8.3070\n",
            "Epoch 78/100\n",
            "2/2 [==============================] - 0s 9ms/step - loss: 9.0102 - mae: 9.0102\n",
            "Epoch 79/100\n",
            "2/2 [==============================] - 0s 13ms/step - loss: 19.7521 - mae: 19.7521\n",
            "Epoch 80/100\n",
            "2/2 [==============================] - 0s 10ms/step - loss: 17.8619 - mae: 17.8619\n",
            "Epoch 81/100\n",
            "2/2 [==============================] - 0s 11ms/step - loss: 7.0793 - mae: 7.0793\n",
            "Epoch 82/100\n",
            "2/2 [==============================] - 0s 11ms/step - loss: 10.4413 - mae: 10.4413\n",
            "Epoch 83/100\n",
            "2/2 [==============================] - 0s 12ms/step - loss: 9.8692 - mae: 9.8692\n",
            "Epoch 84/100\n",
            "2/2 [==============================] - 0s 10ms/step - loss: 7.9409 - mae: 7.9409\n",
            "Epoch 85/100\n",
            "2/2 [==============================] - 0s 9ms/step - loss: 9.4426 - mae: 9.4426\n",
            "Epoch 86/100\n",
            "2/2 [==============================] - 0s 22ms/step - loss: 9.2648 - mae: 9.2648\n",
            "Epoch 87/100\n",
            "2/2 [==============================] - 0s 20ms/step - loss: 12.0495 - mae: 12.0495\n",
            "Epoch 88/100\n",
            "2/2 [==============================] - 0s 10ms/step - loss: 10.6695 - mae: 10.6695\n",
            "Epoch 89/100\n",
            "2/2 [==============================] - 0s 10ms/step - loss: 7.2796 - mae: 7.2796\n",
            "Epoch 90/100\n",
            "2/2 [==============================] - 0s 9ms/step - loss: 12.8116 - mae: 12.8116\n",
            "Epoch 91/100\n",
            "2/2 [==============================] - 0s 10ms/step - loss: 7.4905 - mae: 7.4905\n",
            "Epoch 92/100\n",
            "2/2 [==============================] - 0s 11ms/step - loss: 6.7642 - mae: 6.7642\n",
            "Epoch 93/100\n",
            "2/2 [==============================] - 0s 11ms/step - loss: 11.9619 - mae: 11.9619\n",
            "Epoch 94/100\n",
            "2/2 [==============================] - 0s 11ms/step - loss: 8.8940 - mae: 8.8940\n",
            "Epoch 95/100\n",
            "2/2 [==============================] - 0s 11ms/step - loss: 7.7336 - mae: 7.7336\n",
            "Epoch 96/100\n",
            "2/2 [==============================] - 0s 11ms/step - loss: 6.7624 - mae: 6.7624\n",
            "Epoch 97/100\n",
            "2/2 [==============================] - 0s 25ms/step - loss: 8.6459 - mae: 8.6459\n",
            "Epoch 98/100\n",
            "2/2 [==============================] - 0s 9ms/step - loss: 9.4029 - mae: 9.4029\n",
            "Epoch 99/100\n",
            "2/2 [==============================] - 0s 9ms/step - loss: 9.1387 - mae: 9.1387\n",
            "Epoch 100/100\n",
            "2/2 [==============================] - 0s 9ms/step - loss: 10.4951 - mae: 10.4951\n"
          ]
        },
        {
          "output_type": "execute_result",
          "data": {
            "text/plain": [
              "<keras.src.callbacks.History at 0x7ec63ff06260>"
            ]
          },
          "metadata": {},
          "execution_count": 30
        }
      ]
    },
    {
      "cell_type": "code",
      "source": [
        "model.summary()\n",
        "X_test = tf.expand_dims(X_test, axis=-1)"
      ],
      "metadata": {
        "colab": {
          "base_uri": "https://localhost:8080/"
        },
        "id": "zjaHe2tQsheu",
        "outputId": "88b70a73-5bb4-4465-fdc0-8f99e86cee30"
      },
      "execution_count": 31,
      "outputs": [
        {
          "output_type": "stream",
          "name": "stdout",
          "text": [
            "Model: \"sequential_3\"\n",
            "_________________________________________________________________\n",
            " Layer (type)                Output Shape              Param #   \n",
            "=================================================================\n",
            " dense_4 (Dense)             (None, 1)                 2         \n",
            "                                                                 \n",
            "=================================================================\n",
            "Total params: 2 (8.00 Byte)\n",
            "Trainable params: 2 (8.00 Byte)\n",
            "Non-trainable params: 0 (0.00 Byte)\n",
            "_________________________________________________________________\n"
          ]
        }
      ]
    },
    {
      "cell_type": "code",
      "source": [
        "X[0], y[0]"
      ],
      "metadata": {
        "id": "4hQZLXwZs1T4",
        "colab": {
          "base_uri": "https://localhost:8080/"
        },
        "outputId": "43c031cb-988b-4fa8-811e-52eab9870e7f"
      },
      "execution_count": 33,
      "outputs": [
        {
          "output_type": "execute_result",
          "data": {
            "text/plain": [
              "(<tf.Tensor: shape=(), dtype=int32, numpy=-100>,\n",
              " <tf.Tensor: shape=(), dtype=int32, numpy=-90>)"
            ]
          },
          "metadata": {},
          "execution_count": 33
        }
      ]
    },
    {
      "cell_type": "code",
      "source": [
        "# Let's create a model which builds automatically by defining the input_shape argument in the first layer\n",
        "tf.random.set_seed(42)\n",
        "\n",
        "# 1. Create a model (same as above)\n",
        "model = tf.keras.Sequential([\n",
        "  tf.keras.layers.Dense(10, input_shape=[1], name=\"input_layer\"),\n",
        "  tf.keras.layers.Dense(1, name=\"output_layer\")\n",
        "], name=\"model_1\")\n",
        "\n",
        "# 2. Compile the model (same as above)\n",
        "model.compile(loss=tf.keras.losses.mae,\n",
        "              optimizer=tf.keras.optimizers.SGD(),\n",
        "              metrics=[\"mae\"])"
      ],
      "metadata": {
        "id": "UXxNW_3SlydQ"
      },
      "execution_count": 34,
      "outputs": []
    },
    {
      "cell_type": "code",
      "source": [
        "model.summary()"
      ],
      "metadata": {
        "colab": {
          "base_uri": "https://localhost:8080/"
        },
        "id": "ZGTV43sBl0p6",
        "outputId": "019e93e6-e91b-4d38-cb62-89d88bd6a8d0"
      },
      "execution_count": 35,
      "outputs": [
        {
          "output_type": "stream",
          "name": "stdout",
          "text": [
            "Model: \"model_1\"\n",
            "_________________________________________________________________\n",
            " Layer (type)                Output Shape              Param #   \n",
            "=================================================================\n",
            " input_layer (Dense)         (None, 10)                20        \n",
            "                                                                 \n",
            " output_layer (Dense)        (None, 1)                 11        \n",
            "                                                                 \n",
            "=================================================================\n",
            "Total params: 31 (124.00 Byte)\n",
            "Trainable params: 31 (124.00 Byte)\n",
            "Non-trainable params: 0 (0.00 Byte)\n",
            "_________________________________________________________________\n"
          ]
        }
      ]
    },
    {
      "cell_type": "markdown",
      "source": [
        "* Total params - total number of parameters in the model.\n",
        "* Trainable parameters - these are the parameters (patterns) the model can update as it trains.\n",
        "* Non-trainable params - these parameters aren't updated during training (this is typical when you bring in already learn patterns or parameters from other models during **transfer learning**).\n",
        "\n",
        "📖 **Resource**: For a more in-depth overview of the trainable parameters within a layer, check out MIT's introduction to deep learning video.\n",
        "\n",
        "🛠 **Exercise**: Try playing around with the number of hidden units in the dense layer, see how that effects the number of parameters (total and trainable) by calling model.summary()."
      ],
      "metadata": {
        "id": "LxTPzVI-l7Gp"
      }
    },
    {
      "cell_type": "code",
      "source": [
        "# Let's fit our model to the training data\n",
        "model.fit(X_train, y_train, epochs=100, verbose=0)"
      ],
      "metadata": {
        "colab": {
          "base_uri": "https://localhost:8080/"
        },
        "id": "apN437m3l2sf",
        "outputId": "5b04b4c0-d214-4f86-9f36-1676ebf3c800"
      },
      "execution_count": 36,
      "outputs": [
        {
          "output_type": "execute_result",
          "data": {
            "text/plain": [
              "<keras.src.callbacks.History at 0x7ec63ff739d0>"
            ]
          },
          "metadata": {},
          "execution_count": 36
        }
      ]
    },
    {
      "cell_type": "code",
      "source": [
        "# Get a summary of our model\n",
        "model.summary()"
      ],
      "metadata": {
        "colab": {
          "base_uri": "https://localhost:8080/"
        },
        "id": "jfXxmE7DmVAo",
        "outputId": "1c2e651b-92a6-4739-abeb-38f68b454813"
      },
      "execution_count": 37,
      "outputs": [
        {
          "output_type": "stream",
          "name": "stdout",
          "text": [
            "Model: \"model_1\"\n",
            "_________________________________________________________________\n",
            " Layer (type)                Output Shape              Param #   \n",
            "=================================================================\n",
            " input_layer (Dense)         (None, 10)                20        \n",
            "                                                                 \n",
            " output_layer (Dense)        (None, 1)                 11        \n",
            "                                                                 \n",
            "=================================================================\n",
            "Total params: 31 (124.00 Byte)\n",
            "Trainable params: 31 (124.00 Byte)\n",
            "Non-trainable params: 0 (0.00 Byte)\n",
            "_________________________________________________________________\n"
          ]
        }
      ]
    },
    {
      "cell_type": "code",
      "source": [
        "from tensorflow.keras.utils import plot_model\n",
        "\n",
        "plot_model(model=model, show_shapes=True)\n"
      ],
      "metadata": {
        "colab": {
          "base_uri": "https://localhost:8080/",
          "height": 312
        },
        "id": "is2nPwuqmYPF",
        "outputId": "a93cbeb0-4c30-49ef-f59f-f47440b8f517"
      },
      "execution_count": 38,
      "outputs": [
        {
          "output_type": "execute_result",
          "data": {
            "image/png": "[encoded data removed]",
            "text/plain": [
              "<IPython.core.display.Image object>"
            ]
          },
          "metadata": {},
          "execution_count": 38
        }
      ]
    },
    {
      "cell_type": "markdown",
      "source": [
        "## Visualizing our model's predictions\n",
        "To visualize predictions, it's a good idea to plot them against the ground truth labels.\n",
        "\n",
        "Often you'll see this in the form of `y_test` or `y_true` versus `y_pred` (ground truth versus your model's predictions)."
      ],
      "metadata": {
        "id": "_r1r-TBWmgYK"
      }
    },
    {
      "cell_type": "code",
      "source": [
        "# Make some predictions\n",
        "y_pred = model.predict(X_test)\n",
        "y_pred"
      ],
      "metadata": {
        "colab": {
          "base_uri": "https://localhost:8080/"
        },
        "id": "UgO9QjmnmbLd",
        "outputId": "69eb9c0c-3ead-484a-9aca-592912921213"
      },
      "execution_count": 60,
      "outputs": [
        {
          "output_type": "stream",
          "name": "stdout",
          "text": [
            "1/1 [==============================] - 0s 27ms/step\n"
          ]
        },
        {
          "output_type": "execute_result",
          "data": {
            "text/plain": [
              "array([[ 76.532   ],\n",
              "       [ 81.51717 ],\n",
              "       [ 86.50234 ],\n",
              "       [ 91.487526],\n",
              "       [ 96.47271 ],\n",
              "       [101.457886],\n",
              "       [106.443054],\n",
              "       [111.42823 ],\n",
              "       [116.413414],\n",
              "       [121.39859 ]], dtype=float32)"
            ]
          },
          "metadata": {},
          "execution_count": 60
        }
      ]
    },
    {
      "cell_type": "code",
      "source": [
        "y_test"
      ],
      "metadata": {
        "colab": {
          "base_uri": "https://localhost:8080/"
        },
        "id": "RvT4S768mndX",
        "outputId": "641a4203-d7da-40fc-be78-5e495050996e"
      },
      "execution_count": 40,
      "outputs": [
        {
          "output_type": "execute_result",
          "data": {
            "text/plain": [
              "<tf.Tensor: shape=(10,), dtype=int32, numpy=array([ 70,  74,  78,  82,  86,  90,  94,  98, 102, 106], dtype=int32)>"
            ]
          },
          "metadata": {},
          "execution_count": 40
        }
      ]
    },
    {
      "cell_type": "markdown",
      "source": [
        "🔑 **Note**: If you feel like you're going to reuse some kind of functionality in the future, it's a good idea to turn it into a function."
      ],
      "metadata": {
        "id": "YvG3TH3Qmsmk"
      }
    },
    {
      "cell_type": "code",
      "source": [
        "# Let's create a plotting function\n",
        "def plot_predictions(train_data=X_train,\n",
        "                     train_labels=y_train,\n",
        "                     test_data=X_test,\n",
        "                     test_labels=y_test,\n",
        "                     predictions=y_pred):\n",
        "  \"\"\"\n",
        "  Plots training data, test data and compares predictions to ground truth labels.\n",
        "  \"\"\"\n",
        "  plt.figure(figsize=(10, 7))\n",
        "  # Plot training data in blue\n",
        "  plt.scatter(train_data, train_labels, c=\"b\", label=\"Training data\")\n",
        "  # Plot testing data in green\n",
        "  plt.scatter(test_data, test_labels, c=\"g\", label=\"Testing data\")\n",
        "  # Plot model's predictions in red\n",
        "  plt.scatter(test_data, predictions, c=\"r\", label=\"Predictions\")\n",
        "  # Show the legend\n",
        "  plt.legend();"
      ],
      "metadata": {
        "id": "DKyTfIfbmpdL"
      },
      "execution_count": 41,
      "outputs": []
    },
    {
      "cell_type": "code",
      "source": [
        "plot_predictions(train_data=X_train,\n",
        "                 train_labels=y_train,\n",
        "                 test_data=X_test,\n",
        "                 test_labels=y_test,\n",
        "                 predictions=y_pred)"
      ],
      "metadata": {
        "colab": {
          "base_uri": "https://localhost:8080/",
          "height": 599
        },
        "id": "YOimQCdtmziP",
        "outputId": "fe9276f5-19e7-4a10-df1b-4800e7ebbd63"
      },
      "execution_count": 42,
      "outputs": [
        {
          "output_type": "display_data",
          "data": {
            "text/plain": [
              "<Figure size 1000x700 with 1 Axes>"
            ],
            "image/png": "[encoded data removed]"
          },
          "metadata": {}
        }
      ]
    },
    {
      "cell_type": "markdown",
      "source": [
        "## Evaluting our model's predictions with regression evaluation metrics\n",
        "Depending on the problem you're working on, there will be different evaluation metrics to evaluate your model's performance.\n",
        "\n",
        "Since we're working on a regression, two of the main metrics:\n",
        "\n",
        "* MAE - mean absolute error, \"on average, how wrong is each of my model's predictions\"\n",
        "* MSE - mean square error, \"square the average errors\""
      ],
      "metadata": {
        "id": "Xp_fQjpvm5IW"
      }
    },
    {
      "cell_type": "code",
      "source": [
        "# Evaluate the model on the test\n",
        "model.evaluate(X_test, y_test)"
      ],
      "metadata": {
        "colab": {
          "base_uri": "https://localhost:8080/"
        },
        "id": "x73eECn0m17H",
        "outputId": "4f7ce480-d0c3-4eba-9f58-740fe7eb2164"
      },
      "execution_count": 43,
      "outputs": [
        {
          "output_type": "stream",
          "name": "stdout",
          "text": [
            "1/1 [==============================] - 0s 125ms/step - loss: 10.9653 - mae: 10.9653\n"
          ]
        },
        {
          "output_type": "execute_result",
          "data": {
            "text/plain": [
              "[10.965291976928711, 10.965291976928711]"
            ]
          },
          "metadata": {},
          "execution_count": 43
        }
      ]
    },
    {
      "cell_type": "code",
      "source": [
        "# Calculate the mean absolute error\n",
        "mae = tf.metrics.mean_absolute_error(y_true=y_test,\n",
        "                                     y_pred=tf.constant(y_pred))\n",
        "mae"
      ],
      "metadata": {
        "colab": {
          "base_uri": "https://localhost:8080/"
        },
        "id": "vZPo5OpAnPNT",
        "outputId": "78ad31f4-a9ce-4865-dc09-01574ba49833"
      },
      "execution_count": 44,
      "outputs": [
        {
          "output_type": "execute_result",
          "data": {
            "text/plain": [
              "<tf.Tensor: shape=(10,), dtype=float32, numpy=\n",
              "array([13.280802 , 10.993131 , 10.       , 10.297505 , 11.7890835,\n",
              "       14.474731 , 18.443054 , 23.42823  , 28.413416 , 33.39859  ],\n",
              "      dtype=float32)>"
            ]
          },
          "metadata": {},
          "execution_count": 44
        }
      ]
    },
    {
      "cell_type": "code",
      "source": [
        "tf.constant(y_pred)"
      ],
      "metadata": {
        "colab": {
          "base_uri": "https://localhost:8080/"
        },
        "id": "zLyecUZPnSY9",
        "outputId": "ce7d946a-e589-4246-c8ea-2d9fd8b9ba0c"
      },
      "execution_count": 45,
      "outputs": [
        {
          "output_type": "execute_result",
          "data": {
            "text/plain": [
              "<tf.Tensor: shape=(10, 1), dtype=float32, numpy=\n",
              "array([[ 76.532   ],\n",
              "       [ 81.51717 ],\n",
              "       [ 86.50234 ],\n",
              "       [ 91.487526],\n",
              "       [ 96.47271 ],\n",
              "       [101.457886],\n",
              "       [106.443054],\n",
              "       [111.42823 ],\n",
              "       [116.413414],\n",
              "       [121.39859 ]], dtype=float32)>"
            ]
          },
          "metadata": {},
          "execution_count": 45
        }
      ]
    },
    {
      "cell_type": "code",
      "source": [
        "y_test"
      ],
      "metadata": {
        "colab": {
          "base_uri": "https://localhost:8080/"
        },
        "id": "V0ecxSJcnV1K",
        "outputId": "5c0b4cf6-0953-456c-fd15-f9256245fcd2"
      },
      "execution_count": 46,
      "outputs": [
        {
          "output_type": "execute_result",
          "data": {
            "text/plain": [
              "<tf.Tensor: shape=(10,), dtype=int32, numpy=array([ 70,  74,  78,  82,  86,  90,  94,  98, 102, 106], dtype=int32)>"
            ]
          },
          "metadata": {},
          "execution_count": 46
        }
      ]
    },
    {
      "cell_type": "code",
      "source": [
        "tf.squeeze(y_pred)"
      ],
      "metadata": {
        "colab": {
          "base_uri": "https://localhost:8080/"
        },
        "id": "Fci6-7LynYto",
        "outputId": "367f3ba5-3c51-4f30-9805-7eba2e291188"
      },
      "execution_count": 47,
      "outputs": [
        {
          "output_type": "execute_result",
          "data": {
            "text/plain": [
              "<tf.Tensor: shape=(10,), dtype=float32, numpy=\n",
              "array([ 76.532   ,  81.51717 ,  86.50234 ,  91.487526,  96.47271 ,\n",
              "       101.457886, 106.443054, 111.42823 , 116.413414, 121.39859 ],\n",
              "      dtype=float32)>"
            ]
          },
          "metadata": {},
          "execution_count": 47
        }
      ]
    },
    {
      "cell_type": "code",
      "source": [
        "# Calculate the mean absolute error\n",
        "mae = tf.metrics.mean_absolute_error(y_true=y_test,\n",
        "                                     y_pred=tf.squeeze(y_pred))\n",
        "mae"
      ],
      "metadata": {
        "colab": {
          "base_uri": "https://localhost:8080/"
        },
        "id": "zCQaNtILnafA",
        "outputId": "ef1a9528-1bd3-4b9a-a93b-95bccf1c99bc"
      },
      "execution_count": 48,
      "outputs": [
        {
          "output_type": "execute_result",
          "data": {
            "text/plain": [
              "<tf.Tensor: shape=(), dtype=float32, numpy=10.965292>"
            ]
          },
          "metadata": {},
          "execution_count": 48
        }
      ]
    },
    {
      "cell_type": "code",
      "source": [
        "# Calculate the mean square error\n",
        "mse = tf.metrics.mean_squared_error(y_true=y_test,\n",
        "                                    y_pred=tf.squeeze(y_pred))\n",
        "mse"
      ],
      "metadata": {
        "colab": {
          "base_uri": "https://localhost:8080/"
        },
        "id": "BjLdKkxCnciy",
        "outputId": "5162967b-0dcc-4296-a78a-6e728d3d1a71"
      },
      "execution_count": 49,
      "outputs": [
        {
          "output_type": "execute_result",
          "data": {
            "text/plain": [
              "<tf.Tensor: shape=(), dtype=float32, numpy=128.24487>"
            ]
          },
          "metadata": {},
          "execution_count": 49
        }
      ]
    },
    {
      "cell_type": "code",
      "source": [
        "# Make some functions to reuse MAE and MSE\n",
        "def mae(y_true, y_pred):\n",
        "  return tf.metrics.mean_absolute_error(y_true=y_true,\n",
        "                                        y_pred=tf.squeeze(y_pred))\n",
        "\n",
        "def mse(y_true, y_pred):\n",
        "  return tf.metrics.mean_squared_error(y_true=y_true,\n",
        "                                       y_pred=tf.squeeze(y_pred))"
      ],
      "metadata": {
        "id": "PAtSs7HQneXT"
      },
      "execution_count": 50,
      "outputs": []
    },
    {
      "cell_type": "markdown",
      "source": [
        "## Running experiments to improve our model\n",
        "`Build a model -> fit it -> evaluate it -> tweak it -> fit it -> evaluate it -> tweak it -> fit it -> evaluate it ...`\n",
        "Get more data - get more examples for your model to train on (more opportunities to learn patterns or relationships between features and labels).\n",
        "Make your model larger (using a more complex model) - this might come in the form of more layers or more hidden units in each layer.\n",
        "Train for longer - give your model more of a chance to find patterns in the data.\n",
        "Let's do 3 modelling experiments:\n",
        "\n",
        "* `model_1` - same as the original model, 1 layer, trained for 100 epochs\n",
        "* `model_2` - 2 layers, trained for 100 epochs\n",
        "* `model_3` - 2 layers, trained for 500 epochs\n",
        "\n",
        "**Build** `model_1`"
      ],
      "metadata": {
        "id": "lcmisBoNn1wy"
      }
    },
    {
      "cell_type": "code",
      "source": [
        "# Set random seed\n",
        "tf.random.set_seed(42)\n",
        "\n",
        "# 1. Create the model\n",
        "model_1 = tf.keras.Sequential([\n",
        "  tf.keras.layers.Dense(1)\n",
        "])\n",
        "\n",
        "# 2. Compile the model\n",
        "model_1.compile(loss=tf.keras.losses.mae,\n",
        "                optimizer=tf.keras.optimizers.SGD(),\n",
        "                metrics=[\"mae\"])\n",
        "\n",
        "# 3. Fit the model\n",
        "model_1.fit(X_train, y_train, epochs=100)"
      ],
      "metadata": {
        "colab": {
          "base_uri": "https://localhost:8080/"
        },
        "id": "x-n_x_vmny2S",
        "outputId": "e7857425-9c6b-41b2-8278-6b1fac833b23"
      },
      "execution_count": 51,
      "outputs": [
        {
          "output_type": "stream",
          "name": "stdout",
          "text": [
            "Epoch 1/100\n",
            "2/2 [==============================] - 1s 27ms/step - loss: 106.2038 - mae: 106.2038\n",
            "Epoch 2/100\n",
            "2/2 [==============================] - 0s 11ms/step - loss: 70.7483 - mae: 70.7483\n",
            "Epoch 3/100\n",
            "2/2 [==============================] - 0s 12ms/step - loss: 33.2515 - mae: 33.2515\n",
            "Epoch 4/100\n",
            "2/2 [==============================] - 0s 11ms/step - loss: 8.0133 - mae: 8.0133\n",
            "Epoch 5/100\n",
            "2/2 [==============================] - 0s 11ms/step - loss: 12.8141 - mae: 12.8141\n",
            "Epoch 6/100\n",
            "2/2 [==============================] - 0s 16ms/step - loss: 7.9203 - mae: 7.9203\n",
            "Epoch 7/100\n",
            "2/2 [==============================] - 0s 10ms/step - loss: 12.1363 - mae: 12.1363\n",
            "Epoch 8/100\n",
            "2/2 [==============================] - 0s 11ms/step - loss: 7.5670 - mae: 7.5670\n",
            "Epoch 9/100\n",
            "2/2 [==============================] - 0s 9ms/step - loss: 7.5519 - mae: 7.5519\n",
            "Epoch 10/100\n",
            "2/2 [==============================] - 0s 12ms/step - loss: 12.5782 - mae: 12.5782\n",
            "Epoch 11/100\n",
            "2/2 [==============================] - 0s 12ms/step - loss: 10.3159 - mae: 10.3159\n",
            "Epoch 12/100\n",
            "2/2 [==============================] - 0s 10ms/step - loss: 18.6088 - mae: 18.6088\n",
            "Epoch 13/100\n",
            "2/2 [==============================] - 0s 14ms/step - loss: 9.7494 - mae: 9.7494\n",
            "Epoch 14/100\n",
            "2/2 [==============================] - 0s 10ms/step - loss: 15.6711 - mae: 15.6711\n",
            "Epoch 15/100\n",
            "2/2 [==============================] - 0s 10ms/step - loss: 11.2824 - mae: 11.2824\n",
            "Epoch 16/100\n",
            "2/2 [==============================] - 0s 9ms/step - loss: 8.6083 - mae: 8.6083\n",
            "Epoch 17/100\n",
            "2/2 [==============================] - 0s 9ms/step - loss: 13.7644 - mae: 13.7644\n",
            "Epoch 18/100\n",
            "2/2 [==============================] - 0s 9ms/step - loss: 11.6178 - mae: 11.6178\n",
            "Epoch 19/100\n",
            "2/2 [==============================] - 0s 9ms/step - loss: 17.7812 - mae: 17.7812\n",
            "Epoch 20/100\n",
            "2/2 [==============================] - 0s 9ms/step - loss: 14.9169 - mae: 14.9169\n",
            "Epoch 21/100\n",
            "2/2 [==============================] - 0s 9ms/step - loss: 10.8180 - mae: 10.8180\n",
            "Epoch 22/100\n",
            "2/2 [==============================] - 0s 11ms/step - loss: 8.5638 - mae: 8.5638\n",
            "Epoch 23/100\n",
            "2/2 [==============================] - 0s 10ms/step - loss: 9.7829 - mae: 9.7829\n",
            "Epoch 24/100\n",
            "2/2 [==============================] - 0s 10ms/step - loss: 10.9211 - mae: 10.9211\n",
            "Epoch 25/100\n",
            "2/2 [==============================] - 0s 9ms/step - loss: 9.1633 - mae: 9.1633\n",
            "Epoch 26/100\n",
            "2/2 [==============================] - 0s 9ms/step - loss: 13.1536 - mae: 13.1536\n",
            "Epoch 27/100\n",
            "2/2 [==============================] - 0s 11ms/step - loss: 10.4659 - mae: 10.4659\n",
            "Epoch 28/100\n",
            "2/2 [==============================] - 0s 9ms/step - loss: 13.4991 - mae: 13.4991\n",
            "Epoch 29/100\n",
            "2/2 [==============================] - 0s 10ms/step - loss: 9.6524 - mae: 9.6524\n",
            "Epoch 30/100\n",
            "2/2 [==============================] - 0s 10ms/step - loss: 17.3517 - mae: 17.3517\n",
            "Epoch 31/100\n",
            "2/2 [==============================] - 0s 9ms/step - loss: 22.7453 - mae: 22.7453\n",
            "Epoch 32/100\n",
            "2/2 [==============================] - 0s 10ms/step - loss: 7.9433 - mae: 7.9433\n",
            "Epoch 33/100\n",
            "2/2 [==============================] - 0s 9ms/step - loss: 14.2420 - mae: 14.2420\n",
            "Epoch 34/100\n",
            "2/2 [==============================] - 0s 10ms/step - loss: 12.5098 - mae: 12.5098\n",
            "Epoch 35/100\n",
            "2/2 [==============================] - 0s 9ms/step - loss: 8.2547 - mae: 8.2547\n",
            "Epoch 36/100\n",
            "2/2 [==============================] - 0s 10ms/step - loss: 10.4515 - mae: 10.4515\n",
            "Epoch 37/100\n",
            "2/2 [==============================] - 0s 10ms/step - loss: 10.1081 - mae: 10.1081\n",
            "Epoch 38/100\n",
            "2/2 [==============================] - 0s 10ms/step - loss: 11.2660 - mae: 11.2660\n",
            "Epoch 39/100\n",
            "2/2 [==============================] - 0s 13ms/step - loss: 14.8655 - mae: 14.8655\n",
            "Epoch 40/100\n",
            "2/2 [==============================] - 0s 11ms/step - loss: 12.9949 - mae: 12.9949\n",
            "Epoch 41/100\n",
            "2/2 [==============================] - 0s 12ms/step - loss: 9.3971 - mae: 9.3971\n",
            "Epoch 42/100\n",
            "2/2 [==============================] - 0s 11ms/step - loss: 10.9637 - mae: 10.9637\n",
            "Epoch 43/100\n",
            "2/2 [==============================] - 0s 12ms/step - loss: 8.3467 - mae: 8.3467\n",
            "Epoch 44/100\n",
            "2/2 [==============================] - 0s 13ms/step - loss: 12.9541 - mae: 12.9541\n",
            "Epoch 45/100\n",
            "2/2 [==============================] - 0s 10ms/step - loss: 13.7978 - mae: 13.7978\n",
            "Epoch 46/100\n",
            "2/2 [==============================] - 0s 13ms/step - loss: 8.4813 - mae: 8.4813\n",
            "Epoch 47/100\n",
            "2/2 [==============================] - 0s 15ms/step - loss: 9.1682 - mae: 9.1682\n",
            "Epoch 48/100\n",
            "2/2 [==============================] - 0s 10ms/step - loss: 10.6597 - mae: 10.6597\n",
            "Epoch 49/100\n",
            "2/2 [==============================] - 0s 11ms/step - loss: 7.7831 - mae: 7.7831\n",
            "Epoch 50/100\n",
            "2/2 [==============================] - 0s 11ms/step - loss: 9.5791 - mae: 9.5791\n",
            "Epoch 51/100\n",
            "2/2 [==============================] - 0s 10ms/step - loss: 9.1872 - mae: 9.1872\n",
            "Epoch 52/100\n",
            "2/2 [==============================] - 0s 11ms/step - loss: 16.3985 - mae: 16.3985\n",
            "Epoch 53/100\n",
            "2/2 [==============================] - 0s 10ms/step - loss: 14.1377 - mae: 14.1377\n",
            "Epoch 54/100\n",
            "2/2 [==============================] - 0s 10ms/step - loss: 21.1082 - mae: 21.1082\n",
            "Epoch 55/100\n",
            "2/2 [==============================] - 0s 12ms/step - loss: 16.4342 - mae: 16.4342\n",
            "Epoch 56/100\n",
            "2/2 [==============================] - 0s 12ms/step - loss: 9.9388 - mae: 9.9388\n",
            "Epoch 57/100\n",
            "2/2 [==============================] - 0s 13ms/step - loss: 9.6515 - mae: 9.6515\n",
            "Epoch 58/100\n",
            "2/2 [==============================] - 0s 11ms/step - loss: 8.9815 - mae: 8.9815\n",
            "Epoch 59/100\n",
            "2/2 [==============================] - 0s 10ms/step - loss: 10.1726 - mae: 10.1726\n",
            "Epoch 60/100\n",
            "2/2 [==============================] - 0s 10ms/step - loss: 8.4706 - mae: 8.4706\n",
            "Epoch 61/100\n",
            "2/2 [==============================] - 0s 12ms/step - loss: 9.3211 - mae: 9.3211\n",
            "Epoch 62/100\n",
            "2/2 [==============================] - 0s 11ms/step - loss: 7.1006 - mae: 7.1006\n",
            "Epoch 63/100\n",
            "2/2 [==============================] - 0s 9ms/step - loss: 8.6566 - mae: 8.6566\n",
            "Epoch 64/100\n",
            "2/2 [==============================] - 0s 8ms/step - loss: 9.2358 - mae: 9.2358\n",
            "Epoch 65/100\n",
            "2/2 [==============================] - 0s 8ms/step - loss: 10.4768 - mae: 10.4768\n",
            "Epoch 66/100\n",
            "2/2 [==============================] - 0s 9ms/step - loss: 15.7051 - mae: 15.7051\n",
            "Epoch 67/100\n",
            "2/2 [==============================] - 0s 9ms/step - loss: 10.0929 - mae: 10.0929\n",
            "Epoch 68/100\n",
            "2/2 [==============================] - 0s 10ms/step - loss: 9.0588 - mae: 9.0588\n",
            "Epoch 69/100\n",
            "2/2 [==============================] - 0s 10ms/step - loss: 12.5781 - mae: 12.5781\n",
            "Epoch 70/100\n",
            "2/2 [==============================] - 0s 8ms/step - loss: 8.9871 - mae: 8.9871\n",
            "Epoch 71/100\n",
            "2/2 [==============================] - 0s 8ms/step - loss: 9.9618 - mae: 9.9618\n",
            "Epoch 72/100\n",
            "2/2 [==============================] - 0s 7ms/step - loss: 9.9999 - mae: 9.9999\n",
            "Epoch 73/100\n",
            "2/2 [==============================] - 0s 8ms/step - loss: 12.4672 - mae: 12.4672\n",
            "Epoch 74/100\n",
            "2/2 [==============================] - 0s 7ms/step - loss: 10.5940 - mae: 10.5940\n",
            "Epoch 75/100\n",
            "2/2 [==============================] - 0s 8ms/step - loss: 9.6583 - mae: 9.6583\n",
            "Epoch 76/100\n",
            "2/2 [==============================] - 0s 8ms/step - loss: 11.1263 - mae: 11.1263\n",
            "Epoch 77/100\n",
            "2/2 [==============================] - 0s 10ms/step - loss: 8.3053 - mae: 8.3053\n",
            "Epoch 78/100\n",
            "2/2 [==============================] - 0s 7ms/step - loss: 8.9998 - mae: 8.9998\n",
            "Epoch 79/100\n",
            "2/2 [==============================] - 0s 7ms/step - loss: 19.7966 - mae: 19.7966\n",
            "Epoch 80/100\n",
            "2/2 [==============================] - 0s 8ms/step - loss: 17.8364 - mae: 17.8364\n",
            "Epoch 81/100\n",
            "2/2 [==============================] - 0s 8ms/step - loss: 7.1041 - mae: 7.1041\n",
            "Epoch 82/100\n",
            "2/2 [==============================] - 0s 8ms/step - loss: 10.4370 - mae: 10.4370\n",
            "Epoch 83/100\n",
            "2/2 [==============================] - 0s 8ms/step - loss: 9.8612 - mae: 9.8612\n",
            "Epoch 84/100\n",
            "2/2 [==============================] - 0s 9ms/step - loss: 7.9610 - mae: 7.9610\n",
            "Epoch 85/100\n",
            "2/2 [==============================] - 0s 8ms/step - loss: 9.4680 - mae: 9.4680\n",
            "Epoch 86/100\n",
            "2/2 [==============================] - 0s 7ms/step - loss: 9.5120 - mae: 9.5120\n",
            "Epoch 87/100\n",
            "2/2 [==============================] - 0s 8ms/step - loss: 11.4511 - mae: 11.4511\n",
            "Epoch 88/100\n",
            "2/2 [==============================] - 0s 8ms/step - loss: 9.9532 - mae: 9.9532\n",
            "Epoch 89/100\n",
            "2/2 [==============================] - 0s 8ms/step - loss: 7.2790 - mae: 7.2790\n",
            "Epoch 90/100\n",
            "2/2 [==============================] - 0s 8ms/step - loss: 12.7104 - mae: 12.7104\n",
            "Epoch 91/100\n",
            "2/2 [==============================] - 0s 8ms/step - loss: 7.3364 - mae: 7.3364\n",
            "Epoch 92/100\n",
            "2/2 [==============================] - 0s 12ms/step - loss: 7.7001 - mae: 7.7001\n",
            "Epoch 93/100\n",
            "2/2 [==============================] - 0s 8ms/step - loss: 7.1463 - mae: 7.1463\n",
            "Epoch 94/100\n",
            "2/2 [==============================] - 0s 9ms/step - loss: 12.5595 - mae: 12.5595\n",
            "Epoch 95/100\n",
            "2/2 [==============================] - 0s 8ms/step - loss: 9.9388 - mae: 9.9388\n",
            "Epoch 96/100\n",
            "2/2 [==============================] - 0s 8ms/step - loss: 9.1705 - mae: 9.1705\n",
            "Epoch 97/100\n",
            "2/2 [==============================] - 0s 9ms/step - loss: 12.1173 - mae: 12.1173\n",
            "Epoch 98/100\n",
            "2/2 [==============================] - 0s 8ms/step - loss: 9.0831 - mae: 9.0831\n",
            "Epoch 99/100\n",
            "2/2 [==============================] - 0s 7ms/step - loss: 8.5249 - mae: 8.5249\n",
            "Epoch 100/100\n",
            "2/2 [==============================] - 0s 8ms/step - loss: 14.4844 - mae: 14.4844\n"
          ]
        },
        {
          "output_type": "execute_result",
          "data": {
            "text/plain": [
              "<keras.src.callbacks.History at 0x7ec5d45aebf0>"
            ]
          },
          "metadata": {},
          "execution_count": 51
        }
      ]
    },
    {
      "cell_type": "code",
      "source": [
        "# Make and plot predictions for model_1\n",
        "y_preds_1 = model_1.predict(X_test)\n",
        "plot_predictions(predictions=y_preds_1)"
      ],
      "metadata": {
        "colab": {
          "base_uri": "https://localhost:8080/",
          "height": 654
        },
        "id": "q4GmUYAnoQ0q",
        "outputId": "5278ec81-15e5-4e80-c21b-31891442d28e"
      },
      "execution_count": 52,
      "outputs": [
        {
          "output_type": "stream",
          "name": "stderr",
          "text": [
            "WARNING:tensorflow:5 out of the last 5 calls to <function Model.make_predict_function.<locals>.predict_function at 0x7ec5d4537250> triggered tf.function retracing. Tracing is expensive and the excessive number of tracings could be due to (1) creating @tf.function repeatedly in a loop, (2) passing tensors with different shapes, (3) passing Python objects instead of tensors. For (1), please define your @tf.function outside of the loop. For (2), @tf.function has reduce_retracing=True option that can avoid unnecessary retracing. For (3), please refer to https://www.tensorflow.org/guide/function#controlling_retracing and https://www.tensorflow.org/api_docs/python/tf/function for  more details.\n"
          ]
        },
        {
          "output_type": "stream",
          "name": "stdout",
          "text": [
            "1/1 [==============================] - 0s 38ms/step\n"
          ]
        },
        {
          "output_type": "display_data",
          "data": {
            "text/plain": [
              "<Figure size 1000x700 with 1 Axes>"
            ],
            "image/png": "[encoded data removed]"
          },
          "metadata": {}
        }
      ]
    },
    {
      "cell_type": "code",
      "source": [
        "# Calculate model_1 evaluation metrics\n",
        "mae_1 = mae(y_test, y_preds_1)\n",
        "mse_1 = mse(y_test, y_preds_1)\n",
        "mae_1, mse_1"
      ],
      "metadata": {
        "colab": {
          "base_uri": "https://localhost:8080/"
        },
        "id": "B7YvWuaVoT5u",
        "outputId": "2e40e981-7bbf-467a-b616-f3949b47a19a"
      },
      "execution_count": 53,
      "outputs": [
        {
          "output_type": "execute_result",
          "data": {
            "text/plain": [
              "(<tf.Tensor: shape=(), dtype=float32, numpy=30.646997>,\n",
              " <tf.Tensor: shape=(), dtype=float32, numpy=949.6525>)"
            ]
          },
          "metadata": {},
          "execution_count": 53
        }
      ]
    },
    {
      "cell_type": "markdown",
      "source": [
        "Build `model_2`\n",
        "\n",
        "* 2 dense layers, trained for 100 epochs"
      ],
      "metadata": {
        "id": "doMSjJ06oZQu"
      }
    },
    {
      "cell_type": "code",
      "source": [
        "# Set the random seed\n",
        "tf.random.set_seed(42)\n",
        "\n",
        "# 1. Create the model\n",
        "model_2 = tf.keras.Sequential([\n",
        "  tf.keras.layers.Dense(10),\n",
        "  tf.keras.layers.Dense(1)\n",
        "])\n",
        "\n",
        "# 2. Compile the model\n",
        "model_2.compile(loss=tf.keras.losses.mae,\n",
        "                optimizer=tf.keras.optimizers.SGD(),\n",
        "                metrics=[\"mse\"])\n",
        "\n",
        "# 3. Fit the model\n",
        "model_2.fit(X_train, y_train, epochs=100)"
      ],
      "metadata": {
        "colab": {
          "base_uri": "https://localhost:8080/"
        },
        "id": "eZY4HbGBoWZw",
        "outputId": "189e748e-7b44-4e84-8675-8c2b3ce94b5e"
      },
      "execution_count": 61,
      "outputs": [
        {
          "output_type": "stream",
          "name": "stdout",
          "text": [
            "Epoch 1/100\n",
            "2/2 [==============================] - 0s 13ms/step - loss: 44.2253 - mse: 2745.0295\n",
            "Epoch 2/100\n",
            "2/2 [==============================] - 0s 9ms/step - loss: 33.3011 - mse: 1511.1842\n",
            "Epoch 3/100\n",
            "2/2 [==============================] - 0s 8ms/step - loss: 37.4675 - mse: 2113.8303\n",
            "Epoch 4/100\n",
            "2/2 [==============================] - 0s 8ms/step - loss: 27.4562 - mse: 1099.4373\n",
            "Epoch 5/100\n",
            "2/2 [==============================] - 0s 8ms/step - loss: 14.9851 - mse: 281.8994\n",
            "Epoch 6/100\n",
            "2/2 [==============================] - 0s 8ms/step - loss: 11.9284 - mse: 170.1098\n",
            "Epoch 7/100\n",
            "2/2 [==============================] - 0s 10ms/step - loss: 11.2699 - mse: 154.1127\n",
            "Epoch 8/100\n",
            "2/2 [==============================] - 0s 9ms/step - loss: 11.1571 - mse: 164.1707\n",
            "Epoch 9/100\n",
            "2/2 [==============================] - 0s 8ms/step - loss: 41.0622 - mse: 2670.5767\n",
            "Epoch 10/100\n",
            "2/2 [==============================] - 0s 9ms/step - loss: 28.3801 - mse: 1136.2878\n",
            "Epoch 11/100\n",
            "2/2 [==============================] - 0s 8ms/step - loss: 10.2546 - mse: 150.3042\n",
            "Epoch 12/100\n",
            "2/2 [==============================] - 0s 8ms/step - loss: 25.1681 - mse: 883.7900\n",
            "Epoch 13/100\n",
            "2/2 [==============================] - 0s 8ms/step - loss: 17.6728 - mse: 433.4118\n",
            "Epoch 14/100\n",
            "2/2 [==============================] - 0s 8ms/step - loss: 23.8686 - mse: 874.9946\n",
            "Epoch 15/100\n",
            "2/2 [==============================] - 0s 9ms/step - loss: 15.8853 - mse: 344.0146\n",
            "Epoch 16/100\n",
            "2/2 [==============================] - 0s 8ms/step - loss: 10.4818 - mse: 125.3133\n",
            "Epoch 17/100\n",
            "2/2 [==============================] - 0s 8ms/step - loss: 20.1396 - mse: 552.6146\n",
            "Epoch 18/100\n",
            "2/2 [==============================] - 0s 9ms/step - loss: 10.8706 - mse: 175.2839\n",
            "Epoch 19/100\n",
            "2/2 [==============================] - 0s 10ms/step - loss: 10.7612 - mse: 141.5988\n",
            "Epoch 20/100\n",
            "2/2 [==============================] - 0s 12ms/step - loss: 12.0828 - mse: 166.8425\n",
            "Epoch 21/100\n",
            "2/2 [==============================] - 0s 9ms/step - loss: 20.2680 - mse: 597.2102\n",
            "Epoch 22/100\n",
            "2/2 [==============================] - 0s 8ms/step - loss: 13.8566 - mse: 246.6087\n",
            "Epoch 23/100\n",
            "2/2 [==============================] - 0s 8ms/step - loss: 9.5763 - mse: 95.6699\n",
            "Epoch 24/100\n",
            "2/2 [==============================] - 0s 8ms/step - loss: 11.9366 - mse: 164.9357\n",
            "Epoch 25/100\n",
            "2/2 [==============================] - 0s 9ms/step - loss: 16.3041 - mse: 389.6214\n",
            "Epoch 26/100\n",
            "2/2 [==============================] - 0s 8ms/step - loss: 16.4926 - mse: 379.2362\n",
            "Epoch 27/100\n",
            "2/2 [==============================] - 0s 9ms/step - loss: 11.6165 - mse: 184.1503\n",
            "Epoch 28/100\n",
            "2/2 [==============================] - 0s 8ms/step - loss: 30.1611 - mse: 1484.2578\n",
            "Epoch 29/100\n",
            "2/2 [==============================] - 0s 8ms/step - loss: 9.2548 - mse: 92.3722\n",
            "Epoch 30/100\n",
            "2/2 [==============================] - 0s 8ms/step - loss: 30.6731 - mse: 1729.4291\n",
            "Epoch 31/100\n",
            "2/2 [==============================] - 0s 8ms/step - loss: 41.9674 - mse: 3078.6853\n",
            "Epoch 32/100\n",
            "2/2 [==============================] - 0s 7ms/step - loss: 11.8928 - mse: 205.6003\n",
            "Epoch 33/100\n",
            "2/2 [==============================] - 0s 8ms/step - loss: 15.4850 - mse: 330.4636\n",
            "Epoch 34/100\n",
            "2/2 [==============================] - 0s 8ms/step - loss: 12.5795 - mse: 208.8064\n",
            "Epoch 35/100\n",
            "2/2 [==============================] - 0s 10ms/step - loss: 9.1808 - mse: 91.3057\n",
            "Epoch 36/100\n",
            "2/2 [==============================] - 0s 9ms/step - loss: 16.4809 - mse: 394.9949\n",
            "Epoch 37/100\n",
            "2/2 [==============================] - 0s 9ms/step - loss: 11.0696 - mse: 191.9311\n",
            "Epoch 38/100\n",
            "2/2 [==============================] - 0s 7ms/step - loss: 18.1992 - mse: 436.3521\n",
            "Epoch 39/100\n",
            "2/2 [==============================] - 0s 8ms/step - loss: 19.1308 - mse: 532.8478\n",
            "Epoch 40/100\n",
            "2/2 [==============================] - 0s 8ms/step - loss: 20.4900 - mse: 613.4677\n",
            "Epoch 41/100\n",
            "2/2 [==============================] - 0s 8ms/step - loss: 14.8127 - mse: 275.1176\n",
            "Epoch 42/100\n",
            "2/2 [==============================] - 0s 8ms/step - loss: 12.2066 - mse: 183.0823\n",
            "Epoch 43/100\n",
            "2/2 [==============================] - 0s 8ms/step - loss: 10.6860 - mse: 164.0907\n",
            "Epoch 44/100\n",
            "2/2 [==============================] - 0s 8ms/step - loss: 32.3766 - mse: 1724.8414\n",
            "Epoch 45/100\n",
            "2/2 [==============================] - 0s 10ms/step - loss: 12.4786 - mse: 203.1059\n",
            "Epoch 46/100\n",
            "2/2 [==============================] - 0s 7ms/step - loss: 17.6024 - mse: 464.4092\n",
            "Epoch 47/100\n",
            "2/2 [==============================] - 0s 8ms/step - loss: 15.7124 - mse: 337.7173\n",
            "Epoch 48/100\n",
            "2/2 [==============================] - 0s 8ms/step - loss: 8.3407 - mse: 112.2885\n",
            "Epoch 49/100\n",
            "2/2 [==============================] - 0s 9ms/step - loss: 13.9392 - mse: 267.9797\n",
            "Epoch 50/100\n",
            "2/2 [==============================] - 0s 9ms/step - loss: 12.7898 - mse: 214.1493\n",
            "Epoch 51/100\n",
            "2/2 [==============================] - 0s 9ms/step - loss: 14.8045 - mse: 307.7548\n",
            "Epoch 52/100\n",
            "2/2 [==============================] - 0s 9ms/step - loss: 18.6932 - mse: 526.9232\n",
            "Epoch 53/100\n",
            "2/2 [==============================] - 0s 7ms/step - loss: 24.1181 - mse: 825.4327\n",
            "Epoch 54/100\n",
            "2/2 [==============================] - 0s 7ms/step - loss: 23.2928 - mse: 813.6882\n",
            "Epoch 55/100\n",
            "2/2 [==============================] - 0s 8ms/step - loss: 24.1628 - mse: 879.2053\n",
            "Epoch 56/100\n",
            "2/2 [==============================] - 0s 8ms/step - loss: 11.1853 - mse: 170.7407\n",
            "Epoch 57/100\n",
            "2/2 [==============================] - 0s 15ms/step - loss: 13.1592 - mse: 216.4176\n",
            "Epoch 58/100\n",
            "2/2 [==============================] - 0s 9ms/step - loss: 9.8296 - mse: 106.7149\n",
            "Epoch 59/100\n",
            "2/2 [==============================] - 0s 9ms/step - loss: 13.3652 - mse: 253.2908\n",
            "Epoch 60/100\n",
            "2/2 [==============================] - 0s 7ms/step - loss: 10.8970 - mse: 140.6387\n",
            "Epoch 61/100\n",
            "2/2 [==============================] - 0s 8ms/step - loss: 13.5253 - mse: 245.2052\n",
            "Epoch 62/100\n",
            "2/2 [==============================] - 0s 8ms/step - loss: 17.8599 - mse: 485.5672\n",
            "Epoch 63/100\n",
            "2/2 [==============================] - 0s 8ms/step - loss: 8.7104 - mse: 91.6334\n",
            "Epoch 64/100\n",
            "2/2 [==============================] - 0s 9ms/step - loss: 16.1209 - mse: 372.7336\n",
            "Epoch 65/100\n",
            "2/2 [==============================] - 0s 8ms/step - loss: 10.7196 - mse: 146.2397\n",
            "Epoch 66/100\n",
            "2/2 [==============================] - 0s 8ms/step - loss: 22.1942 - mse: 729.8713\n",
            "Epoch 67/100\n",
            "2/2 [==============================] - 0s 8ms/step - loss: 10.2474 - mse: 120.8531\n",
            "Epoch 68/100\n",
            "2/2 [==============================] - 0s 8ms/step - loss: 13.4699 - mse: 269.4915\n",
            "Epoch 69/100\n",
            "2/2 [==============================] - 0s 8ms/step - loss: 11.4207 - mse: 163.3821\n",
            "Epoch 70/100\n",
            "2/2 [==============================] - 0s 7ms/step - loss: 14.0253 - mse: 267.7961\n",
            "Epoch 71/100\n",
            "2/2 [==============================] - 0s 7ms/step - loss: 15.5720 - mse: 344.6277\n",
            "Epoch 72/100\n",
            "2/2 [==============================] - 0s 7ms/step - loss: 11.8104 - mse: 167.1444\n",
            "Epoch 73/100\n",
            "2/2 [==============================] - 0s 8ms/step - loss: 16.5878 - mse: 370.8687\n",
            "Epoch 74/100\n",
            "2/2 [==============================] - 0s 8ms/step - loss: 24.1026 - mse: 913.9554\n",
            "Epoch 75/100\n",
            "2/2 [==============================] - 0s 8ms/step - loss: 9.5996 - mse: 148.9266\n",
            "Epoch 76/100\n",
            "2/2 [==============================] - 0s 9ms/step - loss: 12.4509 - mse: 188.9719\n",
            "Epoch 77/100\n",
            "2/2 [==============================] - 0s 8ms/step - loss: 16.6973 - mse: 432.2244\n",
            "Epoch 78/100\n",
            "2/2 [==============================] - 0s 8ms/step - loss: 9.0608 - mse: 95.9530\n",
            "Epoch 79/100\n",
            "2/2 [==============================] - 0s 10ms/step - loss: 24.0354 - mse: 869.6301\n",
            "Epoch 80/100\n",
            "2/2 [==============================] - 0s 8ms/step - loss: 26.8280 - mse: 1111.8656\n",
            "Epoch 81/100\n",
            "2/2 [==============================] - 0s 9ms/step - loss: 11.7026 - mse: 172.3160\n",
            "Epoch 82/100\n",
            "2/2 [==============================] - 0s 9ms/step - loss: 11.9961 - mse: 211.3965\n",
            "Epoch 83/100\n",
            "2/2 [==============================] - 0s 9ms/step - loss: 17.3837 - mse: 393.7968\n",
            "Epoch 84/100\n",
            "2/2 [==============================] - 0s 9ms/step - loss: 7.2506 - mse: 73.0419\n",
            "Epoch 85/100\n",
            "2/2 [==============================] - 0s 9ms/step - loss: 14.9336 - mse: 311.6479\n",
            "Epoch 86/100\n",
            "2/2 [==============================] - 0s 14ms/step - loss: 15.2601 - mse: 314.6844\n",
            "Epoch 87/100\n",
            "2/2 [==============================] - 0s 9ms/step - loss: 19.0584 - mse: 518.9780\n",
            "Epoch 88/100\n",
            "2/2 [==============================] - 0s 8ms/step - loss: 29.9510 - mse: 1299.0897\n",
            "Epoch 89/100\n",
            "2/2 [==============================] - 0s 9ms/step - loss: 10.1873 - mse: 124.0973\n",
            "Epoch 90/100\n",
            "2/2 [==============================] - 0s 9ms/step - loss: 21.6329 - mse: 670.7755\n",
            "Epoch 91/100\n",
            "2/2 [==============================] - 0s 9ms/step - loss: 10.5927 - mse: 161.2049\n",
            "Epoch 92/100\n",
            "2/2 [==============================] - 0s 9ms/step - loss: 18.4981 - mse: 469.5512\n",
            "Epoch 93/100\n",
            "2/2 [==============================] - 0s 8ms/step - loss: 8.1477 - mse: 105.3146\n",
            "Epoch 94/100\n",
            "2/2 [==============================] - 0s 9ms/step - loss: 11.3579 - mse: 166.8780\n",
            "Epoch 95/100\n",
            "2/2 [==============================] - 0s 8ms/step - loss: 25.4273 - mse: 976.2236\n",
            "Epoch 96/100\n",
            "2/2 [==============================] - 0s 8ms/step - loss: 10.9787 - mse: 169.6189\n",
            "Epoch 97/100\n",
            "2/2 [==============================] - 0s 10ms/step - loss: 16.2980 - mse: 404.8635\n",
            "Epoch 98/100\n",
            "2/2 [==============================] - 0s 13ms/step - loss: 7.0728 - mse: 76.3520\n",
            "Epoch 99/100\n",
            "2/2 [==============================] - 0s 10ms/step - loss: 9.8887 - mse: 154.9878\n",
            "Epoch 100/100\n",
            "2/2 [==============================] - 0s 7ms/step - loss: 19.3928 - mse: 552.5308\n"
          ]
        },
        {
          "output_type": "execute_result",
          "data": {
            "text/plain": [
              "<keras.src.callbacks.History at 0x7ec5bfe47be0>"
            ]
          },
          "metadata": {},
          "execution_count": 61
        }
      ]
    },
    {
      "cell_type": "code",
      "source": [
        "# Make and plot predictions of model_2\n",
        "y_preds_2 = model_2.predict(X_test)\n",
        "plot_predictions(predictions=y_preds_2)"
      ],
      "metadata": {
        "colab": {
          "base_uri": "https://localhost:8080/",
          "height": 616
        },
        "id": "tP_ev4ZcoiTO",
        "outputId": "1357ace4-4827-4d2f-9ff1-57ef1f1f9bca"
      },
      "execution_count": 62,
      "outputs": [
        {
          "output_type": "stream",
          "name": "stdout",
          "text": [
            "1/1 [==============================] - 0s 46ms/step\n"
          ]
        },
        {
          "output_type": "display_data",
          "data": {
            "text/plain": [
              "<Figure size 1000x700 with 1 Axes>"
            ],
            "image/png": "[encoded data removed]"
          },
          "metadata": {}
        }
      ]
    },
    {
      "cell_type": "code",
      "source": [
        "# Calculate model_2 evaluation metrics\n",
        "mae_2 = mae(y_test, y_preds_2)\n",
        "mse_2 = mse(y_test, y_preds_2)\n",
        "mae_2, mse_2"
      ],
      "metadata": {
        "colab": {
          "base_uri": "https://localhost:8080/"
        },
        "id": "fl1zqMsRomBF",
        "outputId": "b005d58d-76b6-4f72-80c6-21f558559fa2"
      },
      "execution_count": 56,
      "outputs": [
        {
          "output_type": "execute_result",
          "data": {
            "text/plain": [
              "(<tf.Tensor: shape=(), dtype=float32, numpy=29.580383>,\n",
              " <tf.Tensor: shape=(), dtype=float32, numpy=905.88983>)"
            ]
          },
          "metadata": {},
          "execution_count": 56
        }
      ]
    },
    {
      "cell_type": "markdown",
      "source": [
        "Build `model_3`\n",
        "\n",
        "* 2 layers, trained for 500 epochs"
      ],
      "metadata": {
        "id": "9toI8TcnovOc"
      }
    },
    {
      "cell_type": "code",
      "source": [
        "# Set random seed\n",
        "tf.random.set_seed(42)\n",
        "\n",
        "# 1. Create a model\n",
        "model_3 = tf.keras.Sequential([\n",
        "  tf.keras.layers.Dense(10),\n",
        "  tf.keras.layers.Dense(1)\n",
        "])\n",
        "\n",
        "# 2. Compile the model\n",
        "model_3.compile(loss=tf.keras.losses.mae,\n",
        "                optimizer=tf.keras.optimizers.SGD(),\n",
        "                metrics=[\"mae\"])\n",
        "\n",
        "# 3. Fit the model\n",
        "model_3.fit(X_train, y_train, epochs=500)"
      ],
      "metadata": {
        "colab": {
          "base_uri": "https://localhost:8080/"
        },
        "id": "HOFXjfLnop47",
        "outputId": "ab3c6a78-839e-46af-e4b5-080896709edd"
      },
      "execution_count": 63,
      "outputs": [
        {
          "output_type": "stream",
          "name": "stdout",
          "text": [
            "Epoch 1/500\n",
            "2/2 [==============================] - 0s 13ms/step - loss: 36.5243 - mae: 36.5243\n",
            "Epoch 2/500\n",
            "2/2 [==============================] - 0s 11ms/step - loss: 28.9773 - mae: 28.9773\n",
            "Epoch 3/500\n",
            "2/2 [==============================] - 0s 11ms/step - loss: 33.6100 - mae: 33.6100\n",
            "Epoch 4/500\n",
            "2/2 [==============================] - 0s 10ms/step - loss: 29.5527 - mae: 29.5527\n",
            "Epoch 5/500\n",
            "2/2 [==============================] - 0s 9ms/step - loss: 16.4104 - mae: 16.4104\n",
            "Epoch 6/500\n",
            "2/2 [==============================] - 0s 10ms/step - loss: 11.1628 - mae: 11.1628\n",
            "Epoch 7/500\n",
            "2/2 [==============================] - 0s 10ms/step - loss: 12.1825 - mae: 12.1825\n",
            "Epoch 8/500\n",
            "2/2 [==============================] - 0s 10ms/step - loss: 10.9185 - mae: 10.9185\n",
            "Epoch 9/500\n",
            "2/2 [==============================] - 0s 9ms/step - loss: 38.1272 - mae: 38.1272\n",
            "Epoch 10/500\n",
            "2/2 [==============================] - 0s 10ms/step - loss: 25.6958 - mae: 25.6958\n",
            "Epoch 11/500\n",
            "2/2 [==============================] - 0s 10ms/step - loss: 10.2509 - mae: 10.2509\n",
            "Epoch 12/500\n",
            "2/2 [==============================] - 0s 10ms/step - loss: 25.2582 - mae: 25.2582\n",
            "Epoch 13/500\n",
            "2/2 [==============================] - 0s 8ms/step - loss: 17.0763 - mae: 17.0763\n",
            "Epoch 14/500\n",
            "2/2 [==============================] - 0s 10ms/step - loss: 26.0812 - mae: 26.0812\n",
            "Epoch 15/500\n",
            "2/2 [==============================] - 0s 8ms/step - loss: 18.1249 - mae: 18.1249\n",
            "Epoch 16/500\n",
            "2/2 [==============================] - 0s 10ms/step - loss: 7.8605 - mae: 7.8605\n",
            "Epoch 17/500\n",
            "2/2 [==============================] - 0s 9ms/step - loss: 22.2398 - mae: 22.2398\n",
            "Epoch 18/500\n",
            "2/2 [==============================] - 0s 9ms/step - loss: 10.8331 - mae: 10.8331\n",
            "Epoch 19/500\n",
            "2/2 [==============================] - 0s 9ms/step - loss: 10.7218 - mae: 10.7218\n",
            "Epoch 20/500\n",
            "2/2 [==============================] - 0s 9ms/step - loss: 12.0440 - mae: 12.0440\n",
            "Epoch 21/500\n",
            "2/2 [==============================] - 0s 10ms/step - loss: 20.1599 - mae: 20.1599\n",
            "Epoch 22/500\n",
            "2/2 [==============================] - 0s 9ms/step - loss: 13.7936 - mae: 13.7936\n",
            "Epoch 23/500\n",
            "2/2 [==============================] - 0s 10ms/step - loss: 9.5406 - mae: 9.5406\n",
            "Epoch 24/500\n",
            "2/2 [==============================] - 0s 10ms/step - loss: 11.8977 - mae: 11.8977\n",
            "Epoch 25/500\n",
            "2/2 [==============================] - 0s 10ms/step - loss: 16.2162 - mae: 16.2162\n",
            "Epoch 26/500\n",
            "2/2 [==============================] - 0s 10ms/step - loss: 16.4079 - mae: 16.4079\n",
            "Epoch 27/500\n",
            "2/2 [==============================] - 0s 13ms/step - loss: 11.5889 - mae: 11.5889\n",
            "Epoch 28/500\n",
            "2/2 [==============================] - 0s 9ms/step - loss: 30.0004 - mae: 30.0004\n",
            "Epoch 29/500\n",
            "2/2 [==============================] - 0s 10ms/step - loss: 9.2518 - mae: 9.2518\n",
            "Epoch 30/500\n",
            "2/2 [==============================] - 0s 8ms/step - loss: 30.5447 - mae: 30.5447\n",
            "Epoch 31/500\n",
            "2/2 [==============================] - 0s 10ms/step - loss: 55.5276 - mae: 55.5276\n",
            "Epoch 32/500\n",
            "2/2 [==============================] - 0s 9ms/step - loss: 9.7320 - mae: 9.7320\n",
            "Epoch 33/500\n",
            "2/2 [==============================] - 0s 9ms/step - loss: 12.3512 - mae: 12.3512\n",
            "Epoch 34/500\n",
            "2/2 [==============================] - 0s 8ms/step - loss: 24.7188 - mae: 24.7188\n",
            "Epoch 35/500\n",
            "2/2 [==============================] - 0s 8ms/step - loss: 11.9169 - mae: 11.9169\n",
            "Epoch 36/500\n",
            "2/2 [==============================] - 0s 8ms/step - loss: 22.0937 - mae: 22.0937\n",
            "Epoch 37/500\n",
            "2/2 [==============================] - 0s 8ms/step - loss: 17.5751 - mae: 17.5751\n",
            "Epoch 38/500\n",
            "2/2 [==============================] - 0s 8ms/step - loss: 10.7349 - mae: 10.7349\n",
            "Epoch 39/500\n",
            "2/2 [==============================] - 0s 8ms/step - loss: 11.2524 - mae: 11.2524\n",
            "Epoch 40/500\n",
            "2/2 [==============================] - 0s 8ms/step - loss: 18.2472 - mae: 18.2472\n",
            "Epoch 41/500\n",
            "2/2 [==============================] - 0s 8ms/step - loss: 10.5056 - mae: 10.5056\n",
            "Epoch 42/500\n",
            "2/2 [==============================] - 0s 8ms/step - loss: 7.8439 - mae: 7.8439\n",
            "Epoch 43/500\n",
            "2/2 [==============================] - 0s 8ms/step - loss: 14.2274 - mae: 14.2274\n",
            "Epoch 44/500\n",
            "2/2 [==============================] - 0s 8ms/step - loss: 25.0106 - mae: 25.0106\n",
            "Epoch 45/500\n",
            "2/2 [==============================] - 0s 7ms/step - loss: 10.9674 - mae: 10.9674\n",
            "Epoch 46/500\n",
            "2/2 [==============================] - 0s 14ms/step - loss: 13.0802 - mae: 13.0802\n",
            "Epoch 47/500\n",
            "2/2 [==============================] - 0s 8ms/step - loss: 10.4241 - mae: 10.4241\n",
            "Epoch 48/500\n",
            "2/2 [==============================] - 0s 8ms/step - loss: 17.1302 - mae: 17.1302\n",
            "Epoch 49/500\n",
            "2/2 [==============================] - 0s 8ms/step - loss: 9.6412 - mae: 9.6412\n",
            "Epoch 50/500\n",
            "2/2 [==============================] - 0s 8ms/step - loss: 13.9411 - mae: 13.9411\n",
            "Epoch 51/500\n",
            "2/2 [==============================] - 0s 8ms/step - loss: 11.6423 - mae: 11.6423\n",
            "Epoch 52/500\n",
            "2/2 [==============================] - 0s 9ms/step - loss: 30.8688 - mae: 30.8688\n",
            "Epoch 53/500\n",
            "2/2 [==============================] - 0s 8ms/step - loss: 14.4914 - mae: 14.4914\n",
            "Epoch 54/500\n",
            "2/2 [==============================] - 0s 8ms/step - loss: 24.2141 - mae: 24.2141\n",
            "Epoch 55/500\n",
            "2/2 [==============================] - 0s 12ms/step - loss: 23.4585 - mae: 23.4585\n",
            "Epoch 56/500\n",
            "2/2 [==============================] - 0s 8ms/step - loss: 10.9682 - mae: 10.9682\n",
            "Epoch 57/500\n",
            "2/2 [==============================] - 0s 12ms/step - loss: 12.8605 - mae: 12.8605\n",
            "Epoch 58/500\n",
            "2/2 [==============================] - 0s 12ms/step - loss: 9.6650 - mae: 9.6650\n",
            "Epoch 59/500\n",
            "2/2 [==============================] - 0s 9ms/step - loss: 13.0294 - mae: 13.0294\n",
            "Epoch 60/500\n",
            "2/2 [==============================] - 0s 9ms/step - loss: 10.7047 - mae: 10.7047\n",
            "Epoch 61/500\n",
            "2/2 [==============================] - 0s 12ms/step - loss: 13.2420 - mae: 13.2420\n",
            "Epoch 62/500\n",
            "2/2 [==============================] - 0s 12ms/step - loss: 17.0796 - mae: 17.0796\n",
            "Epoch 63/500\n",
            "2/2 [==============================] - 0s 14ms/step - loss: 9.0563 - mae: 9.0563\n",
            "Epoch 64/500\n",
            "2/2 [==============================] - 0s 10ms/step - loss: 17.7257 - mae: 17.7257\n",
            "Epoch 65/500\n",
            "2/2 [==============================] - 0s 9ms/step - loss: 10.5297 - mae: 10.5297\n",
            "Epoch 66/500\n",
            "2/2 [==============================] - 0s 9ms/step - loss: 21.2140 - mae: 21.2140\n",
            "Epoch 67/500\n",
            "2/2 [==============================] - 0s 8ms/step - loss: 10.5274 - mae: 10.5274\n",
            "Epoch 68/500\n",
            "2/2 [==============================] - 0s 9ms/step - loss: 14.3778 - mae: 14.3778\n",
            "Epoch 69/500\n",
            "2/2 [==============================] - 0s 9ms/step - loss: 10.6193 - mae: 10.6193\n",
            "Epoch 70/500\n",
            "2/2 [==============================] - 0s 9ms/step - loss: 12.7051 - mae: 12.7051\n",
            "Epoch 71/500\n",
            "2/2 [==============================] - 0s 9ms/step - loss: 13.1346 - mae: 13.1346\n",
            "Epoch 72/500\n",
            "2/2 [==============================] - 0s 9ms/step - loss: 19.6450 - mae: 19.6450\n",
            "Epoch 73/500\n",
            "2/2 [==============================] - 0s 8ms/step - loss: 11.2002 - mae: 11.2002\n",
            "Epoch 74/500\n",
            "2/2 [==============================] - 0s 9ms/step - loss: 21.9334 - mae: 21.9334\n",
            "Epoch 75/500\n",
            "2/2 [==============================] - 0s 8ms/step - loss: 7.1923 - mae: 7.1923\n",
            "Epoch 76/500\n",
            "2/2 [==============================] - 0s 9ms/step - loss: 9.4160 - mae: 9.4160\n",
            "Epoch 77/500\n",
            "2/2 [==============================] - 0s 9ms/step - loss: 22.0380 - mae: 22.0380\n",
            "Epoch 78/500\n",
            "2/2 [==============================] - 0s 9ms/step - loss: 17.7199 - mae: 17.7199\n",
            "Epoch 79/500\n",
            "2/2 [==============================] - 0s 9ms/step - loss: 14.8759 - mae: 14.8759\n",
            "Epoch 80/500\n",
            "2/2 [==============================] - 0s 8ms/step - loss: 25.2106 - mae: 25.2106\n",
            "Epoch 81/500\n",
            "2/2 [==============================] - 0s 8ms/step - loss: 10.9444 - mae: 10.9444\n",
            "Epoch 82/500\n",
            "2/2 [==============================] - 0s 8ms/step - loss: 12.7330 - mae: 12.7330\n",
            "Epoch 83/500\n",
            "2/2 [==============================] - 0s 8ms/step - loss: 17.4994 - mae: 17.4994\n",
            "Epoch 84/500\n",
            "2/2 [==============================] - 0s 12ms/step - loss: 7.2848 - mae: 7.2848\n",
            "Epoch 85/500\n",
            "2/2 [==============================] - 0s 8ms/step - loss: 15.0250 - mae: 15.0250\n",
            "Epoch 86/500\n",
            "2/2 [==============================] - 0s 9ms/step - loss: 15.3347 - mae: 15.3347\n",
            "Epoch 87/500\n",
            "2/2 [==============================] - 0s 9ms/step - loss: 19.2024 - mae: 19.2024\n",
            "Epoch 88/500\n",
            "2/2 [==============================] - 0s 9ms/step - loss: 29.5789 - mae: 29.5789\n",
            "Epoch 89/500\n",
            "2/2 [==============================] - 0s 8ms/step - loss: 10.1464 - mae: 10.1464\n",
            "Epoch 90/500\n",
            "2/2 [==============================] - 0s 8ms/step - loss: 21.3233 - mae: 21.3233\n",
            "Epoch 91/500\n",
            "2/2 [==============================] - 0s 9ms/step - loss: 10.5307 - mae: 10.5307\n",
            "Epoch 92/500\n",
            "2/2 [==============================] - 0s 11ms/step - loss: 18.2178 - mae: 18.2178\n",
            "Epoch 93/500\n",
            "2/2 [==============================] - 0s 12ms/step - loss: 6.8160 - mae: 6.8160\n",
            "Epoch 94/500\n",
            "2/2 [==============================] - 0s 9ms/step - loss: 13.0165 - mae: 13.0165\n",
            "Epoch 95/500\n",
            "2/2 [==============================] - 0s 7ms/step - loss: 18.4068 - mae: 18.4068\n",
            "Epoch 96/500\n",
            "2/2 [==============================] - 0s 9ms/step - loss: 10.3555 - mae: 10.3555\n",
            "Epoch 97/500\n",
            "2/2 [==============================] - 0s 7ms/step - loss: 14.4241 - mae: 14.4241\n",
            "Epoch 98/500\n",
            "2/2 [==============================] - 0s 7ms/step - loss: 6.5792 - mae: 6.5792\n",
            "Epoch 99/500\n",
            "2/2 [==============================] - 0s 8ms/step - loss: 12.5981 - mae: 12.5981\n",
            "Epoch 100/500\n",
            "2/2 [==============================] - 0s 8ms/step - loss: 19.4126 - mae: 19.4126\n",
            "Epoch 101/500\n",
            "2/2 [==============================] - 0s 12ms/step - loss: 16.0603 - mae: 16.0603\n",
            "Epoch 102/500\n",
            "2/2 [==============================] - 0s 11ms/step - loss: 11.1802 - mae: 11.1802\n",
            "Epoch 103/500\n",
            "2/2 [==============================] - 0s 8ms/step - loss: 9.3180 - mae: 9.3180\n",
            "Epoch 104/500\n",
            "2/2 [==============================] - 0s 12ms/step - loss: 24.9467 - mae: 24.9467\n",
            "Epoch 105/500\n",
            "2/2 [==============================] - 0s 8ms/step - loss: 11.9746 - mae: 11.9746\n",
            "Epoch 106/500\n",
            "2/2 [==============================] - 0s 9ms/step - loss: 10.0788 - mae: 10.0788\n",
            "Epoch 107/500\n",
            "2/2 [==============================] - 0s 8ms/step - loss: 22.5106 - mae: 22.5106\n",
            "Epoch 108/500\n",
            "2/2 [==============================] - 0s 9ms/step - loss: 8.1235 - mae: 8.1235\n",
            "Epoch 109/500\n",
            "2/2 [==============================] - 0s 8ms/step - loss: 13.3296 - mae: 13.3296\n",
            "Epoch 110/500\n",
            "2/2 [==============================] - 0s 9ms/step - loss: 7.9857 - mae: 7.9857\n",
            "Epoch 111/500\n",
            "2/2 [==============================] - 0s 8ms/step - loss: 15.7572 - mae: 15.7572\n",
            "Epoch 112/500\n",
            "2/2 [==============================] - 0s 9ms/step - loss: 8.7476 - mae: 8.7476\n",
            "Epoch 113/500\n",
            "2/2 [==============================] - 0s 8ms/step - loss: 22.6711 - mae: 22.6711\n",
            "Epoch 114/500\n",
            "2/2 [==============================] - 0s 9ms/step - loss: 19.0215 - mae: 19.0215\n",
            "Epoch 115/500\n",
            "2/2 [==============================] - 0s 8ms/step - loss: 11.0882 - mae: 11.0882\n",
            "Epoch 116/500\n",
            "2/2 [==============================] - 0s 9ms/step - loss: 23.1195 - mae: 23.1195\n",
            "Epoch 117/500\n",
            "2/2 [==============================] - 0s 9ms/step - loss: 9.5716 - mae: 9.5716\n",
            "Epoch 118/500\n",
            "2/2 [==============================] - 0s 8ms/step - loss: 10.6342 - mae: 10.6342\n",
            "Epoch 119/500\n",
            "2/2 [==============================] - 0s 8ms/step - loss: 8.0431 - mae: 8.0431\n",
            "Epoch 120/500\n",
            "2/2 [==============================] - 0s 9ms/step - loss: 29.4257 - mae: 29.4257\n",
            "Epoch 121/500\n",
            "2/2 [==============================] - 0s 9ms/step - loss: 8.0797 - mae: 8.0797\n",
            "Epoch 122/500\n",
            "2/2 [==============================] - 0s 8ms/step - loss: 28.0884 - mae: 28.0884\n",
            "Epoch 123/500\n",
            "2/2 [==============================] - 0s 11ms/step - loss: 32.6281 - mae: 32.6281\n",
            "Epoch 124/500\n",
            "2/2 [==============================] - 0s 12ms/step - loss: 19.4287 - mae: 19.4287\n",
            "Epoch 125/500\n",
            "2/2 [==============================] - 0s 10ms/step - loss: 9.5487 - mae: 9.5487\n",
            "Epoch 126/500\n",
            "2/2 [==============================] - 0s 10ms/step - loss: 9.6179 - mae: 9.6179\n",
            "Epoch 127/500\n",
            "2/2 [==============================] - 0s 11ms/step - loss: 12.7644 - mae: 12.7644\n",
            "Epoch 128/500\n",
            "2/2 [==============================] - 0s 10ms/step - loss: 12.8531 - mae: 12.8531\n",
            "Epoch 129/500\n",
            "2/2 [==============================] - 0s 11ms/step - loss: 14.0004 - mae: 14.0004\n",
            "Epoch 130/500\n",
            "2/2 [==============================] - 0s 11ms/step - loss: 10.2550 - mae: 10.2550\n",
            "Epoch 131/500\n",
            "2/2 [==============================] - 0s 9ms/step - loss: 21.7905 - mae: 21.7905\n",
            "Epoch 132/500\n",
            "2/2 [==============================] - 0s 8ms/step - loss: 8.2992 - mae: 8.2992\n",
            "Epoch 133/500\n",
            "2/2 [==============================] - 0s 7ms/step - loss: 9.0788 - mae: 9.0788\n",
            "Epoch 134/500\n",
            "2/2 [==============================] - 0s 8ms/step - loss: 16.9669 - mae: 16.9669\n",
            "Epoch 135/500\n",
            "2/2 [==============================] - 0s 8ms/step - loss: 10.6788 - mae: 10.6788\n",
            "Epoch 136/500\n",
            "2/2 [==============================] - 0s 9ms/step - loss: 18.5719 - mae: 18.5719\n",
            "Epoch 137/500\n",
            "2/2 [==============================] - 0s 8ms/step - loss: 23.5863 - mae: 23.5863\n",
            "Epoch 138/500\n",
            "2/2 [==============================] - 0s 8ms/step - loss: 9.3129 - mae: 9.3129\n",
            "Epoch 139/500\n",
            "2/2 [==============================] - 0s 9ms/step - loss: 9.0331 - mae: 9.0331\n",
            "Epoch 140/500\n",
            "2/2 [==============================] - 0s 9ms/step - loss: 17.0334 - mae: 17.0334\n",
            "Epoch 141/500\n",
            "2/2 [==============================] - 0s 8ms/step - loss: 8.3242 - mae: 8.3242\n",
            "Epoch 142/500\n",
            "2/2 [==============================] - 0s 8ms/step - loss: 34.1484 - mae: 34.1484\n",
            "Epoch 143/500\n",
            "2/2 [==============================] - 0s 8ms/step - loss: 23.1843 - mae: 23.1843\n",
            "Epoch 144/500\n",
            "2/2 [==============================] - 0s 8ms/step - loss: 10.4749 - mae: 10.4749\n",
            "Epoch 145/500\n",
            "2/2 [==============================] - 0s 8ms/step - loss: 25.8737 - mae: 25.8737\n",
            "Epoch 146/500\n",
            "2/2 [==============================] - 0s 8ms/step - loss: 9.8680 - mae: 9.8680\n",
            "Epoch 147/500\n",
            "2/2 [==============================] - 0s 8ms/step - loss: 15.0199 - mae: 15.0199\n",
            "Epoch 148/500\n",
            "2/2 [==============================] - 0s 13ms/step - loss: 17.4614 - mae: 17.4614\n",
            "Epoch 149/500\n",
            "2/2 [==============================] - 0s 9ms/step - loss: 8.7736 - mae: 8.7736\n",
            "Epoch 150/500\n",
            "2/2 [==============================] - 0s 8ms/step - loss: 7.7370 - mae: 7.7370\n",
            "Epoch 151/500\n",
            "2/2 [==============================] - 0s 10ms/step - loss: 19.9053 - mae: 19.9053\n",
            "Epoch 152/500\n",
            "2/2 [==============================] - 0s 9ms/step - loss: 10.2457 - mae: 10.2457\n",
            "Epoch 153/500\n",
            "2/2 [==============================] - 0s 9ms/step - loss: 29.2879 - mae: 29.2879\n",
            "Epoch 154/500\n",
            "2/2 [==============================] - 0s 8ms/step - loss: 10.6318 - mae: 10.6318\n",
            "Epoch 155/500\n",
            "2/2 [==============================] - 0s 8ms/step - loss: 15.5232 - mae: 15.5232\n",
            "Epoch 156/500\n",
            "2/2 [==============================] - 0s 10ms/step - loss: 17.1665 - mae: 17.1665\n",
            "Epoch 157/500\n",
            "2/2 [==============================] - 0s 8ms/step - loss: 32.4344 - mae: 32.4344\n",
            "Epoch 158/500\n",
            "2/2 [==============================] - 0s 14ms/step - loss: 10.6046 - mae: 10.6046\n",
            "Epoch 159/500\n",
            "2/2 [==============================] - 0s 8ms/step - loss: 8.8666 - mae: 8.8666\n",
            "Epoch 160/500\n",
            "2/2 [==============================] - 0s 8ms/step - loss: 21.8500 - mae: 21.8500\n",
            "Epoch 161/500\n",
            "2/2 [==============================] - 0s 10ms/step - loss: 11.0815 - mae: 11.0815\n",
            "Epoch 162/500\n",
            "2/2 [==============================] - 0s 9ms/step - loss: 21.3877 - mae: 21.3877\n",
            "Epoch 163/500\n",
            "2/2 [==============================] - 0s 9ms/step - loss: 18.8659 - mae: 18.8659\n",
            "Epoch 164/500\n",
            "2/2 [==============================] - 0s 10ms/step - loss: 12.7077 - mae: 12.7077\n",
            "Epoch 165/500\n",
            "2/2 [==============================] - 0s 10ms/step - loss: 12.7242 - mae: 12.7242\n",
            "Epoch 166/500\n",
            "2/2 [==============================] - 0s 9ms/step - loss: 18.8960 - mae: 18.8960\n",
            "Epoch 167/500\n",
            "2/2 [==============================] - 0s 11ms/step - loss: 26.8349 - mae: 26.8349\n",
            "Epoch 168/500\n",
            "2/2 [==============================] - 0s 8ms/step - loss: 9.9803 - mae: 9.9803\n",
            "Epoch 169/500\n",
            "2/2 [==============================] - 0s 10ms/step - loss: 23.0947 - mae: 23.0947\n",
            "Epoch 170/500\n",
            "2/2 [==============================] - 0s 8ms/step - loss: 10.0763 - mae: 10.0763\n",
            "Epoch 171/500\n",
            "2/2 [==============================] - 0s 9ms/step - loss: 17.8255 - mae: 17.8255\n",
            "Epoch 172/500\n",
            "2/2 [==============================] - 0s 10ms/step - loss: 29.3746 - mae: 29.3746\n",
            "Epoch 173/500\n",
            "2/2 [==============================] - 0s 9ms/step - loss: 16.9597 - mae: 16.9597\n",
            "Epoch 174/500\n",
            "2/2 [==============================] - 0s 8ms/step - loss: 11.1754 - mae: 11.1754\n",
            "Epoch 175/500\n",
            "2/2 [==============================] - 0s 11ms/step - loss: 27.4479 - mae: 27.4479\n",
            "Epoch 176/500\n",
            "2/2 [==============================] - 0s 10ms/step - loss: 8.4383 - mae: 8.4383\n",
            "Epoch 177/500\n",
            "2/2 [==============================] - 0s 9ms/step - loss: 9.3931 - mae: 9.3931\n",
            "Epoch 178/500\n",
            "2/2 [==============================] - 0s 9ms/step - loss: 18.5793 - mae: 18.5793\n",
            "Epoch 179/500\n",
            "2/2 [==============================] - 0s 9ms/step - loss: 10.4091 - mae: 10.4091\n",
            "Epoch 180/500\n",
            "2/2 [==============================] - 0s 8ms/step - loss: 7.9944 - mae: 7.9944\n",
            "Epoch 181/500\n",
            "2/2 [==============================] - 0s 9ms/step - loss: 17.7593 - mae: 17.7593\n",
            "Epoch 182/500\n",
            "2/2 [==============================] - 0s 9ms/step - loss: 11.1914 - mae: 11.1914\n",
            "Epoch 183/500\n",
            "2/2 [==============================] - 0s 9ms/step - loss: 12.3933 - mae: 12.3933\n",
            "Epoch 184/500\n",
            "2/2 [==============================] - 0s 9ms/step - loss: 27.3591 - mae: 27.3591\n",
            "Epoch 185/500\n",
            "2/2 [==============================] - 0s 9ms/step - loss: 7.5658 - mae: 7.5658\n",
            "Epoch 186/500\n",
            "2/2 [==============================] - 0s 10ms/step - loss: 15.9514 - mae: 15.9514\n",
            "Epoch 187/500\n",
            "2/2 [==============================] - 0s 10ms/step - loss: 8.5947 - mae: 8.5947\n",
            "Epoch 188/500\n",
            "2/2 [==============================] - 0s 8ms/step - loss: 28.8616 - mae: 28.8616\n",
            "Epoch 189/500\n",
            "2/2 [==============================] - 0s 8ms/step - loss: 13.1505 - mae: 13.1505\n",
            "Epoch 190/500\n",
            "2/2 [==============================] - 0s 12ms/step - loss: 18.2906 - mae: 18.2906\n",
            "Epoch 191/500\n",
            "2/2 [==============================] - 0s 11ms/step - loss: 13.7149 - mae: 13.7149\n",
            "Epoch 192/500\n",
            "2/2 [==============================] - 0s 10ms/step - loss: 13.7099 - mae: 13.7099\n",
            "Epoch 193/500\n",
            "2/2 [==============================] - 0s 12ms/step - loss: 28.5629 - mae: 28.5629\n",
            "Epoch 194/500\n",
            "2/2 [==============================] - 0s 11ms/step - loss: 7.1137 - mae: 7.1137\n",
            "Epoch 195/500\n",
            "2/2 [==============================] - 0s 12ms/step - loss: 7.0726 - mae: 7.0726\n",
            "Epoch 196/500\n",
            "2/2 [==============================] - 0s 9ms/step - loss: 21.9852 - mae: 21.9852\n",
            "Epoch 197/500\n",
            "2/2 [==============================] - 0s 10ms/step - loss: 20.8926 - mae: 20.8926\n",
            "Epoch 198/500\n",
            "2/2 [==============================] - 0s 10ms/step - loss: 12.5060 - mae: 12.5060\n",
            "Epoch 199/500\n",
            "2/2 [==============================] - 0s 9ms/step - loss: 17.9508 - mae: 17.9508\n",
            "Epoch 200/500\n",
            "2/2 [==============================] - 0s 10ms/step - loss: 13.7890 - mae: 13.7890\n",
            "Epoch 201/500\n",
            "2/2 [==============================] - 0s 8ms/step - loss: 5.4891 - mae: 5.4891\n",
            "Epoch 202/500\n",
            "2/2 [==============================] - 0s 11ms/step - loss: 13.7348 - mae: 13.7348\n",
            "Epoch 203/500\n",
            "2/2 [==============================] - 0s 9ms/step - loss: 9.4419 - mae: 9.4419\n",
            "Epoch 204/500\n",
            "2/2 [==============================] - 0s 10ms/step - loss: 21.0022 - mae: 21.0022\n",
            "Epoch 205/500\n",
            "2/2 [==============================] - 0s 10ms/step - loss: 9.5748 - mae: 9.5748\n",
            "Epoch 206/500\n",
            "2/2 [==============================] - 0s 9ms/step - loss: 11.7474 - mae: 11.7474\n",
            "Epoch 207/500\n",
            "2/2 [==============================] - 0s 9ms/step - loss: 14.3859 - mae: 14.3859\n",
            "Epoch 208/500\n",
            "2/2 [==============================] - 0s 10ms/step - loss: 14.8729 - mae: 14.8729\n",
            "Epoch 209/500\n",
            "2/2 [==============================] - 0s 13ms/step - loss: 14.9706 - mae: 14.9706\n",
            "Epoch 210/500\n",
            "2/2 [==============================] - 0s 10ms/step - loss: 17.9022 - mae: 17.9022\n",
            "Epoch 211/500\n",
            "2/2 [==============================] - 0s 12ms/step - loss: 9.8541 - mae: 9.8541\n",
            "Epoch 212/500\n",
            "2/2 [==============================] - 0s 10ms/step - loss: 18.3270 - mae: 18.3270\n",
            "Epoch 213/500\n",
            "2/2 [==============================] - 0s 10ms/step - loss: 15.0511 - mae: 15.0511\n",
            "Epoch 214/500\n",
            "2/2 [==============================] - 0s 9ms/step - loss: 14.5973 - mae: 14.5973\n",
            "Epoch 215/500\n",
            "2/2 [==============================] - 0s 9ms/step - loss: 23.3125 - mae: 23.3125\n",
            "Epoch 216/500\n",
            "2/2 [==============================] - 0s 10ms/step - loss: 13.3507 - mae: 13.3507\n",
            "Epoch 217/500\n",
            "2/2 [==============================] - 0s 12ms/step - loss: 9.8592 - mae: 9.8592\n",
            "Epoch 218/500\n",
            "2/2 [==============================] - 0s 11ms/step - loss: 12.5668 - mae: 12.5668\n",
            "Epoch 219/500\n",
            "2/2 [==============================] - 0s 8ms/step - loss: 4.9670 - mae: 4.9670\n",
            "Epoch 220/500\n",
            "2/2 [==============================] - 0s 9ms/step - loss: 7.1353 - mae: 7.1353\n",
            "Epoch 221/500\n",
            "2/2 [==============================] - 0s 10ms/step - loss: 35.3959 - mae: 35.3959\n",
            "Epoch 222/500\n",
            "2/2 [==============================] - 0s 8ms/step - loss: 34.7855 - mae: 34.7855\n",
            "Epoch 223/500\n",
            "2/2 [==============================] - 0s 8ms/step - loss: 8.0001 - mae: 8.0001\n",
            "Epoch 224/500\n",
            "2/2 [==============================] - 0s 8ms/step - loss: 14.7199 - mae: 14.7199\n",
            "Epoch 225/500\n",
            "2/2 [==============================] - 0s 9ms/step - loss: 16.7439 - mae: 16.7439\n",
            "Epoch 226/500\n",
            "2/2 [==============================] - 0s 8ms/step - loss: 15.9557 - mae: 15.9557\n",
            "Epoch 227/500\n",
            "2/2 [==============================] - 0s 9ms/step - loss: 16.1928 - mae: 16.1928\n",
            "Epoch 228/500\n",
            "2/2 [==============================] - 0s 10ms/step - loss: 9.3422 - mae: 9.3422\n",
            "Epoch 229/500\n",
            "2/2 [==============================] - 0s 11ms/step - loss: 18.0117 - mae: 18.0117\n",
            "Epoch 230/500\n",
            "2/2 [==============================] - 0s 12ms/step - loss: 15.5873 - mae: 15.5873\n",
            "Epoch 231/500\n",
            "2/2 [==============================] - 0s 11ms/step - loss: 21.1409 - mae: 21.1409\n",
            "Epoch 232/500\n",
            "2/2 [==============================] - 0s 11ms/step - loss: 25.4310 - mae: 25.4310\n",
            "Epoch 233/500\n",
            "2/2 [==============================] - 0s 11ms/step - loss: 16.4434 - mae: 16.4434\n",
            "Epoch 234/500\n",
            "2/2 [==============================] - 0s 10ms/step - loss: 7.3191 - mae: 7.3191\n",
            "Epoch 235/500\n",
            "2/2 [==============================] - 0s 11ms/step - loss: 17.0918 - mae: 17.0918\n",
            "Epoch 236/500\n",
            "2/2 [==============================] - 0s 10ms/step - loss: 7.1792 - mae: 7.1792\n",
            "Epoch 237/500\n",
            "2/2 [==============================] - 0s 10ms/step - loss: 9.2765 - mae: 9.2765\n",
            "Epoch 238/500\n",
            "2/2 [==============================] - 0s 11ms/step - loss: 8.1419 - mae: 8.1419\n",
            "Epoch 239/500\n",
            "2/2 [==============================] - 0s 9ms/step - loss: 17.1566 - mae: 17.1566\n",
            "Epoch 240/500\n",
            "2/2 [==============================] - 0s 9ms/step - loss: 8.9188 - mae: 8.9188\n",
            "Epoch 241/500\n",
            "2/2 [==============================] - 0s 11ms/step - loss: 13.2501 - mae: 13.2501\n",
            "Epoch 242/500\n",
            "2/2 [==============================] - 0s 11ms/step - loss: 8.8333 - mae: 8.8333\n",
            "Epoch 243/500\n",
            "2/2 [==============================] - 0s 9ms/step - loss: 18.9223 - mae: 18.9223\n",
            "Epoch 244/500\n",
            "2/2 [==============================] - 0s 11ms/step - loss: 14.0302 - mae: 14.0302\n",
            "Epoch 245/500\n",
            "2/2 [==============================] - 0s 8ms/step - loss: 14.6621 - mae: 14.6621\n",
            "Epoch 246/500\n",
            "2/2 [==============================] - 0s 11ms/step - loss: 15.7894 - mae: 15.7894\n",
            "Epoch 247/500\n",
            "2/2 [==============================] - 0s 14ms/step - loss: 17.6602 - mae: 17.6602\n",
            "Epoch 248/500\n",
            "2/2 [==============================] - 0s 10ms/step - loss: 13.2174 - mae: 13.2174\n",
            "Epoch 249/500\n",
            "2/2 [==============================] - 0s 14ms/step - loss: 14.4989 - mae: 14.4989\n",
            "Epoch 250/500\n",
            "2/2 [==============================] - 0s 10ms/step - loss: 23.2099 - mae: 23.2099\n",
            "Epoch 251/500\n",
            "2/2 [==============================] - 0s 9ms/step - loss: 9.3277 - mae: 9.3277\n",
            "Epoch 252/500\n",
            "2/2 [==============================] - 0s 10ms/step - loss: 36.7387 - mae: 36.7387\n",
            "Epoch 253/500\n",
            "2/2 [==============================] - 0s 9ms/step - loss: 21.8873 - mae: 21.8873\n",
            "Epoch 254/500\n",
            "2/2 [==============================] - 0s 10ms/step - loss: 7.3029 - mae: 7.3029\n",
            "Epoch 255/500\n",
            "2/2 [==============================] - 0s 9ms/step - loss: 24.7723 - mae: 24.7723\n",
            "Epoch 256/500\n",
            "2/2 [==============================] - 0s 10ms/step - loss: 12.4646 - mae: 12.4646\n",
            "Epoch 257/500\n",
            "2/2 [==============================] - 0s 11ms/step - loss: 10.6170 - mae: 10.6170\n",
            "Epoch 258/500\n",
            "2/2 [==============================] - 0s 12ms/step - loss: 14.5226 - mae: 14.5226\n",
            "Epoch 259/500\n",
            "2/2 [==============================] - 0s 11ms/step - loss: 8.6340 - mae: 8.6340\n",
            "Epoch 260/500\n",
            "2/2 [==============================] - 0s 12ms/step - loss: 43.1054 - mae: 43.1054\n",
            "Epoch 261/500\n",
            "2/2 [==============================] - 0s 11ms/step - loss: 18.5006 - mae: 18.5006\n",
            "Epoch 262/500\n",
            "2/2 [==============================] - 0s 13ms/step - loss: 6.8839 - mae: 6.8839\n",
            "Epoch 263/500\n",
            "2/2 [==============================] - 0s 11ms/step - loss: 13.7178 - mae: 13.7178\n",
            "Epoch 264/500\n",
            "2/2 [==============================] - 0s 11ms/step - loss: 21.0065 - mae: 21.0065\n",
            "Epoch 265/500\n",
            "2/2 [==============================] - 0s 11ms/step - loss: 19.4015 - mae: 19.4015\n",
            "Epoch 266/500\n",
            "2/2 [==============================] - 0s 13ms/step - loss: 11.4694 - mae: 11.4694\n",
            "Epoch 267/500\n",
            "2/2 [==============================] - 0s 10ms/step - loss: 7.5408 - mae: 7.5408\n",
            "Epoch 268/500\n",
            "2/2 [==============================] - 0s 10ms/step - loss: 21.6389 - mae: 21.6389\n",
            "Epoch 269/500\n",
            "2/2 [==============================] - 0s 9ms/step - loss: 33.1948 - mae: 33.1948\n",
            "Epoch 270/500\n",
            "2/2 [==============================] - 0s 11ms/step - loss: 10.1086 - mae: 10.1086\n",
            "Epoch 271/500\n",
            "2/2 [==============================] - 0s 10ms/step - loss: 12.1082 - mae: 12.1082\n",
            "Epoch 272/500\n",
            "2/2 [==============================] - 0s 13ms/step - loss: 26.1371 - mae: 26.1371\n",
            "Epoch 273/500\n",
            "2/2 [==============================] - 0s 10ms/step - loss: 12.1852 - mae: 12.1852\n",
            "Epoch 274/500\n",
            "2/2 [==============================] - 0s 12ms/step - loss: 13.3377 - mae: 13.3377\n",
            "Epoch 275/500\n",
            "2/2 [==============================] - 0s 12ms/step - loss: 29.3792 - mae: 29.3792\n",
            "Epoch 276/500\n",
            "2/2 [==============================] - 0s 10ms/step - loss: 7.3433 - mae: 7.3433\n",
            "Epoch 277/500\n",
            "2/2 [==============================] - 0s 11ms/step - loss: 31.1385 - mae: 31.1385\n",
            "Epoch 278/500\n",
            "2/2 [==============================] - 0s 11ms/step - loss: 12.3122 - mae: 12.3122\n",
            "Epoch 279/500\n",
            "2/2 [==============================] - 0s 11ms/step - loss: 16.4191 - mae: 16.4191\n",
            "Epoch 280/500\n",
            "2/2 [==============================] - 0s 11ms/step - loss: 21.9223 - mae: 21.9223\n",
            "Epoch 281/500\n",
            "2/2 [==============================] - 0s 9ms/step - loss: 22.1233 - mae: 22.1233\n",
            "Epoch 282/500\n",
            "2/2 [==============================] - 0s 10ms/step - loss: 7.7531 - mae: 7.7531\n",
            "Epoch 283/500\n",
            "2/2 [==============================] - 0s 11ms/step - loss: 8.1548 - mae: 8.1548\n",
            "Epoch 284/500\n",
            "2/2 [==============================] - 0s 10ms/step - loss: 24.9092 - mae: 24.9092\n",
            "Epoch 285/500\n",
            "2/2 [==============================] - 0s 9ms/step - loss: 13.6703 - mae: 13.6703\n",
            "Epoch 286/500\n",
            "2/2 [==============================] - 0s 9ms/step - loss: 7.7714 - mae: 7.7714\n",
            "Epoch 287/500\n",
            "2/2 [==============================] - 0s 10ms/step - loss: 23.3261 - mae: 23.3261\n",
            "Epoch 288/500\n",
            "2/2 [==============================] - 0s 9ms/step - loss: 23.7382 - mae: 23.7382\n",
            "Epoch 289/500\n",
            "2/2 [==============================] - 0s 10ms/step - loss: 11.9685 - mae: 11.9685\n",
            "Epoch 290/500\n",
            "2/2 [==============================] - 0s 10ms/step - loss: 16.5431 - mae: 16.5431\n",
            "Epoch 291/500\n",
            "2/2 [==============================] - 0s 9ms/step - loss: 16.8068 - mae: 16.8068\n",
            "Epoch 292/500\n",
            "2/2 [==============================] - 0s 9ms/step - loss: 9.4767 - mae: 9.4767\n",
            "Epoch 293/500\n",
            "2/2 [==============================] - 0s 10ms/step - loss: 15.2794 - mae: 15.2794\n",
            "Epoch 294/500\n",
            "2/2 [==============================] - 0s 8ms/step - loss: 22.7257 - mae: 22.7257\n",
            "Epoch 295/500\n",
            "2/2 [==============================] - 0s 8ms/step - loss: 17.9143 - mae: 17.9143\n",
            "Epoch 296/500\n",
            "2/2 [==============================] - 0s 11ms/step - loss: 6.1847 - mae: 6.1847\n",
            "Epoch 297/500\n",
            "2/2 [==============================] - 0s 8ms/step - loss: 10.9536 - mae: 10.9536\n",
            "Epoch 298/500\n",
            "2/2 [==============================] - 0s 10ms/step - loss: 23.1627 - mae: 23.1627\n",
            "Epoch 299/500\n",
            "2/2 [==============================] - 0s 10ms/step - loss: 17.7134 - mae: 17.7134\n",
            "Epoch 300/500\n",
            "2/2 [==============================] - 0s 9ms/step - loss: 6.9936 - mae: 6.9936\n",
            "Epoch 301/500\n",
            "2/2 [==============================] - 0s 9ms/step - loss: 25.1651 - mae: 25.1651\n",
            "Epoch 302/500\n",
            "2/2 [==============================] - 0s 11ms/step - loss: 8.9056 - mae: 8.9056\n",
            "Epoch 303/500\n",
            "2/2 [==============================] - 0s 11ms/step - loss: 17.7448 - mae: 17.7448\n",
            "Epoch 304/500\n",
            "2/2 [==============================] - 0s 10ms/step - loss: 11.0038 - mae: 11.0038\n",
            "Epoch 305/500\n",
            "2/2 [==============================] - 0s 11ms/step - loss: 12.9010 - mae: 12.9010\n",
            "Epoch 306/500\n",
            "2/2 [==============================] - 0s 12ms/step - loss: 8.4062 - mae: 8.4062\n",
            "Epoch 307/500\n",
            "2/2 [==============================] - 0s 9ms/step - loss: 13.5886 - mae: 13.5886\n",
            "Epoch 308/500\n",
            "2/2 [==============================] - 0s 11ms/step - loss: 7.4419 - mae: 7.4419\n",
            "Epoch 309/500\n",
            "2/2 [==============================] - 0s 11ms/step - loss: 9.4564 - mae: 9.4564\n",
            "Epoch 310/500\n",
            "2/2 [==============================] - 0s 8ms/step - loss: 10.6801 - mae: 10.6801\n",
            "Epoch 311/500\n",
            "2/2 [==============================] - 0s 10ms/step - loss: 13.2941 - mae: 13.2941\n",
            "Epoch 312/500\n",
            "2/2 [==============================] - 0s 10ms/step - loss: 29.9899 - mae: 29.9899\n",
            "Epoch 313/500\n",
            "2/2 [==============================] - 0s 13ms/step - loss: 7.6215 - mae: 7.6215\n",
            "Epoch 314/500\n",
            "2/2 [==============================] - 0s 11ms/step - loss: 9.9264 - mae: 9.9264\n",
            "Epoch 315/500\n",
            "2/2 [==============================] - 0s 12ms/step - loss: 23.7925 - mae: 23.7925\n",
            "Epoch 316/500\n",
            "2/2 [==============================] - 0s 7ms/step - loss: 16.3457 - mae: 16.3457\n",
            "Epoch 317/500\n",
            "2/2 [==============================] - 0s 11ms/step - loss: 21.0171 - mae: 21.0171\n",
            "Epoch 318/500\n",
            "2/2 [==============================] - 0s 12ms/step - loss: 7.9336 - mae: 7.9336\n",
            "Epoch 319/500\n",
            "2/2 [==============================] - 0s 11ms/step - loss: 17.9175 - mae: 17.9175\n",
            "Epoch 320/500\n",
            "2/2 [==============================] - 0s 11ms/step - loss: 10.2108 - mae: 10.2108\n",
            "Epoch 321/500\n",
            "2/2 [==============================] - 0s 8ms/step - loss: 8.3193 - mae: 8.3193\n",
            "Epoch 322/500\n",
            "2/2 [==============================] - 0s 8ms/step - loss: 4.3590 - mae: 4.3590\n",
            "Epoch 323/500\n",
            "2/2 [==============================] - 0s 10ms/step - loss: 23.7976 - mae: 23.7976\n",
            "Epoch 324/500\n",
            "2/2 [==============================] - 0s 9ms/step - loss: 6.9012 - mae: 6.9012\n",
            "Epoch 325/500\n",
            "2/2 [==============================] - 0s 10ms/step - loss: 16.5998 - mae: 16.5998\n",
            "Epoch 326/500\n",
            "2/2 [==============================] - 0s 11ms/step - loss: 7.5734 - mae: 7.5734\n",
            "Epoch 327/500\n",
            "2/2 [==============================] - 0s 10ms/step - loss: 20.3410 - mae: 20.3410\n",
            "Epoch 328/500\n",
            "2/2 [==============================] - 0s 11ms/step - loss: 13.7008 - mae: 13.7008\n",
            "Epoch 329/500\n",
            "2/2 [==============================] - 0s 10ms/step - loss: 16.7381 - mae: 16.7381\n",
            "Epoch 330/500\n",
            "2/2 [==============================] - 0s 13ms/step - loss: 7.1032 - mae: 7.1032\n",
            "Epoch 331/500\n",
            "2/2 [==============================] - 0s 8ms/step - loss: 21.7165 - mae: 21.7165\n",
            "Epoch 332/500\n",
            "2/2 [==============================] - 0s 12ms/step - loss: 12.7624 - mae: 12.7624\n",
            "Epoch 333/500\n",
            "2/2 [==============================] - 0s 11ms/step - loss: 9.0222 - mae: 9.0222\n",
            "Epoch 334/500\n",
            "2/2 [==============================] - 0s 10ms/step - loss: 10.0934 - mae: 10.0934\n",
            "Epoch 335/500\n",
            "2/2 [==============================] - 0s 9ms/step - loss: 11.2531 - mae: 11.2531\n",
            "Epoch 336/500\n",
            "2/2 [==============================] - 0s 10ms/step - loss: 31.9653 - mae: 31.9653\n",
            "Epoch 337/500\n",
            "2/2 [==============================] - 0s 9ms/step - loss: 9.8194 - mae: 9.8194\n",
            "Epoch 338/500\n",
            "2/2 [==============================] - 0s 9ms/step - loss: 19.5471 - mae: 19.5471\n",
            "Epoch 339/500\n",
            "2/2 [==============================] - 0s 8ms/step - loss: 35.4650 - mae: 35.4650\n",
            "Epoch 340/500\n",
            "2/2 [==============================] - 0s 11ms/step - loss: 10.5605 - mae: 10.5605\n",
            "Epoch 341/500\n",
            "2/2 [==============================] - 0s 9ms/step - loss: 10.1536 - mae: 10.1536\n",
            "Epoch 342/500\n",
            "2/2 [==============================] - 0s 9ms/step - loss: 13.2702 - mae: 13.2702\n",
            "Epoch 343/500\n",
            "2/2 [==============================] - 0s 12ms/step - loss: 11.0198 - mae: 11.0198\n",
            "Epoch 344/500\n",
            "2/2 [==============================] - 0s 10ms/step - loss: 9.9154 - mae: 9.9154\n",
            "Epoch 345/500\n",
            "2/2 [==============================] - 0s 12ms/step - loss: 30.9861 - mae: 30.9861\n",
            "Epoch 346/500\n",
            "2/2 [==============================] - 0s 10ms/step - loss: 10.6706 - mae: 10.6706\n",
            "Epoch 347/500\n",
            "2/2 [==============================] - 0s 9ms/step - loss: 25.6644 - mae: 25.6644\n",
            "Epoch 348/500\n",
            "2/2 [==============================] - 0s 12ms/step - loss: 13.0298 - mae: 13.0298\n",
            "Epoch 349/500\n",
            "2/2 [==============================] - 0s 9ms/step - loss: 13.0984 - mae: 13.0984\n",
            "Epoch 350/500\n",
            "2/2 [==============================] - 0s 13ms/step - loss: 15.4115 - mae: 15.4115\n",
            "Epoch 351/500\n",
            "2/2 [==============================] - 0s 14ms/step - loss: 32.9231 - mae: 32.9231\n",
            "Epoch 352/500\n",
            "2/2 [==============================] - 0s 9ms/step - loss: 14.1393 - mae: 14.1393\n",
            "Epoch 353/500\n",
            "2/2 [==============================] - 0s 9ms/step - loss: 15.8680 - mae: 15.8680\n",
            "Epoch 354/500\n",
            "2/2 [==============================] - 0s 10ms/step - loss: 18.9789 - mae: 18.9789\n",
            "Epoch 355/500\n",
            "2/2 [==============================] - 0s 13ms/step - loss: 34.4222 - mae: 34.4222\n",
            "Epoch 356/500\n",
            "2/2 [==============================] - 0s 11ms/step - loss: 8.3031 - mae: 8.3031\n",
            "Epoch 357/500\n",
            "2/2 [==============================] - 0s 11ms/step - loss: 21.9177 - mae: 21.9177\n",
            "Epoch 358/500\n",
            "2/2 [==============================] - 0s 10ms/step - loss: 20.0571 - mae: 20.0571\n",
            "Epoch 359/500\n",
            "2/2 [==============================] - 0s 10ms/step - loss: 11.0268 - mae: 11.0268\n",
            "Epoch 360/500\n",
            "2/2 [==============================] - 0s 9ms/step - loss: 20.2487 - mae: 20.2487\n",
            "Epoch 361/500\n",
            "2/2 [==============================] - 0s 11ms/step - loss: 11.0382 - mae: 11.0382\n",
            "Epoch 362/500\n",
            "2/2 [==============================] - 0s 9ms/step - loss: 6.8027 - mae: 6.8027\n",
            "Epoch 363/500\n",
            "2/2 [==============================] - 0s 8ms/step - loss: 24.0592 - mae: 24.0592\n",
            "Epoch 364/500\n",
            "2/2 [==============================] - 0s 9ms/step - loss: 29.8420 - mae: 29.8420\n",
            "Epoch 365/500\n",
            "2/2 [==============================] - 0s 9ms/step - loss: 8.3592 - mae: 8.3592\n",
            "Epoch 366/500\n",
            "2/2 [==============================] - 0s 8ms/step - loss: 6.0727 - mae: 6.0727\n",
            "Epoch 367/500\n",
            "2/2 [==============================] - 0s 7ms/step - loss: 35.0470 - mae: 35.0470\n",
            "Epoch 368/500\n",
            "2/2 [==============================] - 0s 10ms/step - loss: 7.4148 - mae: 7.4148\n",
            "Epoch 369/500\n",
            "2/2 [==============================] - 0s 10ms/step - loss: 9.6506 - mae: 9.6506\n",
            "Epoch 370/500\n",
            "2/2 [==============================] - 0s 8ms/step - loss: 7.7667 - mae: 7.7667\n",
            "Epoch 371/500\n",
            "2/2 [==============================] - 0s 10ms/step - loss: 20.0192 - mae: 20.0192\n",
            "Epoch 372/500\n",
            "2/2 [==============================] - 0s 10ms/step - loss: 12.5249 - mae: 12.5249\n",
            "Epoch 373/500\n",
            "2/2 [==============================] - 0s 9ms/step - loss: 26.4388 - mae: 26.4388\n",
            "Epoch 374/500\n",
            "2/2 [==============================] - 0s 11ms/step - loss: 9.2192 - mae: 9.2192\n",
            "Epoch 375/500\n",
            "2/2 [==============================] - 0s 11ms/step - loss: 4.8699 - mae: 4.8699\n",
            "Epoch 376/500\n",
            "2/2 [==============================] - 0s 10ms/step - loss: 17.5972 - mae: 17.5972\n",
            "Epoch 377/500\n",
            "2/2 [==============================] - 0s 7ms/step - loss: 14.2624 - mae: 14.2624\n",
            "Epoch 378/500\n",
            "2/2 [==============================] - 0s 8ms/step - loss: 15.9102 - mae: 15.9102\n",
            "Epoch 379/500\n",
            "2/2 [==============================] - 0s 7ms/step - loss: 19.9842 - mae: 19.9842\n",
            "Epoch 380/500\n",
            "2/2 [==============================] - 0s 11ms/step - loss: 36.1613 - mae: 36.1613\n",
            "Epoch 381/500\n",
            "2/2 [==============================] - 0s 9ms/step - loss: 10.2643 - mae: 10.2643\n",
            "Epoch 382/500\n",
            "2/2 [==============================] - 0s 7ms/step - loss: 5.8669 - mae: 5.8669\n",
            "Epoch 383/500\n",
            "2/2 [==============================] - 0s 11ms/step - loss: 14.8936 - mae: 14.8936\n",
            "Epoch 384/500\n",
            "2/2 [==============================] - 0s 12ms/step - loss: 16.1322 - mae: 16.1322\n",
            "Epoch 385/500\n",
            "2/2 [==============================] - 0s 11ms/step - loss: 11.6608 - mae: 11.6608\n",
            "Epoch 386/500\n",
            "2/2 [==============================] - 0s 15ms/step - loss: 20.0532 - mae: 20.0532\n",
            "Epoch 387/500\n",
            "2/2 [==============================] - 0s 8ms/step - loss: 24.1391 - mae: 24.1391\n",
            "Epoch 388/500\n",
            "2/2 [==============================] - 0s 9ms/step - loss: 7.5446 - mae: 7.5446\n",
            "Epoch 389/500\n",
            "2/2 [==============================] - 0s 9ms/step - loss: 14.2352 - mae: 14.2352\n",
            "Epoch 390/500\n",
            "2/2 [==============================] - 0s 8ms/step - loss: 8.2482 - mae: 8.2482\n",
            "Epoch 391/500\n",
            "2/2 [==============================] - 0s 11ms/step - loss: 15.5160 - mae: 15.5160\n",
            "Epoch 392/500\n",
            "2/2 [==============================] - 0s 10ms/step - loss: 17.1566 - mae: 17.1566\n",
            "Epoch 393/500\n",
            "2/2 [==============================] - 0s 10ms/step - loss: 10.5165 - mae: 10.5165\n",
            "Epoch 394/500\n",
            "2/2 [==============================] - 0s 9ms/step - loss: 14.0687 - mae: 14.0687\n",
            "Epoch 395/500\n",
            "2/2 [==============================] - 0s 10ms/step - loss: 28.4265 - mae: 28.4265\n",
            "Epoch 396/500\n",
            "2/2 [==============================] - 0s 9ms/step - loss: 8.4816 - mae: 8.4816\n",
            "Epoch 397/500\n",
            "2/2 [==============================] - 0s 9ms/step - loss: 11.2897 - mae: 11.2897\n",
            "Epoch 398/500\n",
            "2/2 [==============================] - 0s 9ms/step - loss: 6.8838 - mae: 6.8838\n",
            "Epoch 399/500\n",
            "2/2 [==============================] - 0s 9ms/step - loss: 14.1624 - mae: 14.1624\n",
            "Epoch 400/500\n",
            "2/2 [==============================] - 0s 9ms/step - loss: 6.6849 - mae: 6.6849\n",
            "Epoch 401/500\n",
            "2/2 [==============================] - 0s 12ms/step - loss: 7.9934 - mae: 7.9934\n",
            "Epoch 402/500\n",
            "2/2 [==============================] - 0s 9ms/step - loss: 16.4611 - mae: 16.4611\n",
            "Epoch 403/500\n",
            "2/2 [==============================] - 0s 11ms/step - loss: 12.3221 - mae: 12.3221\n",
            "Epoch 404/500\n",
            "2/2 [==============================] - 0s 11ms/step - loss: 22.8996 - mae: 22.8996\n",
            "Epoch 405/500\n",
            "2/2 [==============================] - 0s 9ms/step - loss: 18.1734 - mae: 18.1734\n",
            "Epoch 406/500\n",
            "2/2 [==============================] - 0s 8ms/step - loss: 7.0358 - mae: 7.0358\n",
            "Epoch 407/500\n",
            "2/2 [==============================] - 0s 11ms/step - loss: 12.6932 - mae: 12.6932\n",
            "Epoch 408/500\n",
            "2/2 [==============================] - 0s 13ms/step - loss: 5.6320 - mae: 5.6320\n",
            "Epoch 409/500\n",
            "2/2 [==============================] - 0s 12ms/step - loss: 31.3845 - mae: 31.3845\n",
            "Epoch 410/500\n",
            "2/2 [==============================] - 0s 9ms/step - loss: 9.1978 - mae: 9.1978\n",
            "Epoch 411/500\n",
            "2/2 [==============================] - 0s 10ms/step - loss: 14.8316 - mae: 14.8316\n",
            "Epoch 412/500\n",
            "2/2 [==============================] - 0s 11ms/step - loss: 21.6920 - mae: 21.6920\n",
            "Epoch 413/500\n",
            "2/2 [==============================] - 0s 8ms/step - loss: 12.6850 - mae: 12.6850\n",
            "Epoch 414/500\n",
            "2/2 [==============================] - 0s 9ms/step - loss: 6.0002 - mae: 6.0002\n",
            "Epoch 415/500\n",
            "2/2 [==============================] - 0s 8ms/step - loss: 13.2066 - mae: 13.2066\n",
            "Epoch 416/500\n",
            "2/2 [==============================] - 0s 9ms/step - loss: 27.3978 - mae: 27.3978\n",
            "Epoch 417/500\n",
            "2/2 [==============================] - 0s 11ms/step - loss: 10.7058 - mae: 10.7058\n",
            "Epoch 418/500\n",
            "2/2 [==============================] - 0s 8ms/step - loss: 12.7823 - mae: 12.7823\n",
            "Epoch 419/500\n",
            "2/2 [==============================] - 0s 8ms/step - loss: 15.8409 - mae: 15.8409\n",
            "Epoch 420/500\n",
            "2/2 [==============================] - 0s 10ms/step - loss: 24.6956 - mae: 24.6956\n",
            "Epoch 421/500\n",
            "2/2 [==============================] - 0s 8ms/step - loss: 17.6114 - mae: 17.6114\n",
            "Epoch 422/500\n",
            "2/2 [==============================] - 0s 12ms/step - loss: 8.6692 - mae: 8.6692\n",
            "Epoch 423/500\n",
            "2/2 [==============================] - 0s 8ms/step - loss: 24.8773 - mae: 24.8773\n",
            "Epoch 424/500\n",
            "2/2 [==============================] - 0s 11ms/step - loss: 16.3344 - mae: 16.3344\n",
            "Epoch 425/500\n",
            "2/2 [==============================] - 0s 8ms/step - loss: 7.1257 - mae: 7.1257\n",
            "Epoch 426/500\n",
            "2/2 [==============================] - 0s 11ms/step - loss: 20.4575 - mae: 20.4575\n",
            "Epoch 427/500\n",
            "2/2 [==============================] - 0s 8ms/step - loss: 6.3050 - mae: 6.3050\n",
            "Epoch 428/500\n",
            "2/2 [==============================] - 0s 9ms/step - loss: 13.1095 - mae: 13.1095\n",
            "Epoch 429/500\n",
            "2/2 [==============================] - 0s 8ms/step - loss: 10.8830 - mae: 10.8830\n",
            "Epoch 430/500\n",
            "2/2 [==============================] - 0s 7ms/step - loss: 11.7539 - mae: 11.7539\n",
            "Epoch 431/500\n",
            "2/2 [==============================] - 0s 15ms/step - loss: 7.8891 - mae: 7.8891\n",
            "Epoch 432/500\n",
            "2/2 [==============================] - 0s 9ms/step - loss: 22.2112 - mae: 22.2112\n",
            "Epoch 433/500\n",
            "2/2 [==============================] - 0s 9ms/step - loss: 5.8781 - mae: 5.8781\n",
            "Epoch 434/500\n",
            "2/2 [==============================] - 0s 12ms/step - loss: 32.6449 - mae: 32.6449\n",
            "Epoch 435/500\n",
            "2/2 [==============================] - 0s 13ms/step - loss: 13.4576 - mae: 13.4576\n",
            "Epoch 436/500\n",
            "2/2 [==============================] - 0s 11ms/step - loss: 29.0444 - mae: 29.0444\n",
            "Epoch 437/500\n",
            "2/2 [==============================] - 0s 11ms/step - loss: 9.1244 - mae: 9.1244\n",
            "Epoch 438/500\n",
            "2/2 [==============================] - 0s 9ms/step - loss: 12.6470 - mae: 12.6470\n",
            "Epoch 439/500\n",
            "2/2 [==============================] - 0s 11ms/step - loss: 33.5001 - mae: 33.5001\n",
            "Epoch 440/500\n",
            "2/2 [==============================] - 0s 9ms/step - loss: 14.7966 - mae: 14.7966\n",
            "Epoch 441/500\n",
            "2/2 [==============================] - 0s 12ms/step - loss: 17.2535 - mae: 17.2535\n",
            "Epoch 442/500\n",
            "2/2 [==============================] - 0s 9ms/step - loss: 21.8520 - mae: 21.8520\n",
            "Epoch 443/500\n",
            "2/2 [==============================] - 0s 9ms/step - loss: 24.6599 - mae: 24.6599\n",
            "Epoch 444/500\n",
            "2/2 [==============================] - 0s 9ms/step - loss: 11.8494 - mae: 11.8494\n",
            "Epoch 445/500\n",
            "2/2 [==============================] - 0s 9ms/step - loss: 14.6371 - mae: 14.6371\n",
            "Epoch 446/500\n",
            "2/2 [==============================] - 0s 9ms/step - loss: 17.5920 - mae: 17.5920\n",
            "Epoch 447/500\n",
            "2/2 [==============================] - 0s 9ms/step - loss: 5.7953 - mae: 5.7953\n",
            "Epoch 448/500\n",
            "2/2 [==============================] - 0s 10ms/step - loss: 9.3356 - mae: 9.3356\n",
            "Epoch 449/500\n",
            "2/2 [==============================] - 0s 9ms/step - loss: 14.0321 - mae: 14.0321\n",
            "Epoch 450/500\n",
            "2/2 [==============================] - 0s 9ms/step - loss: 16.7935 - mae: 16.7935\n",
            "Epoch 451/500\n",
            "2/2 [==============================] - 0s 8ms/step - loss: 14.2809 - mae: 14.2809\n",
            "Epoch 452/500\n",
            "2/2 [==============================] - 0s 14ms/step - loss: 30.6468 - mae: 30.6468\n",
            "Epoch 453/500\n",
            "2/2 [==============================] - 0s 11ms/step - loss: 7.6086 - mae: 7.6086\n",
            "Epoch 454/500\n",
            "2/2 [==============================] - 0s 10ms/step - loss: 28.1543 - mae: 28.1543\n",
            "Epoch 455/500\n",
            "2/2 [==============================] - 0s 10ms/step - loss: 8.1760 - mae: 8.1760\n",
            "Epoch 456/500\n",
            "2/2 [==============================] - 0s 10ms/step - loss: 12.0656 - mae: 12.0656\n",
            "Epoch 457/500\n",
            "2/2 [==============================] - 0s 9ms/step - loss: 15.4608 - mae: 15.4608\n",
            "Epoch 458/500\n",
            "2/2 [==============================] - 0s 9ms/step - loss: 17.0380 - mae: 17.0380\n",
            "Epoch 459/500\n",
            "2/2 [==============================] - 0s 9ms/step - loss: 15.1724 - mae: 15.1724\n",
            "Epoch 460/500\n",
            "2/2 [==============================] - 0s 9ms/step - loss: 7.4117 - mae: 7.4117\n",
            "Epoch 461/500\n",
            "2/2 [==============================] - 0s 10ms/step - loss: 15.7061 - mae: 15.7061\n",
            "Epoch 462/500\n",
            "2/2 [==============================] - 0s 9ms/step - loss: 15.1916 - mae: 15.1916\n",
            "Epoch 463/500\n",
            "2/2 [==============================] - 0s 9ms/step - loss: 16.8343 - mae: 16.8343\n",
            "Epoch 464/500\n",
            "2/2 [==============================] - 0s 9ms/step - loss: 11.2479 - mae: 11.2479\n",
            "Epoch 465/500\n",
            "2/2 [==============================] - 0s 9ms/step - loss: 21.5713 - mae: 21.5713\n",
            "Epoch 466/500\n",
            "2/2 [==============================] - 0s 8ms/step - loss: 24.9650 - mae: 24.9650\n",
            "Epoch 467/500\n",
            "2/2 [==============================] - 0s 9ms/step - loss: 14.8017 - mae: 14.8017\n",
            "Epoch 468/500\n",
            "2/2 [==============================] - 0s 8ms/step - loss: 10.3562 - mae: 10.3562\n",
            "Epoch 469/500\n",
            "2/2 [==============================] - 0s 9ms/step - loss: 27.3807 - mae: 27.3807\n",
            "Epoch 470/500\n",
            "2/2 [==============================] - 0s 9ms/step - loss: 12.3860 - mae: 12.3860\n",
            "Epoch 471/500\n",
            "2/2 [==============================] - 0s 9ms/step - loss: 12.0568 - mae: 12.0568\n",
            "Epoch 472/500\n",
            "2/2 [==============================] - 0s 9ms/step - loss: 15.5088 - mae: 15.5088\n",
            "Epoch 473/500\n",
            "2/2 [==============================] - 0s 8ms/step - loss: 15.5161 - mae: 15.5161\n",
            "Epoch 474/500\n",
            "2/2 [==============================] - 0s 9ms/step - loss: 20.2328 - mae: 20.2328\n",
            "Epoch 475/500\n",
            "2/2 [==============================] - 0s 9ms/step - loss: 5.0360 - mae: 5.0360\n",
            "Epoch 476/500\n",
            "2/2 [==============================] - 0s 9ms/step - loss: 13.3357 - mae: 13.3357\n",
            "Epoch 477/500\n",
            "2/2 [==============================] - 0s 12ms/step - loss: 29.5767 - mae: 29.5767\n",
            "Epoch 478/500\n",
            "2/2 [==============================] - 0s 14ms/step - loss: 3.6651 - mae: 3.6651\n",
            "Epoch 479/500\n",
            "2/2 [==============================] - 0s 9ms/step - loss: 16.2132 - mae: 16.2132\n",
            "Epoch 480/500\n",
            "2/2 [==============================] - 0s 8ms/step - loss: 3.8302 - mae: 3.8302\n",
            "Epoch 481/500\n",
            "2/2 [==============================] - 0s 11ms/step - loss: 15.0625 - mae: 15.0625\n",
            "Epoch 482/500\n",
            "2/2 [==============================] - 0s 9ms/step - loss: 24.5497 - mae: 24.5497\n",
            "Epoch 483/500\n",
            "2/2 [==============================] - 0s 8ms/step - loss: 18.5090 - mae: 18.5090\n",
            "Epoch 484/500\n",
            "2/2 [==============================] - 0s 8ms/step - loss: 16.5824 - mae: 16.5824\n",
            "Epoch 485/500\n",
            "2/2 [==============================] - 0s 9ms/step - loss: 9.7490 - mae: 9.7490\n",
            "Epoch 486/500\n",
            "2/2 [==============================] - 0s 9ms/step - loss: 17.9596 - mae: 17.9596\n",
            "Epoch 487/500\n",
            "2/2 [==============================] - 0s 8ms/step - loss: 10.8655 - mae: 10.8655\n",
            "Epoch 488/500\n",
            "2/2 [==============================] - 0s 8ms/step - loss: 27.0321 - mae: 27.0321\n",
            "Epoch 489/500\n",
            "2/2 [==============================] - 0s 8ms/step - loss: 5.2825 - mae: 5.2825\n",
            "Epoch 490/500\n",
            "2/2 [==============================] - 0s 8ms/step - loss: 6.0247 - mae: 6.0247\n",
            "Epoch 491/500\n",
            "2/2 [==============================] - 0s 9ms/step - loss: 19.1461 - mae: 19.1461\n",
            "Epoch 492/500\n",
            "2/2 [==============================] - 0s 8ms/step - loss: 7.3614 - mae: 7.3614\n",
            "Epoch 493/500\n",
            "2/2 [==============================] - 0s 8ms/step - loss: 18.2253 - mae: 18.2253\n",
            "Epoch 494/500\n",
            "2/2 [==============================] - 0s 8ms/step - loss: 18.3948 - mae: 18.3948\n",
            "Epoch 495/500\n",
            "2/2 [==============================] - 0s 8ms/step - loss: 6.6947 - mae: 6.6947\n",
            "Epoch 496/500\n",
            "2/2 [==============================] - 0s 8ms/step - loss: 7.9192 - mae: 7.9192\n",
            "Epoch 497/500\n",
            "2/2 [==============================] - 0s 11ms/step - loss: 16.5900 - mae: 16.5900\n",
            "Epoch 498/500\n",
            "2/2 [==============================] - 0s 8ms/step - loss: 23.9996 - mae: 23.9996\n",
            "Epoch 499/500\n",
            "2/2 [==============================] - 0s 8ms/step - loss: 21.0498 - mae: 21.0498\n",
            "Epoch 500/500\n",
            "2/2 [==============================] - 0s 8ms/step - loss: 13.7800 - mae: 13.7800\n"
          ]
        },
        {
          "output_type": "execute_result",
          "data": {
            "text/plain": [
              "<keras.src.callbacks.History at 0x7ec5bfda3760>"
            ]
          },
          "metadata": {},
          "execution_count": 63
        }
      ]
    },
    {
      "cell_type": "code",
      "source": [
        "# Make and plot some predictions\n",
        "y_preds_3 = model_3.predict(X_test)\n",
        "plot_predictions(predictions=y_preds_3)"
      ],
      "metadata": {
        "colab": {
          "base_uri": "https://localhost:8080/",
          "height": 616
        },
        "id": "8BeZjB7lo0JJ",
        "outputId": "4bddc5cc-85f0-47af-f05c-8185c3c699d5"
      },
      "execution_count": 64,
      "outputs": [
        {
          "output_type": "stream",
          "name": "stdout",
          "text": [
            "1/1 [==============================] - 0s 42ms/step\n"
          ]
        },
        {
          "output_type": "display_data",
          "data": {
            "text/plain": [
              "<Figure size 1000x700 with 1 Axes>"
            ],
            "image/png": "[encoded data removed]"
          },
          "metadata": {}
        }
      ]
    },
    {
      "cell_type": "code",
      "source": [
        "# Calculate model_3 evalaution metrics\n",
        "mae_3 = mae(y_test, y_preds_3)\n",
        "mse_3 = mse(y_test, y_preds_3)\n",
        "mae_3, mse_3"
      ],
      "metadata": {
        "colab": {
          "base_uri": "https://localhost:8080/"
        },
        "id": "ZOsUncuho81A",
        "outputId": "1644586c-67d7-4770-d0c7-825619ed155d"
      },
      "execution_count": 65,
      "outputs": [
        {
          "output_type": "execute_result",
          "data": {
            "text/plain": [
              "(<tf.Tensor: shape=(), dtype=float32, numpy=66.48075>,\n",
              " <tf.Tensor: shape=(), dtype=float32, numpy=4500.8267>)"
            ]
          },
          "metadata": {},
          "execution_count": 65
        }
      ]
    },
    {
      "cell_type": "code",
      "source": [
        "# Let's compare our model's results using a pandas DataFrame\n",
        "import pandas as pd\n",
        "\n",
        "model_results = [[\"model_1\", mae_1.numpy(), mse_1.numpy()],\n",
        "                 [\"model_2\", mae_2.numpy(), mse_2.numpy()],\n",
        "                 [\"model_3\", mae_3.numpy(), mse_3.numpy()]]\n",
        "\n",
        "all_results = pd.DataFrame(model_results, columns=[\"model\", \"mae\", \"mse\"])\n",
        "all_results"
      ],
      "metadata": {
        "colab": {
          "base_uri": "https://localhost:8080/",
          "height": 143
        },
        "id": "BA_eh-dNpAOt",
        "outputId": "17dc575b-ea50-4f48-ac94-fe0d36dd45ee"
      },
      "execution_count": 66,
      "outputs": [
        {
          "output_type": "execute_result",
          "data": {
            "text/plain": [
              "     model        mae          mse\n",
              "0  model_1  30.646997   949.652527\n",
              "1  model_2  29.580383   905.889832\n",
              "2  model_3  66.480751  4500.826660"
            ],
            "text/html": [
              "\n",
              "  <div id=\"df-5889c886-422e-4f22-8536-0e0ec9ff4d5b\" class=\"colab-df-container\">\n",
              "    <div>\n",
              "<style scoped>\n",
              "    .dataframe tbody tr th:only-of-type {\n",
              "        vertical-align: middle;\n",
              "    }\n",
              "\n",
              "    .dataframe tbody tr th {\n",
              "        vertical-align: top;\n",
              "    }\n",
              "\n",
              "    .dataframe thead th {\n",
              "        text-align: right;\n",
              "    }\n",
              "</style>\n",
              "<table border=\"1\" class=\"dataframe\">\n",
              "  <thead>\n",
              "    <tr style=\"text-align: right;\">\n",
              "      <th></th>\n",
              "      <th>model</th>\n",
              "      <th>mae</th>\n",
              "      <th>mse</th>\n",
              "    </tr>\n",
              "  </thead>\n",
              "  <tbody>\n",
              "    <tr>\n",
              "      <th>0</th>\n",
              "      <td>model_1</td>\n",
              "      <td>30.646997</td>\n",
              "      <td>949.652527</td>\n",
              "    </tr>\n",
              "    <tr>\n",
              "      <th>1</th>\n",
              "      <td>model_2</td>\n",
              "      <td>29.580383</td>\n",
              "      <td>905.889832</td>\n",
              "    </tr>\n",
              "    <tr>\n",
              "      <th>2</th>\n",
              "      <td>model_3</td>\n",
              "      <td>66.480751</td>\n",
              "      <td>4500.826660</td>\n",
              "    </tr>\n",
              "  </tbody>\n",
              "</table>\n",
              "</div>\n",
              "    <div class=\"colab-df-buttons\">\n",
              "\n",
              "  <div class=\"colab-df-container\">\n",
              "    <button class=\"colab-df-convert\" onclick=\"convertToInteractive('df-5889c886-422e-4f22-8536-0e0ec9ff4d5b')\"\n",
              "            title=\"Convert this dataframe to an interactive table.\"\n",
              "            style=\"display:none;\">\n",
              "\n",
              "  <svg xmlns=\"http://www.w3.org/2000/svg\" height=\"24px\" viewBox=\"0 -960 960 960\">\n",
              "    <path d=\"M120-120v-720h720v720H120Zm60-500h600v-160H180v160Zm220 220h160v-160H400v160Zm0 220h160v-160H400v160ZM180-400h160v-160H180v160Zm440 0h160v-160H620v160ZM180-180h160v-160H180v160Zm440 0h160v-160H620v160Z\"/>\n",
              "  </svg>\n",
              "    </button>\n",
              "\n",
              "  <style>\n",
              "    .colab-df-container {\n",
              "      display:flex;\n",
              "      gap: 12px;\n",
              "    }\n",
              "\n",
              "    .colab-df-convert {\n",
              "      background-color: #E8F0FE;\n",
              "      border: none;\n",
              "      border-radius: 50%;\n",
              "      cursor: pointer;\n",
              "      display: none;\n",
              "      fill: #1967D2;\n",
              "      height: 32px;\n",
              "      padding: 0 0 0 0;\n",
              "      width: 32px;\n",
              "    }\n",
              "\n",
              "    .colab-df-convert:hover {\n",
              "      background-color: #E2EBFA;\n",
              "      box-shadow: 0px 1px 2px rgba(60, 64, 67, 0.3), 0px 1px 3px 1px rgba(60, 64, 67, 0.15);\n",
              "      fill: #174EA6;\n",
              "    }\n",
              "\n",
              "    .colab-df-buttons div {\n",
              "      margin-bottom: 4px;\n",
              "    }\n",
              "\n",
              "    [theme=dark] .colab-df-convert {\n",
              "      background-color: #3B4455;\n",
              "      fill: #D2E3FC;\n",
              "    }\n",
              "\n",
              "    [theme=dark] .colab-df-convert:hover {\n",
              "      background-color: #434B5C;\n",
              "      box-shadow: 0px 1px 3px 1px rgba(0, 0, 0, 0.15);\n",
              "      filter: drop-shadow(0px 1px 2px rgba(0, 0, 0, 0.3));\n",
              "      fill: #FFFFFF;\n",
              "    }\n",
              "  </style>\n",
              "\n",
              "    <script>\n",
              "      const buttonEl =\n",
              "        document.querySelector('#df-5889c886-422e-4f22-8536-0e0ec9ff4d5b button.colab-df-convert');\n",
              "      buttonEl.style.display =\n",
              "        google.colab.kernel.accessAllowed ? 'block' : 'none';\n",
              "\n",
              "      async function convertToInteractive(key) {\n",
              "        const element = document.querySelector('#df-5889c886-422e-4f22-8536-0e0ec9ff4d5b');\n",
              "        const dataTable =\n",
              "          await google.colab.kernel.invokeFunction('convertToInteractive',\n",
              "                                                    [key], {});\n",
              "        if (!dataTable) return;\n",
              "\n",
              "        const docLinkHtml = 'Like what you see? Visit the ' +\n",
              "          '<a target=\"_blank\" href=https://colab.research.google.com/notebooks/data_table.ipynb>data table notebook</a>'\n",
              "          + ' to learn more about interactive tables.';\n",
              "        element.innerHTML = '';\n",
              "        dataTable['output_type'] = 'display_data';\n",
              "        await google.colab.output.renderOutput(dataTable, element);\n",
              "        const docLink = document.createElement('div');\n",
              "        docLink.innerHTML = docLinkHtml;\n",
              "        element.appendChild(docLink);\n",
              "      }\n",
              "    </script>\n",
              "  </div>\n",
              "\n",
              "\n",
              "<div id=\"df-a581afaf-b92a-4213-a732-a34f18cc6924\">\n",
              "  <button class=\"colab-df-quickchart\" onclick=\"quickchart('df-a581afaf-b92a-4213-a732-a34f18cc6924')\"\n",
              "            title=\"Suggest charts\"\n",
              "            style=\"display:none;\">\n",
              "\n",
              "<svg xmlns=\"http://www.w3.org/2000/svg\" height=\"24px\"viewBox=\"0 0 24 24\"\n",
              "     width=\"24px\">\n",
              "    <g>\n",
              "        <path d=\"M19 3H5c-1.1 0-2 .9-2 2v14c0 1.1.9 2 2 2h14c1.1 0 2-.9 2-2V5c0-1.1-.9-2-2-2zM9 17H7v-7h2v7zm4 0h-2V7h2v10zm4 0h-2v-4h2v4z\"/>\n",
              "    </g>\n",
              "</svg>\n",
              "  </button>\n",
              "\n",
              "<style>\n",
              "  .colab-df-quickchart {\n",
              "      --bg-color: #E8F0FE;\n",
              "      --fill-color: #1967D2;\n",
              "      --hover-bg-color: #E2EBFA;\n",
              "      --hover-fill-color: #174EA6;\n",
              "      --disabled-fill-color: #AAA;\n",
              "      --disabled-bg-color: #DDD;\n",
              "  }\n",
              "\n",
              "  [theme=dark] .colab-df-quickchart {\n",
              "      --bg-color: #3B4455;\n",
              "      --fill-color: #D2E3FC;\n",
              "      --hover-bg-color: #434B5C;\n",
              "      --hover-fill-color: #FFFFFF;\n",
              "      --disabled-bg-color: #3B4455;\n",
              "      --disabled-fill-color: #666;\n",
              "  }\n",
              "\n",
              "  .colab-df-quickchart {\n",
              "    background-color: var(--bg-color);\n",
              "    border: none;\n",
              "    border-radius: 50%;\n",
              "    cursor: pointer;\n",
              "    display: none;\n",
              "    fill: var(--fill-color);\n",
              "    height: 32px;\n",
              "    padding: 0;\n",
              "    width: 32px;\n",
              "  }\n",
              "\n",
              "  .colab-df-quickchart:hover {\n",
              "    background-color: var(--hover-bg-color);\n",
              "    box-shadow: 0 1px 2px rgba(60, 64, 67, 0.3), 0 1px 3px 1px rgba(60, 64, 67, 0.15);\n",
              "    fill: var(--button-hover-fill-color);\n",
              "  }\n",
              "\n",
              "  .colab-df-quickchart-complete:disabled,\n",
              "  .colab-df-quickchart-complete:disabled:hover {\n",
              "    background-color: var(--disabled-bg-color);\n",
              "    fill: var(--disabled-fill-color);\n",
              "    box-shadow: none;\n",
              "  }\n",
              "\n",
              "  .colab-df-spinner {\n",
              "    border: 2px solid var(--fill-color);\n",
              "    border-color: transparent;\n",
              "    border-bottom-color: var(--fill-color);\n",
              "    animation:\n",
              "      spin 1s steps(1) infinite;\n",
              "  }\n",
              "\n",
              "  @keyframes spin {\n",
              "    0% {\n",
              "      border-color: transparent;\n",
              "      border-bottom-color: var(--fill-color);\n",
              "      border-left-color: var(--fill-color);\n",
              "    }\n",
              "    20% {\n",
              "      border-color: transparent;\n",
              "      border-left-color: var(--fill-color);\n",
              "      border-top-color: var(--fill-color);\n",
              "    }\n",
              "    30% {\n",
              "      border-color: transparent;\n",
              "      border-left-color: var(--fill-color);\n",
              "      border-top-color: var(--fill-color);\n",
              "      border-right-color: var(--fill-color);\n",
              "    }\n",
              "    40% {\n",
              "      border-color: transparent;\n",
              "      border-right-color: var(--fill-color);\n",
              "      border-top-color: var(--fill-color);\n",
              "    }\n",
              "    60% {\n",
              "      border-color: transparent;\n",
              "      border-right-color: var(--fill-color);\n",
              "    }\n",
              "    80% {\n",
              "      border-color: transparent;\n",
              "      border-right-color: var(--fill-color);\n",
              "      border-bottom-color: var(--fill-color);\n",
              "    }\n",
              "    90% {\n",
              "      border-color: transparent;\n",
              "      border-bottom-color: var(--fill-color);\n",
              "    }\n",
              "  }\n",
              "</style>\n",
              "\n",
              "  <script>\n",
              "    async function quickchart(key) {\n",
              "      const quickchartButtonEl =\n",
              "        document.querySelector('#' + key + ' button');\n",
              "      quickchartButtonEl.disabled = true;  // To prevent multiple clicks.\n",
              "      quickchartButtonEl.classList.add('colab-df-spinner');\n",
              "      try {\n",
              "        const charts = await google.colab.kernel.invokeFunction(\n",
              "            'suggestCharts', [key], {});\n",
              "      } catch (error) {\n",
              "        console.error('Error during call to suggestCharts:', error);\n",
              "      }\n",
              "      quickchartButtonEl.classList.remove('colab-df-spinner');\n",
              "      quickchartButtonEl.classList.add('colab-df-quickchart-complete');\n",
              "    }\n",
              "    (() => {\n",
              "      let quickchartButtonEl =\n",
              "        document.querySelector('#df-a581afaf-b92a-4213-a732-a34f18cc6924 button');\n",
              "      quickchartButtonEl.style.display =\n",
              "        google.colab.kernel.accessAllowed ? 'block' : 'none';\n",
              "    })();\n",
              "  </script>\n",
              "</div>\n",
              "    </div>\n",
              "  </div>\n"
            ]
          },
          "metadata": {},
          "execution_count": 66
        }
      ]
    },
    {
      "cell_type": "code",
      "source": [
        "model_2.summary()"
      ],
      "metadata": {
        "colab": {
          "base_uri": "https://localhost:8080/"
        },
        "id": "k12w-DO7plZx",
        "outputId": "1b458a55-fd72-493d-d7f5-c26702c5215b"
      },
      "execution_count": 67,
      "outputs": [
        {
          "output_type": "stream",
          "name": "stdout",
          "text": [
            "Model: \"sequential_7\"\n",
            "_________________________________________________________________\n",
            " Layer (type)                Output Shape              Param #   \n",
            "=================================================================\n",
            " dense_10 (Dense)            (None, 10)                20        \n",
            "                                                                 \n",
            " dense_11 (Dense)            (None, 1)                 11        \n",
            "                                                                 \n",
            "=================================================================\n",
            "Total params: 31 (124.00 Byte)\n",
            "Trainable params: 31 (124.00 Byte)\n",
            "Non-trainable params: 0 (0.00 Byte)\n",
            "_________________________________________________________________\n"
          ]
        }
      ]
    },
    {
      "cell_type": "markdown",
      "source": [
        "> 🔑 Note: One of your main goals should be to minimize the time between your experiments. The more experiments you do, the more things you'll figure out which don't work and in turn, get closer to figuring out what does work. Remember the machine learning practioner's motto: \"experiment, experiment, experiment\"."
      ],
      "metadata": {
        "id": "d4x03MJVptqq"
      }
    },
    {
      "cell_type": "markdown",
      "source": [
        "## Tracking your experiments\n",
        "One really good habit in machine learning modelling is to track the results of your experiments.\n",
        "\n",
        "And when doing so, it can be tedious if you're running lots of experiments.\n",
        "\n",
        "Luckily, there are tools to help us!\n",
        "\n",
        "📖 **Resource:** As you build more models, you'll want to look into using:\n",
        "\n",
        "* [TensorBoard](https://www.tensorflow.org/tensorboard) - a component of the TensorFlow library to help track modelling experiments (we'll see this one later).\n",
        "* [Weights & Biases](https://www.wandb.com/) - a tool for tracking all of kinds of machine learning experiments (plugs straight into TensorBoard).\n",
        "\n",
        "## Saving our models\n",
        "Saving our models allows us to use them outside of Google Colab (or wherever they were trained) such as in a web application or a mobile app.\n",
        "\n",
        "There are two main formats we can save our model's too:\n",
        "\n",
        "1. The SavedModel format\n",
        "2. The HDF5 format"
      ],
      "metadata": {
        "id": "9a1TGf8zp1Wn"
      }
    },
    {
      "cell_type": "code",
      "source": [
        "# Save model using the SavedModel format\n",
        "model_2.save(\"best_model_SavedModel_format\")"
      ],
      "metadata": {
        "id": "Yvh4T2ZXprGO"
      },
      "execution_count": 68,
      "outputs": []
    },
    {
      "cell_type": "code",
      "source": [
        "# Save model using the HDF5 format\n",
        "model_2.save(\"best_model_HDF5_format.h5\")"
      ],
      "metadata": {
        "colab": {
          "base_uri": "https://localhost:8080/"
        },
        "id": "Tqmd94SWqb8M",
        "outputId": "ab752201-aacc-4b63-bb04-b63364108799"
      },
      "execution_count": 69,
      "outputs": [
        {
          "output_type": "stream",
          "name": "stderr",
          "text": [
            "/usr/local/lib/python3.10/dist-packages/keras/src/engine/training.py:3079: UserWarning: You are saving your model as an HDF5 file via `model.save()`. This file format is considered legacy. We recommend using instead the native Keras format, e.g. `model.save('my_model.keras')`.\n",
            "  saving_api.save_model(\n"
          ]
        }
      ]
    },
    {
      "cell_type": "markdown",
      "source": [
        "## Loading in a saved model"
      ],
      "metadata": {
        "id": "Hr54MLGFqi6Q"
      }
    },
    {
      "cell_type": "code",
      "source": [
        "# Load in the SavedModel format model\n",
        "loaded_SavedModel_format = tf.keras.models.load_model(\"best_model_SavedModel_format\")\n",
        "loaded_SavedModel_format.summary()"
      ],
      "metadata": {
        "colab": {
          "base_uri": "https://localhost:8080/"
        },
        "id": "7lRw3Fp-qe7K",
        "outputId": "e0ba98c5-0c5a-4c16-8d86-f61101bf58e1"
      },
      "execution_count": 70,
      "outputs": [
        {
          "output_type": "stream",
          "name": "stdout",
          "text": [
            "Model: \"sequential_7\"\n",
            "_________________________________________________________________\n",
            " Layer (type)                Output Shape              Param #   \n",
            "=================================================================\n",
            " dense_10 (Dense)            (None, 10)                20        \n",
            "                                                                 \n",
            " dense_11 (Dense)            (None, 1)                 11        \n",
            "                                                                 \n",
            "=================================================================\n",
            "Total params: 31 (124.00 Byte)\n",
            "Trainable params: 31 (124.00 Byte)\n",
            "Non-trainable params: 0 (0.00 Byte)\n",
            "_________________________________________________________________\n"
          ]
        }
      ]
    },
    {
      "cell_type": "code",
      "source": [
        "# Compare model_2 predictions with SavedModel format model predictions\n",
        "model_2_preds = model_2.predict(X_test)\n",
        "loaded_SavedModel_format_preds = loaded_SavedModel_format.predict(X_test)\n",
        "model_2_preds == loaded_SavedModel_format_preds"
      ],
      "metadata": {
        "colab": {
          "base_uri": "https://localhost:8080/"
        },
        "id": "WNWGhUvSqh4q",
        "outputId": "3d6fd7eb-8bee-400a-a66f-836c2a6753ed"
      },
      "execution_count": 71,
      "outputs": [
        {
          "output_type": "stream",
          "name": "stdout",
          "text": [
            "1/1 [==============================] - 0s 143ms/step\n",
            "1/1 [==============================] - 0s 170ms/step\n"
          ]
        },
        {
          "output_type": "execute_result",
          "data": {
            "text/plain": [
              "array([[ True],\n",
              "       [ True],\n",
              "       [ True],\n",
              "       [ True],\n",
              "       [ True],\n",
              "       [ True],\n",
              "       [ True],\n",
              "       [ True],\n",
              "       [ True],\n",
              "       [ True]])"
            ]
          },
          "metadata": {},
          "execution_count": 71
        }
      ]
    },
    {
      "cell_type": "code",
      "source": [
        "# Compare the MAE of model_2 preds and loaded_SavedModel_preds\n",
        "mae(y_true=y_test, y_pred=model_2_preds) == mae(y_true=y_test, y_pred=loaded_SavedModel_format_preds)"
      ],
      "metadata": {
        "colab": {
          "base_uri": "https://localhost:8080/"
        },
        "id": "K4eD3Va-qo23",
        "outputId": "45f652c9-4a65-40e0-99ed-55d9dd981cf7"
      },
      "execution_count": 72,
      "outputs": [
        {
          "output_type": "execute_result",
          "data": {
            "text/plain": [
              "<tf.Tensor: shape=(), dtype=bool, numpy=True>"
            ]
          },
          "metadata": {},
          "execution_count": 72
        }
      ]
    },
    {
      "cell_type": "code",
      "source": [
        "# Load in a model using the .h5 format\n",
        "loaded_h5_model = tf.keras.models.load_model(\"/content/best_model_HDF5_format.h5\")\n",
        "loaded_h5_model.summary()"
      ],
      "metadata": {
        "colab": {
          "base_uri": "https://localhost:8080/"
        },
        "id": "ubPM_4wTqr_P",
        "outputId": "300ff396-db05-48ab-860f-429daf8ee672"
      },
      "execution_count": 73,
      "outputs": [
        {
          "output_type": "stream",
          "name": "stdout",
          "text": [
            "Model: \"sequential_7\"\n",
            "_________________________________________________________________\n",
            " Layer (type)                Output Shape              Param #   \n",
            "=================================================================\n",
            " dense_10 (Dense)            (None, 10)                20        \n",
            "                                                                 \n",
            " dense_11 (Dense)            (None, 1)                 11        \n",
            "                                                                 \n",
            "=================================================================\n",
            "Total params: 31 (124.00 Byte)\n",
            "Trainable params: 31 (124.00 Byte)\n",
            "Non-trainable params: 0 (0.00 Byte)\n",
            "_________________________________________________________________\n"
          ]
        }
      ]
    },
    {
      "cell_type": "code",
      "source": [
        "# Check to see if loaded .h5 model predictions match model_2\n",
        "model_2_preds = model_2.predict(X_test)\n",
        "loaded_h5_model_preds = loaded_h5_model.predict(X_test)\n",
        "model_2_preds == loaded_h5_model_preds"
      ],
      "metadata": {
        "colab": {
          "base_uri": "https://localhost:8080/"
        },
        "id": "Hw2M3jq5quDC",
        "outputId": "a4b37634-ec5f-460a-8c5b-399acac80ca5"
      },
      "execution_count": 74,
      "outputs": [
        {
          "output_type": "stream",
          "name": "stdout",
          "text": [
            "1/1 [==============================] - 0s 17ms/step\n",
            "1/1 [==============================] - 0s 49ms/step\n"
          ]
        },
        {
          "output_type": "execute_result",
          "data": {
            "text/plain": [
              "array([[ True],\n",
              "       [ True],\n",
              "       [ True],\n",
              "       [ True],\n",
              "       [ True],\n",
              "       [ True],\n",
              "       [ True],\n",
              "       [ True],\n",
              "       [ True],\n",
              "       [ True]])"
            ]
          },
          "metadata": {},
          "execution_count": 74
        }
      ]
    },
    {
      "cell_type": "markdown",
      "source": [
        "Download a model (or any other file) from Google Colab\n",
        "If you want to download your files from Google Colab:\n",
        "\n",
        "1. You can go to the \"files\" tab and right click on the file you're after and click \"download\".\n",
        "2. Use code (see the cell below).\n",
        "3. Save it to Google Drive by connecting Google Drive and copying it there (see 2nd code cell below)."
      ],
      "metadata": {
        "id": "5DA7CNlnq0rx"
      }
    },
    {
      "cell_type": "code",
      "source": [
        "# Download a file from Google Colab\n",
        "from google.colab import files\n",
        "files.download(\"/content/best_model_HDF5_format.h5\")"
      ],
      "metadata": {
        "colab": {
          "base_uri": "https://localhost:8080/",
          "height": 17
        },
        "id": "NlIQ04fDqwJa",
        "outputId": "5563cebd-cff2-41eb-cd55-a700b6b4464a"
      },
      "execution_count": 75,
      "outputs": [
        {
          "output_type": "display_data",
          "data": {
            "text/plain": [
              "<IPython.core.display.Javascript object>"
            ],
            "application/javascript": [
              "\n",
              "    async function download(id, filename, size) {\n",
              "      if (!google.colab.kernel.accessAllowed) {\n",
              "        return;\n",
              "      }\n",
              "      const div = document.createElement('div');\n",
              "      const label = document.createElement('label');\n",
              "      label.textContent = `Downloading \"${filename}\": `;\n",
              "      div.appendChild(label);\n",
              "      const progress = document.createElement('progress');\n",
              "      progress.max = size;\n",
              "      div.appendChild(progress);\n",
              "      document.body.appendChild(div);\n",
              "\n",
              "      const buffers = [];\n",
              "      let downloaded = 0;\n",
              "\n",
              "      const channel = await google.colab.kernel.comms.open(id);\n",
              "      // Send a message to notify the kernel that we're ready.\n",
              "      channel.send({})\n",
              "\n",
              "      for await (const message of channel.messages) {\n",
              "        // Send a message to notify the kernel that we're ready.\n",
              "        channel.send({})\n",
              "        if (message.buffers) {\n",
              "          for (const buffer of message.buffers) {\n",
              "            buffers.push(buffer);\n",
              "            downloaded += buffer.byteLength;\n",
              "            progress.value = downloaded;\n",
              "          }\n",
              "        }\n",
              "      }\n",
              "      const blob = new Blob(buffers, {type: 'application/binary'});\n",
              "      const a = document.createElement('a');\n",
              "      a.href = window.URL.createObjectURL(blob);\n",
              "      a.download = filename;\n",
              "      div.appendChild(a);\n",
              "      a.click();\n",
              "      div.remove();\n",
              "    }\n",
              "  "
            ]
          },
          "metadata": {}
        },
        {
          "output_type": "display_data",
          "data": {
            "text/plain": [
              "<IPython.core.display.Javascript object>"
            ],
            "application/javascript": [
              "download(\"download_dbd81f17-726e-477f-a552-e7f95ec1003f\", \"best_model_HDF5_format.h5\", 21952)"
            ]
          },
          "metadata": {}
        }
      ]
    },
    {
      "cell_type": "code",
      "source": [
        "# Save a file from Google Colab to Google Drive (requires mounting Google Drive)\n",
        "!cp /content/best_model_HDF5_format.h5 /content/drive/MyDrive/tensorflow_course"
      ],
      "metadata": {
        "id": "oCjGOsYwq8Jf"
      },
      "execution_count": 76,
      "outputs": []
    },
    {
      "cell_type": "code",
      "source": [
        "!ls /content/drive/MyDrive/tensorflow_course"
      ],
      "metadata": {
        "colab": {
          "base_uri": "https://localhost:8080/"
        },
        "id": "9aySBsfDrGpm",
        "outputId": "ddaacf18-9ac1-4dfb-e75a-555714113d2f"
      },
      "execution_count": 77,
      "outputs": [
        {
          "output_type": "stream",
          "name": "stdout",
          "text": [
            "/content/drive/MyDrive/tensorflow_course\n"
          ]
        }
      ]
    },
    {
      "cell_type": "code",
      "source": [],
      "metadata": {
        "id": "itmdaWrerewe"
      },
      "execution_count": null,
      "outputs": []
    }
  ]
}